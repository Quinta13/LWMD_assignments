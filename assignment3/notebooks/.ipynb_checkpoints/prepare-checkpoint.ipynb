{
 "cells": [
  {
   "cell_type": "code",
   "execution_count": 1,
   "metadata": {
    "ExecuteTime": {
     "end_time": "2023-05-14T12:56:48.016360165Z",
     "start_time": "2023-05-14T12:56:48.006629408Z"
    },
    "collapsed": false,
    "pycharm": {
     "name": "#%%\n"
    }
   },
   "outputs": [],
   "source": [
    "DATA_NAME = \"trec-covid\""
   ]
  },
  {
   "cell_type": "markdown",
   "metadata": {
    "collapsed": false,
    "pycharm": {
     "name": "#%% md\n"
    }
   },
   "source": [
    "## Downloader"
   ]
  },
  {
   "cell_type": "code",
   "execution_count": 2,
   "metadata": {
    "ExecuteTime": {
     "end_time": "2023-05-14T12:56:49.469687325Z",
     "start_time": "2023-05-14T12:56:48.007108290Z"
    },
    "collapsed": false,
    "pycharm": {
     "name": "#%%\n"
    }
   },
   "outputs": [],
   "source": [
    "from assignment3.model.preprocessing import BEIRDatasetDownloader\n",
    "\n",
    "downloader = BEIRDatasetDownloader(data_name=DATA_NAME)"
   ]
  },
  {
   "cell_type": "code",
   "execution_count": 3,
   "metadata": {
    "ExecuteTime": {
     "end_time": "2023-05-14T12:56:49.476417746Z",
     "start_time": "2023-05-14T12:56:49.464112886Z"
    },
    "collapsed": false,
    "pycharm": {
     "name": "#%%\n"
    }
   },
   "outputs": [
    {
     "name": "stdout",
     "output_type": "stream",
     "text": [
      "trec-covid dataset already exists. \n",
      "CPU times: user 1.17 ms, sys: 0 ns, total: 1.17 ms\n",
      "Wall time: 977 µs\n"
     ]
    }
   ],
   "source": [
    "%%time\n",
    "downloader.download()"
   ]
  },
  {
   "cell_type": "markdown",
   "metadata": {
    "collapsed": false
   },
   "source": [
    "## Vectorizer"
   ]
  },
  {
   "cell_type": "code",
   "execution_count": 4,
   "metadata": {
    "ExecuteTime": {
     "end_time": "2023-05-14T12:56:49.487593974Z",
     "start_time": "2023-05-14T12:56:49.484129759Z"
    },
    "collapsed": false,
    "pycharm": {
     "name": "#%%\n"
    }
   },
   "outputs": [],
   "source": [
    "DATA_NAME = \"trec-covid-small\""
   ]
  },
  {
   "cell_type": "code",
   "execution_count": 11,
   "metadata": {
    "ExecuteTime": {
     "end_time": "2023-05-14T12:58:01.702076341Z",
     "start_time": "2023-05-14T12:57:54.334787164Z"
    },
    "collapsed": false,
    "pycharm": {
     "name": "#%%\n"
    }
   },
   "outputs": [
    {
     "name": "stdout",
     "output_type": "stream",
     "text": [
      "Parsing documents. \n",
      "Tokenizing documents. \n",
      "CPU times: user 7.27 s, sys: 85.8 ms, total: 7.36 s\n",
      "Wall time: 7.37 s\n"
     ]
    }
   ],
   "source": [
    "%%time\n",
    "from assignment3.model.preprocessing import DocumentsVectorizer\n",
    "\n",
    "vectorizer = DocumentsVectorizer(data_name=DATA_NAME)"
   ]
  },
  {
   "cell_type": "code",
   "execution_count": 12,
   "metadata": {
    "ExecuteTime": {
     "end_time": "2023-05-14T12:58:05.981799638Z",
     "start_time": "2023-05-14T12:58:05.966367182Z"
    },
    "collapsed": false,
    "pycharm": {
     "name": "#%%\n"
    }
   },
   "outputs": [
    {
     "data": {
      "text/plain": [
       "trec-covid-small Vectorizer [1500 documents]"
      ]
     },
     "execution_count": 12,
     "metadata": {},
     "output_type": "execute_result"
    }
   ],
   "source": [
    "vectorizer"
   ]
  },
  {
   "cell_type": "code",
   "execution_count": 13,
   "metadata": {
    "ExecuteTime": {
     "end_time": "2023-05-14T12:58:07.535037371Z",
     "start_time": "2023-05-14T12:58:06.993639057Z"
    },
    "collapsed": false,
    "pycharm": {
     "name": "#%%\n"
    }
   },
   "outputs": [
    {
     "name": "stdout",
     "output_type": "stream",
     "text": [
      "Learning vocabulary idf. \n",
      "Generating vector. \n",
      "Generating tf-idf mapper\n",
      "Computing document length\n",
      "Generating permutation index\n",
      "Permuting matrix\n",
      "Generating mappings\n",
      "CPU times: user 525 ms, sys: 3.29 ms, total: 528 ms\n",
      "Wall time: 534 ms\n"
     ]
    }
   ],
   "source": [
    "%%time\n",
    "vectorizer.vectorize()"
   ]
  },
  {
   "cell_type": "code",
   "execution_count": 14,
   "metadata": {
    "ExecuteTime": {
     "end_time": "2023-05-14T12:58:08.821816127Z",
     "start_time": "2023-05-14T12:58:08.633061453Z"
    },
    "collapsed": false,
    "pycharm": {
     "name": "#%%\n"
    }
   },
   "outputs": [
    {
     "name": "stdout",
     "output_type": "stream",
     "text": [
      "Saving vector\n",
      "Saving idf permutation\n",
      "Saving mapping\n",
      "Saving inverse mapping\n"
     ]
    }
   ],
   "source": [
    "vectorizer.save()"
   ]
  },
  {
   "cell_type": "markdown",
   "metadata": {
    "collapsed": false,
    "pycharm": {
     "name": "#%% md\n"
    }
   },
   "source": [
    "## Sketching"
   ]
  },
  {
   "cell_type": "code",
   "execution_count": 15,
   "metadata": {
    "ExecuteTime": {
     "end_time": "2023-05-14T12:58:11.234336358Z",
     "start_time": "2023-05-14T12:58:11.197316353Z"
    },
    "collapsed": false,
    "pycharm": {
     "name": "#%%\n"
    }
   },
   "outputs": [],
   "source": [
    "N_HASH = 1"
   ]
  },
  {
   "cell_type": "code",
   "execution_count": 16,
   "metadata": {
    "ExecuteTime": {
     "end_time": "2023-05-14T12:58:17.453260343Z",
     "start_time": "2023-05-14T12:58:11.794249296Z"
    },
    "collapsed": false,
    "pycharm": {
     "name": "#%%\n"
    }
   },
   "outputs": [
    {
     "name": "stdout",
     "output_type": "stream",
     "text": [
      "Parsing documents. \n",
      "Tokenizing documents. \n",
      "CPU times: user 5.61 s, sys: 41.9 ms, total: 5.65 s\n",
      "Wall time: 5.65 s\n"
     ]
    }
   ],
   "source": [
    "%%time\n",
    "from assignment3.model.preprocessing import DocumentsSketching\n",
    "\n",
    "sketching = DocumentsSketching(data_name=DATA_NAME, n_hash=N_HASH)"
   ]
  },
  {
   "cell_type": "code",
   "execution_count": 17,
   "metadata": {
    "ExecuteTime": {
     "end_time": "2023-05-14T12:58:18.579108801Z",
     "start_time": "2023-05-14T12:58:18.538336904Z"
    },
    "collapsed": false,
    "pycharm": {
     "name": "#%%\n"
    }
   },
   "outputs": [
    {
     "data": {
      "text/plain": [
       "trec-covid-small Sketching [1500 docs, 1 hash functions]"
      ]
     },
     "execution_count": 17,
     "metadata": {},
     "output_type": "execute_result"
    }
   ],
   "source": [
    "sketching"
   ]
  },
  {
   "cell_type": "code",
   "execution_count": 18,
   "metadata": {
    "ExecuteTime": {
     "end_time": "2023-05-14T12:58:22.471489955Z",
     "start_time": "2023-05-14T12:58:19.908605967Z"
    },
    "collapsed": false,
    "pycharm": {
     "name": "#%%\n"
    }
   },
   "outputs": [
    {
     "name": "stdout",
     "output_type": "stream",
     "text": [
      "Performing sketching\n",
      "CPU times: user 2.54 s, sys: 23.5 ms, total: 2.56 s\n",
      "Wall time: 2.57 s\n"
     ]
    }
   ],
   "source": [
    "%%time\n",
    "sketching.sketch()"
   ]
  },
  {
   "cell_type": "code",
   "execution_count": 19,
   "metadata": {
    "ExecuteTime": {
     "end_time": "2023-05-14T12:58:23.137207580Z",
     "start_time": "2023-05-14T12:58:23.113572980Z"
    },
    "collapsed": false,
    "pycharm": {
     "name": "#%%\n"
    }
   },
   "outputs": [
    {
     "name": "stdout",
     "output_type": "stream",
     "text": [
      "Saving signatures\n"
     ]
    }
   ],
   "source": [
    "sketching.save()"
   ]
  }
 ],
 "metadata": {
  "kernelspec": {
   "display_name": "Python 3",
   "language": "python",
   "name": "python3"
  },
  "language_info": {
   "codemirror_mode": {
    "name": "ipython",
    "version": 2
   },
   "file_extension": ".py",
   "mimetype": "text/x-python",
   "name": "python",
   "nbconvert_exporter": "python",
   "pygments_lexer": "ipython2",
   "version": "2.7.6"
  }
 },
 "nbformat": 4,
 "nbformat_minor": 0
}
