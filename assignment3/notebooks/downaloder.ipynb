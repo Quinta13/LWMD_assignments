{
 "cells": [
  {
   "cell_type": "code",
   "execution_count": 1,
   "outputs": [],
   "source": [
    "DATA_NAME = \"trec-covid\""
   ],
   "metadata": {
    "collapsed": false,
    "pycharm": {
     "name": "#%%\n"
    }
   }
  },
  {
   "cell_type": "markdown",
   "source": [
    "## Downloader"
   ],
   "metadata": {
    "collapsed": false,
    "pycharm": {
     "name": "#%% md\n"
    }
   }
  },
  {
   "cell_type": "code",
   "execution_count": 2,
   "outputs": [],
   "source": [
    "from model.prepare import BEIRDatasetDownloader\n",
    "\n",
    "downloader = BEIRDatasetDownloader(data_name=DATA_NAME)"
   ],
   "metadata": {
    "collapsed": false,
    "pycharm": {
     "name": "#%%\n"
    }
   }
  },
  {
   "cell_type": "code",
   "execution_count": 3,
   "outputs": [
    {
     "name": "stdout",
     "output_type": "stream",
     "text": [
      "trec-covid dataset already exists. \n",
      "Wall time: 0 ns\n"
     ]
    }
   ],
   "source": [
    "%%time\n",
    "downloader.download()"
   ],
   "metadata": {
    "collapsed": false,
    "pycharm": {
     "name": "#%%\n"
    }
   }
  },
  {
   "cell_type": "markdown",
   "source": [
    "## Vectorizer"
   ],
   "metadata": {
    "collapsed": false
   }
  },
  {
   "cell_type": "code",
   "execution_count": 4,
   "outputs": [
    {
     "name": "stdout",
     "output_type": "stream",
     "text": [
      "Parsing documents. \n",
      "Loading C:\\Users\\user\\Documents\\GitHub\\LWMD_assignments\\assignment3\\datasets\\trec-covid\\corpus.jsonl \n",
      "Tokenizing documents. \n",
      "Wall time: 6.66 s\n"
     ]
    }
   ],
   "source": [
    "%%time\n",
    "from model.prepare import DocumentsVectorizer\n",
    "\n",
    "vectorizer = DocumentsVectorizer(data_name=DATA_NAME)"
   ],
   "metadata": {
    "collapsed": false,
    "pycharm": {
     "name": "#%%\n"
    }
   }
  },
  {
   "cell_type": "code",
   "execution_count": 5,
   "outputs": [
    {
     "name": "stdout",
     "output_type": "stream",
     "text": [
      "Learning vocabulary idf. \n",
      "Generating vector. \n",
      "Computing document length\n",
      "Generating permutation index\n",
      "Permuting matrix\n",
      "Generating mappings\n",
      "Wall time: 375 ms\n"
     ]
    }
   ],
   "source": [
    "%%time\n",
    "vectorizer.vectorize()"
   ],
   "metadata": {
    "collapsed": false,
    "pycharm": {
     "name": "#%%\n"
    }
   }
  },
  {
   "cell_type": "code",
   "execution_count": 6,
   "outputs": [
    {
     "name": "stdout",
     "output_type": "stream",
     "text": [
      "Saving C:\\Users\\user\\Documents\\GitHub\\LWMD_assignments\\assignment3\\datasets\\trec-covid\\vector\\vectorized.npz \n",
      "Saving C:\\Users\\user\\Documents\\GitHub\\LWMD_assignments\\assignment3\\datasets\\trec-covid\\vector\\vectorization_mapping.json \n",
      "Saving C:\\Users\\user\\Documents\\GitHub\\LWMD_assignments\\assignment3\\datasets\\trec-covid\\vector\\vectorization_inverse_mapping.json \n"
     ]
    }
   ],
   "source": [
    "vectorizer.save()"
   ],
   "metadata": {
    "collapsed": false,
    "pycharm": {
     "name": "#%%\n"
    }
   }
  },
  {
   "cell_type": "markdown",
   "source": [
    "## Comparison"
   ],
   "metadata": {
    "collapsed": false
   }
  },
  {
   "cell_type": "code",
   "execution_count": 7,
   "outputs": [
    {
     "name": "stdout",
     "output_type": "stream",
     "text": [
      "Parsing documents. \n",
      "Loading C:\\Users\\user\\Documents\\GitHub\\LWMD_assignments\\assignment3\\datasets\\trec-covid\\corpus.jsonl \n"
     ]
    }
   ],
   "source": [
    "from model.documents import DocumentsCollection\n",
    "\n",
    "docs = DocumentsCollection(data_name=DATA_NAME)"
   ],
   "metadata": {
    "collapsed": false,
    "pycharm": {
     "name": "#%%\n"
    }
   }
  },
  {
   "cell_type": "code",
   "execution_count": 8,
   "outputs": [
    {
     "data": {
      "text/plain": "Document: ug7v899j"
     },
     "execution_count": 8,
     "metadata": {},
     "output_type": "execute_result"
    }
   ],
   "source": [
    "docs.get_document(id_=docs.doc_ids[0])"
   ],
   "metadata": {
    "collapsed": false,
    "pycharm": {
     "name": "#%%\n"
    }
   }
  },
  {
   "cell_type": "code",
   "execution_count": 9,
   "outputs": [
    {
     "name": "stdout",
     "output_type": "stream",
     "text": [
      "Document ug7v899j: \n",
      "OBJECTIVE: This retrospective chart review describes the epidemiology and clinical features of 40 patients with culture-proven Mycoplasma pneumoniae infections at King Abdulaziz University Hospital, Jeddah, Saudi Arabia. METHODS: Patients with positive M. pneumoniae cultures from respiratory specimens from January 1997 through December 1998 were identified through the Microbiology records. Charts of patients were reviewed. RESULTS: 40 patients were identified, 33 (82.5%) of whom required admission. Most infections (92.5%) were community-acquired. The infection affected all age groups but was most common in infants (32.5%) and pre-school children (22.5%). It occurred year-round but was most common in the fall (35%) and spring (30%). More than three-quarters of patients (77.5%) had comorbidities. Twenty-four isolates (60%) were associated with pneumonia, 14 (35%) with upper respiratory tract infections, and 2 (5%) with bronchiolitis. Cough (82.5%), fever (75%), and malaise (58.8%) were the most common symptoms, and crepitations (60%), and wheezes (40%) were the most common signs. Most patients with pneumonia had crepitations (79.2%) but only 25% had bronchial breathing. Immunocompromised patients were more likely than non-immunocompromised patients to present with pneumonia (8/9 versus 16/31, P = 0.05). Of the 24 patients with pneumonia, 14 (58.3%) had uneventful recovery, 4 (16.7%) recovered following some complications, 3 (12.5%) died because of M pneumoniae infection, and 3 (12.5%) died due to underlying comorbidities. The 3 patients who died of M pneumoniae pneumonia had other comorbidities. CONCLUSION: our results were similar to published data except for the finding that infections were more common in infants and preschool children and that the mortality rate of pneumonia in patients with comorbidities was high.\n",
      "\n",
      "Document 02tnwd4m: \n",
      "Inflammatory diseases of the respiratory tract are commonly associated with elevated production of nitric oxide (NO•) and increased indices of NO• -dependent oxidative stress. Although NO• is known to have anti-microbial, anti-inflammatory and anti-oxidant properties, various lines of evidence support the contribution of NO• to lung injury in several disease models. On the basis of biochemical evidence, it is often presumed that such NO• -dependent oxidations are due to the formation of the oxidant peroxynitrite, although alternative mechanisms involving the phagocyte-derived heme proteins myeloperoxidase and eosinophil peroxidase might be operative during conditions of inflammation. Because of the overwhelming literature on NO• generation and activities in the respiratory tract, it would be beyond the scope of this commentary to review this area comprehensively. Instead, it focuses on recent evidence and concepts of the presumed contribution of NO• to inflammatory diseases of the lung.\n",
      "\n"
     ]
    }
   ],
   "source": [
    "docs.content_comparison(ids=(docs.doc_ids[0], docs.doc_ids[1]))"
   ],
   "metadata": {
    "collapsed": false,
    "pycharm": {
     "name": "#%%\n"
    }
   }
  },
  {
   "cell_type": "markdown",
   "source": [
    "## Dimensionality reduction"
   ],
   "metadata": {
    "collapsed": false
   }
  },
  {
   "cell_type": "code",
   "execution_count": 10,
   "outputs": [
    {
     "name": "stdout",
     "output_type": "stream",
     "text": [
      "Loading vectors. \n",
      "Loading C:\\Users\\user\\Documents\\GitHub\\LWMD_assignments\\assignment3\\datasets\\trec-covid\\vector\\vectorized.npz \n",
      "Loading mapping. \n",
      "Loading C:\\Users\\user\\Documents\\GitHub\\LWMD_assignments\\assignment3\\datasets\\trec-covid\\vector\\vectorization_mapping.json \n",
      "Loading inverse mapping. \n",
      "Loading C:\\Users\\user\\Documents\\GitHub\\LWMD_assignments\\assignment3\\datasets\\trec-covid\\vector\\vectorization_inverse_mapping.json \n"
     ]
    }
   ],
   "source": [
    "from model.documents import DocumentVectors\n",
    "\n",
    "dv = DocumentVectors(data_name=DATA_NAME)"
   ],
   "metadata": {
    "collapsed": false,
    "pycharm": {
     "name": "#%%\n"
    }
   }
  },
  {
   "cell_type": "code",
   "execution_count": 11,
   "outputs": [
    {
     "data": {
      "text/plain": "<1000x10360 sparse matrix of type '<class 'numpy.float64'>'\n\twith 82002 stored elements in Compressed Sparse Row format>"
     },
     "execution_count": 11,
     "metadata": {},
     "output_type": "execute_result"
    }
   ],
   "source": [
    "dv.vectors"
   ],
   "metadata": {
    "collapsed": false,
    "pycharm": {
     "name": "#%%\n"
    }
   }
  },
  {
   "cell_type": "code",
   "execution_count": 12,
   "outputs": [
    {
     "data": {
      "text/plain": "['sxdstw4a', 98]"
     },
     "execution_count": 12,
     "metadata": {},
     "output_type": "execute_result"
    }
   ],
   "source": [
    "dv.get_row_info(row=326)"
   ],
   "metadata": {
    "collapsed": false,
    "pycharm": {
     "name": "#%%\n"
    }
   }
  },
  {
   "cell_type": "code",
   "execution_count": 13,
   "outputs": [
    {
     "data": {
      "text/plain": "326"
     },
     "execution_count": 13,
     "metadata": {},
     "output_type": "execute_result"
    }
   ],
   "source": [
    "dv.get_doc_row(doc_id='sxdstw4a')"
   ],
   "metadata": {
    "collapsed": false,
    "pycharm": {
     "name": "#%%\n"
    }
   }
  },
  {
   "cell_type": "code",
   "execution_count": 14,
   "outputs": [
    {
     "name": "stdout",
     "output_type": "stream",
     "text": [
      "Wall time: 1.03 s\n"
     ]
    }
   ],
   "source": [
    "%%time\n",
    "dv.perform_dimensionality_reduction(new_dim=20)"
   ],
   "metadata": {
    "collapsed": false,
    "pycharm": {
     "name": "#%%\n"
    }
   }
  },
  {
   "cell_type": "code",
   "execution_count": 15,
   "outputs": [
    {
     "data": {
      "text/plain": "array([[ 0.18391328, -0.01438054,  0.10168957, ...,  0.01999485,\n        -0.03988555, -0.02960575],\n       [ 0.21629227, -0.11306294,  0.25950149, ...,  0.03137865,\n        -0.06586437, -0.10656926],\n       [ 0.25667586,  0.09295038, -0.1463625 , ...,  0.0048079 ,\n         0.04430867, -0.02935193],\n       ...,\n       [-0.01222098, -0.07102374, -0.02499673, ..., -0.02226886,\n         0.0077969 , -0.0075583 ],\n       [-0.01222098, -0.07102374, -0.02499673, ..., -0.02226886,\n         0.0077969 , -0.0075583 ],\n       [-0.01222098, -0.07102374, -0.02499673, ..., -0.02226886,\n         0.0077969 , -0.0075583 ]])"
     },
     "execution_count": 15,
     "metadata": {},
     "output_type": "execute_result"
    }
   ],
   "source": [
    "dv.vectors_reduced"
   ],
   "metadata": {
    "collapsed": false,
    "pycharm": {
     "name": "#%%\n"
    }
   }
  },
  {
   "cell_type": "markdown",
   "source": [
    "## Evaluation"
   ],
   "metadata": {
    "collapsed": false,
    "pycharm": {
     "name": "#%% md\n"
    }
   }
  },
  {
   "cell_type": "code",
   "execution_count": 16,
   "outputs": [
    {
     "name": "stdout",
     "output_type": "stream",
     "text": [
      "Loading vectors. \n",
      "Loading C:\\Users\\user\\Documents\\GitHub\\LWMD_assignments\\assignment3\\datasets\\trec-covid\\vector\\vectorized.npz \n",
      "Loading mapping. \n",
      "Loading C:\\Users\\user\\Documents\\GitHub\\LWMD_assignments\\assignment3\\datasets\\trec-covid\\vector\\vectorization_mapping.json \n",
      "Loading inverse mapping. \n",
      "Loading C:\\Users\\user\\Documents\\GitHub\\LWMD_assignments\\assignment3\\datasets\\trec-covid\\vector\\vectorization_inverse_mapping.json \n"
     ]
    }
   ],
   "source": [
    "from model.evaluation import ExactSolutionEvaluation\n",
    "\n",
    "eval_ = ExactSolutionEvaluation(data_name=DATA_NAME)"
   ],
   "metadata": {
    "collapsed": false,
    "pycharm": {
     "name": "#%%\n"
    }
   }
  },
  {
   "cell_type": "code",
   "execution_count": 17,
   "outputs": [
    {
     "name": "stdout",
     "output_type": "stream",
     "text": [
      "Evaluating. \n"
     ]
    }
   ],
   "source": [
    "eval_.evaluate(threshold=0.7)"
   ],
   "metadata": {
    "collapsed": false,
    "pycharm": {
     "name": "#%%\n"
    }
   }
  },
  {
   "cell_type": "code",
   "execution_count": 18,
   "outputs": [
    {
     "data": {
      "text/plain": "[('tkfozwpf', 'zpk3gjwo')]"
     },
     "execution_count": 18,
     "metadata": {},
     "output_type": "execute_result"
    }
   ],
   "source": [
    "eval_.pairs"
   ],
   "metadata": {
    "collapsed": false,
    "pycharm": {
     "name": "#%%\n"
    }
   }
  },
  {
   "cell_type": "code",
   "execution_count": 19,
   "outputs": [
    {
     "name": "stdout",
     "output_type": "stream",
     "text": [
      "Parsing documents. \n",
      "Loading C:\\Users\\user\\Documents\\GitHub\\LWMD_assignments\\assignment3\\datasets\\trec-covid\\corpus.jsonl \n"
     ]
    }
   ],
   "source": [
    "from model.documents import DocumentsCollection\n",
    "\n",
    "docs = DocumentsCollection(data_name=DATA_NAME)"
   ],
   "metadata": {
    "collapsed": false,
    "pycharm": {
     "name": "#%%\n"
    }
   }
  },
  {
   "cell_type": "code",
   "execution_count": 20,
   "outputs": [
    {
     "name": "stdout",
     "output_type": "stream",
     "text": [
      "Document tkfozwpf: \n",
      "Host factors are recruited into viral replicase complexes to aid replication of plus-strand RNA viruses. In this paper, we show that deletion of eukaryotic translation elongation factor 1Bgamma (eEF1Bγ) reduces Tomato bushy stunt virus (TBSV) replication in yeast host. Also, knock down of eEF1Bγ level in plant host decreases TBSV accumulation. eEF1Bγ binds to the viral RNA and is one of the resident host proteins in the tombusvirus replicase complex. Additional in vitro assays with whole cell extracts prepared from yeast strains lacking eEF1Bγ demonstrated its role in minus-strand synthesis by opening of the structured 3′ end of the viral RNA and reducing the possibility of re-utilization of (+)-strand templates for repeated (-)-strand synthesis within the replicase. We also show that eEF1Bγ plays a synergistic role with eukaryotic translation elongation factor 1A in tombusvirus replication, possibly via stimulation of the proper positioning of the viral RNA-dependent RNA polymerase over the promoter region in the viral RNA template.These roles for translation factors during TBSV replication are separate from their canonical roles in host and viral protein translation.\n",
      "\n",
      "Document zpk3gjwo: \n",
      "Replication of plus-strand RNA viruses depends on host factors that are recruited into viral replicase complexes. Previous studies showed that eukaryotic translation elongation factor (eEF1A) is one of the resident host proteins in the highly purified tombusvirus replicase complex. Using a random library of eEF1A mutants, we identified one mutant that decreased and three mutants that increased Tomato bushy stunt virus (TBSV) replication in a yeast model host. Additional in vitro assays with whole cell extracts prepared from yeast strains expressing the eEF1A mutants demonstrated several functions for eEF1A in TBSV replication: facilitating the recruitment of the viral RNA template into the replicase complex; the assembly of the viral replicase complex; and enhancement of the minus-strand synthesis by promoting the initiation step. These roles for eEF1A are separate from its canonical role in host and viral protein translation, emphasizing critical functions for this abundant cellular protein during TBSV replication.\n",
      "\n"
     ]
    }
   ],
   "source": [
    "docs.content_comparison(ids=eval_.pairs[0])"
   ],
   "metadata": {
    "collapsed": false,
    "pycharm": {
     "name": "#%%\n"
    }
   }
  },
  {
   "cell_type": "code",
   "execution_count": 21,
   "outputs": [
    {
     "name": "stdout",
     "output_type": "stream",
     "text": [
      "Saving pairs. \n",
      "Creating directory C:\\Users\\user\\Documents\\GitHub\\LWMD_assignments\\assignment3\\datasets\\trec-covid\\evaluation \n",
      "Saving C:\\Users\\user\\Documents\\GitHub\\LWMD_assignments\\assignment3\\datasets\\trec-covid\\evaluation\\exact_solution.json \n"
     ]
    }
   ],
   "source": [
    "eval_.save()"
   ],
   "metadata": {
    "collapsed": false,
    "pycharm": {
     "name": "#%%\n"
    }
   }
  }
 ],
 "metadata": {
  "kernelspec": {
   "display_name": "Python 3",
   "language": "python",
   "name": "python3"
  },
  "language_info": {
   "codemirror_mode": {
    "name": "ipython",
    "version": 2
   },
   "file_extension": ".py",
   "mimetype": "text/x-python",
   "name": "python",
   "nbconvert_exporter": "python",
   "pygments_lexer": "ipython2",
   "version": "2.7.6"
  }
 },
 "nbformat": 4,
 "nbformat_minor": 0
}