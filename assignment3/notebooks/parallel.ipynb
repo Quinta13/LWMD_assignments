{
 "cells": [
  {
   "cell_type": "code",
   "execution_count": 1,
   "outputs": [],
   "source": [
    "import sys\n",
    "sys.path.append('/home/sebaq/Documents/GitHub/LWMD_assignments')"
   ],
   "metadata": {
    "collapsed": false,
    "ExecuteTime": {
     "end_time": "2023-05-25T18:13:30.273326186Z",
     "start_time": "2023-05-25T18:13:29.815704540Z"
    }
   }
  },
  {
   "cell_type": "markdown",
   "source": [
    "## Definition of Map and Reduce functions"
   ],
   "metadata": {
    "collapsed": false
   }
  },
  {
   "cell_type": "code",
   "execution_count": 2,
   "outputs": [],
   "source": [
    "def document_map(\n",
    "        doc_info: tuple[str, int, list[tuple[int, float]]]\n",
    ") -> list[tuple[str, tuple[str, int, list[tuple[int, float]]]]]:\n",
    "    \"\"\"\n",
    "    Mapping function\n",
    "    :param doc_info: document information is represented as a triple:\n",
    "        - doc-id, represented as a string\n",
    "        - term-threshold, referring to the index of a specific column up to which do not map terms\n",
    "        - document vector, a sparse vector as a list of pairs (column, value) for each non-zero entries,\n",
    "            where the column is actually a term-id\n",
    "    :return: list of key-value pairs:\n",
    "        - key: term-id, which is actually a column index\n",
    "        - value: consists of a triple:\n",
    "            - doc-id  (the same as input)\n",
    "            - term-id (the same as the key)\n",
    "            - document vector (the same as input)\n",
    "    \"\"\"\n",
    "\n",
    "    # unpacking\n",
    "    doc_id: str\n",
    "    term_threshold: int\n",
    "    sparse_entries: list[tuple[int, float]]\n",
    "    doc_id, term_threshold, sparse_entries = doc_info\n",
    "\n",
    "    mapped: list[tuple[str, tuple[str, int, list[tuple[int, float]]]]] = [\n",
    "\n",
    "        (str(term_id), (doc_id, term_id, sparse_entries))\n",
    "        for term_id, value in sparse_entries  # document terms by using non-zero entries\n",
    "        if term_id > term_threshold  # OPTIMIZATION 1:\n",
    "        # we only map term with higher term-id with respect to the threshold one\n",
    "        #  (thus, we only consider columns after the threshold one)\n",
    "    ]\n",
    "\n",
    "    return mapped"
   ],
   "metadata": {
    "collapsed": false,
    "ExecuteTime": {
     "end_time": "2023-05-25T18:13:30.312050390Z",
     "start_time": "2023-05-25T18:13:29.834471656Z"
    }
   }
  },
  {
   "cell_type": "code",
   "execution_count": 3,
   "outputs": [],
   "source": [
    "def documents_reduce(docs: list[tuple[int, int, list[tuple[int, float]]]]) -> list[tuple[tuple[int, int], float]]:\n",
    "    \"\"\"\n",
    "    Reduce function\n",
    "    :param docs: list of triplets:\n",
    "        - doc-id\n",
    "        - term-id (actually a column index of the vector)\n",
    "        - document vector as a sparse matrix of pairs (column, value)\n",
    "    :return: list of tuples:\n",
    "        - the first element is the pair of documents represented by their doc-id\n",
    "        - the second element represent their cosine-similarity\n",
    "    \"\"\"\n",
    "\n",
    "    # list of output pairs\n",
    "    pairs = []\n",
    "\n",
    "    # DOC-SIZE HEURISTIC pt. 1 - sort items for document length\n",
    "    # docs = sorted(docs, key=lambda x: len(x[2]), reverse=True)\n",
    "\n",
    "    # total number of documents\n",
    "    n_docs = len(docs)\n",
    "\n",
    "    # loop among all possible pairs\n",
    "    for i in range(n_docs - 1):\n",
    "\n",
    "        doc1_id, term_id, doc1 = docs[i]\n",
    "\n",
    "        for j in range(i + 1, n_docs):\n",
    "\n",
    "            doc2_id, _, doc2 = docs[j]  # since the operation is an aggregation by key,\n",
    "            # term_id is expected to be the same\n",
    "\n",
    "            # DOC-SIZE HEURISTIC pt. 2 - skip if too-high length mismatch\n",
    "            # if len(doc1) / len(doc2) > 1.3:\n",
    "            #     break\n",
    "\n",
    "            # ----------------- OPTIMIZATION 2 -----------------\n",
    "\n",
    "            # collect term-ids of each document\n",
    "            terms_1: list[int] = [t_id1 for t_id1, _ in doc1]  # term-ids for the first document\n",
    "            terms_2: list[int] = [t_id2 for t_id2, _ in doc2]  # term-ids for the second document\n",
    "\n",
    "            # perform their intersection\n",
    "            common_terms: set[int] = set(terms_1).intersection(terms_2)\n",
    "\n",
    "            # get the maximum term-id\n",
    "            max_term: int = max(common_terms)\n",
    "\n",
    "            # if the maximum term-id is not the same of aggregation key, skip similarity computation\n",
    "            if term_id != max_term:\n",
    "                pass\n",
    "\n",
    "            # --------------------------------------------------\n",
    "\n",
    "            # Computing similarity with dot-product\n",
    "\n",
    "            # getting iterator\n",
    "            iter_doc1 = iter(doc1)\n",
    "            iter_doc2 = iter(doc2)\n",
    "\n",
    "            # we assume documents with at least on term\n",
    "            term1, value1 = next(iter_doc1)\n",
    "            term2, value2 = next(iter_doc2)\n",
    "\n",
    "            sim = 0.  # total similarity\n",
    "\n",
    "            # we use iterators to keep a pointer over term-ids of the two vectors\n",
    "            # if they have the same term-id, we add its contribution to the cumulative sum and we move both pointers over\n",
    "            # otherwise we move over the one with smallest term-id\n",
    "\n",
    "            while True:\n",
    "\n",
    "                try:\n",
    "                    if term1 == term2:  # they have common term-id; we add its contribution to final similarity\n",
    "                        sim += value1 * value2\n",
    "                        term1, value1 = next(iter_doc1)\n",
    "                        term2, value2 = next(iter_doc2)\n",
    "                    elif term1 < term2:  # the first one has a smaller term-id\n",
    "                        term1, value1 = next(iter_doc1)\n",
    "                    else:  # the second one has a smaller term-id\n",
    "                        term2, value2 = next(iter_doc2)\n",
    "                except StopIteration:  # we scanned all terms of one of the vectors so there's no more term in common\n",
    "                    break\n",
    "\n",
    "            # we add the pairwise similarity to final output\n",
    "            pairs.append(((doc1_id, doc2_id), sim))\n",
    "\n",
    "    return pairs\n"
   ],
   "metadata": {
    "collapsed": false,
    "ExecuteTime": {
     "end_time": "2023-05-25T18:13:30.336151872Z",
     "start_time": "2023-05-25T18:13:29.844838710Z"
    }
   }
  },
  {
   "cell_type": "code",
   "execution_count": 4,
   "outputs": [],
   "source": [
    "from assignment3.utils import jaccard\n",
    "from assignment3.io_ import load_evaluation, get_exact_solution_file\n",
    "from typing import List, Tuple\n",
    "\n",
    "def compare_with_exact(data_name: str, collected_: List[Tuple[str, str]]) -> float:\n",
    "    \"\"\"\n",
    "    Compares results coming from spark to sequential execution\n",
    "    :param data_name: name of dataset\n",
    "    :param collected_: pairs of similar docs from spark\n",
    "    :return: jaccard similarity with exact solution\n",
    "    \"\"\"\n",
    "\n",
    "    exact = load_evaluation(path_=get_exact_solution_file(data_name=data_name))['pairs']\n",
    "    exact = [(a, b) for a, b in exact]\n",
    "\n",
    "    return jaccard(set(collected_), set(exact))\n"
   ],
   "metadata": {
    "collapsed": false,
    "ExecuteTime": {
     "end_time": "2023-05-25T18:13:31.945053181Z",
     "start_time": "2023-05-25T18:13:29.860534689Z"
    }
   }
  },
  {
   "cell_type": "markdown",
   "source": [
    "## Evaluation over small example"
   ],
   "metadata": {
    "collapsed": false
   }
  },
  {
   "cell_type": "code",
   "execution_count": 5,
   "outputs": [],
   "source": [
    "DATA_NAME = 'small'"
   ],
   "metadata": {
    "collapsed": false,
    "ExecuteTime": {
     "end_time": "2023-05-25T18:13:31.946807386Z",
     "start_time": "2023-05-25T18:13:31.944676710Z"
    }
   }
  },
  {
   "cell_type": "code",
   "execution_count": 6,
   "outputs": [],
   "source": [
    "SIMILARITY = 0.8"
   ],
   "metadata": {
    "collapsed": false,
    "ExecuteTime": {
     "end_time": "2023-05-25T18:13:31.947764458Z",
     "start_time": "2023-05-25T18:13:31.946488831Z"
    }
   }
  },
  {
   "cell_type": "code",
   "execution_count": 7,
   "outputs": [],
   "source": [
    "IDF_ORDER = True"
   ],
   "metadata": {
    "collapsed": false,
    "ExecuteTime": {
     "end_time": "2023-05-25T18:13:31.952151984Z",
     "start_time": "2023-05-25T18:13:31.947202038Z"
    }
   }
  },
  {
   "cell_type": "markdown",
   "source": [
    "### Loading document info"
   ],
   "metadata": {
    "collapsed": false
   }
  },
  {
   "cell_type": "code",
   "execution_count": 8,
   "outputs": [
    {
     "name": "stdout",
     "output_type": "stream",
     "text": [
      "Loading vectors... \n",
      "Loading mapping... \n",
      "Loading inverse mapping... \n"
     ]
    }
   ],
   "source": [
    "from assignment3.model.documents import DocumentVectors\n",
    "docs_vet = DocumentVectors(data_name=DATA_NAME, idf_order=True)"
   ],
   "metadata": {
    "collapsed": false,
    "ExecuteTime": {
     "end_time": "2023-05-25T18:13:32.059994269Z",
     "start_time": "2023-05-25T18:13:31.948225943Z"
    }
   }
  },
  {
   "cell_type": "code",
   "execution_count": 9,
   "outputs": [
    {
     "data": {
      "text/plain": "small Vector Documents [4735]"
     },
     "execution_count": 9,
     "metadata": {},
     "output_type": "execute_result"
    }
   ],
   "source": [
    "docs_vet"
   ],
   "metadata": {
    "collapsed": false,
    "ExecuteTime": {
     "end_time": "2023-05-25T18:13:32.130908501Z",
     "start_time": "2023-05-25T18:13:32.068307036Z"
    }
   }
  },
  {
   "cell_type": "code",
   "execution_count": 10,
   "outputs": [],
   "source": [
    "docs_info = docs_vet.get_documents_info(similarity=SIMILARITY)"
   ],
   "metadata": {
    "collapsed": false,
    "ExecuteTime": {
     "end_time": "2023-05-25T18:13:35.614661691Z",
     "start_time": "2023-05-25T18:13:32.116446456Z"
    }
   }
  },
  {
   "cell_type": "markdown",
   "source": [
    "### Spark"
   ],
   "metadata": {
    "collapsed": false
   }
  },
  {
   "cell_type": "code",
   "execution_count": 11,
   "outputs": [],
   "source": [
    "rdd = sc.parallelize(docs_info)"
   ],
   "metadata": {
    "collapsed": false,
    "ExecuteTime": {
     "end_time": "2023-05-25T18:13:36.103147336Z",
     "start_time": "2023-05-25T18:13:35.621724657Z"
    }
   }
  },
  {
   "cell_type": "code",
   "execution_count": 12,
   "outputs": [],
   "source": [
    "out = rdd.flatMap(document_map).\\\n",
    "    combineByKey(lambda x: [x], lambda x, y: x + [y], lambda x, y: x + y).\\\n",
    "    flatMapValues(documents_reduce).\\\n",
    "    filter(lambda x: x[1][1] > SIMILARITY).\\\n",
    "    map(lambda x: x[1][0]).\\\n",
    "    distinct()"
   ],
   "metadata": {
    "collapsed": false,
    "ExecuteTime": {
     "end_time": "2023-05-25T18:13:36.252582742Z",
     "start_time": "2023-05-25T18:13:36.108393975Z"
    }
   }
  },
  {
   "cell_type": "code",
   "execution_count": 13,
   "outputs": [
    {
     "name": "stderr",
     "output_type": "stream",
     "text": [
      "23/05/25 20:13:36 WARN TaskSetManager: Stage 0 contains a task of very large size (2112 KiB). The maximum recommended task size is 1000 KiB.\n",
      "                                                                                \r"
     ]
    }
   ],
   "source": [
    "collected = out.collect()"
   ],
   "metadata": {
    "collapsed": false,
    "ExecuteTime": {
     "end_time": "2023-05-25T18:18:51.681599060Z",
     "start_time": "2023-05-25T18:13:36.258271452Z"
    }
   }
  },
  {
   "cell_type": "code",
   "execution_count": 14,
   "outputs": [
    {
     "data": {
      "text/plain": "[('x11t9pbv', 'cgx90xnt'),\n ('l9cms7ux', 'ck21e69s'),\n ('1czjl0hz', 'uqr00nzd'),\n ('ny59r4qe', '4tt0vnr4'),\n ('7krf1yxz', '9ofqelrm'),\n ('1czjl0hz', '5vpzgzvz'),\n ('76uk9tj5', 'qxo82jkv')]"
     },
     "execution_count": 14,
     "metadata": {},
     "output_type": "execute_result"
    }
   ],
   "source": [
    "collected"
   ],
   "metadata": {
    "collapsed": false,
    "ExecuteTime": {
     "end_time": "2023-05-25T18:18:51.725876494Z",
     "start_time": "2023-05-25T18:18:51.690432144Z"
    }
   }
  },
  {
   "cell_type": "code",
   "execution_count": 15,
   "outputs": [
    {
     "data": {
      "text/plain": "1.0"
     },
     "execution_count": 15,
     "metadata": {},
     "output_type": "execute_result"
    }
   ],
   "source": [
    "compare_with_exact(data_name=DATA_NAME, collected_=collected)"
   ],
   "metadata": {
    "collapsed": false,
    "ExecuteTime": {
     "end_time": "2023-05-25T18:18:51.727841257Z",
     "start_time": "2023-05-25T18:18:51.709930362Z"
    }
   }
  },
  {
   "cell_type": "markdown",
   "source": [
    "## Evaluation over medium example"
   ],
   "metadata": {
    "collapsed": false
   }
  },
  {
   "cell_type": "code",
   "execution_count": 16,
   "outputs": [],
   "source": [
    "DATA_NAME = 'medium'"
   ],
   "metadata": {
    "collapsed": false,
    "ExecuteTime": {
     "end_time": "2023-05-25T18:18:51.759251697Z",
     "start_time": "2023-05-25T18:18:51.723130948Z"
    }
   }
  },
  {
   "cell_type": "code",
   "execution_count": 17,
   "outputs": [],
   "source": [
    "SIMILARITY = 0.85"
   ],
   "metadata": {
    "collapsed": false,
    "ExecuteTime": {
     "end_time": "2023-05-25T18:18:51.855234015Z",
     "start_time": "2023-05-25T18:18:51.772704117Z"
    }
   }
  },
  {
   "cell_type": "code",
   "execution_count": 18,
   "outputs": [],
   "source": [
    "IDF_ORDER = True"
   ],
   "metadata": {
    "collapsed": false,
    "ExecuteTime": {
     "end_time": "2023-05-25T18:18:51.873859545Z",
     "start_time": "2023-05-25T18:18:51.772992006Z"
    }
   }
  },
  {
   "cell_type": "markdown",
   "source": [
    "### Loading document info"
   ],
   "metadata": {
    "collapsed": false
   }
  },
  {
   "cell_type": "code",
   "execution_count": 19,
   "outputs": [
    {
     "name": "stdout",
     "output_type": "stream",
     "text": [
      "Loading vectors... \n",
      "Loading mapping... \n",
      "Loading inverse mapping... \n"
     ]
    }
   ],
   "source": [
    "from assignment3.model.documents import DocumentVectors\n",
    "docs_vet = DocumentVectors(data_name=DATA_NAME, idf_order=True)"
   ],
   "metadata": {
    "collapsed": false,
    "ExecuteTime": {
     "end_time": "2023-05-25T18:18:51.956120287Z",
     "start_time": "2023-05-25T18:18:51.773163541Z"
    }
   }
  },
  {
   "cell_type": "code",
   "execution_count": 20,
   "outputs": [
    {
     "data": {
      "text/plain": "medium Vector Documents [9374]"
     },
     "execution_count": 20,
     "metadata": {},
     "output_type": "execute_result"
    }
   ],
   "source": [
    "docs_vet"
   ],
   "metadata": {
    "collapsed": false,
    "ExecuteTime": {
     "end_time": "2023-05-25T18:18:51.966541825Z",
     "start_time": "2023-05-25T18:18:51.952940275Z"
    }
   }
  },
  {
   "cell_type": "code",
   "execution_count": 21,
   "outputs": [],
   "source": [
    "docs_info = docs_vet.get_documents_info(similarity=SIMILARITY)"
   ],
   "metadata": {
    "collapsed": false,
    "ExecuteTime": {
     "end_time": "2023-05-25T18:18:57.085375379Z",
     "start_time": "2023-05-25T18:18:51.962024935Z"
    }
   }
  },
  {
   "cell_type": "markdown",
   "source": [
    "### Spark"
   ],
   "metadata": {
    "collapsed": false
   }
  },
  {
   "cell_type": "code",
   "execution_count": 22,
   "outputs": [],
   "source": [
    "rdd = sc.parallelize(docs_info)"
   ],
   "metadata": {
    "collapsed": false,
    "ExecuteTime": {
     "end_time": "2023-05-25T18:18:57.344462796Z",
     "start_time": "2023-05-25T18:18:57.088933407Z"
    }
   }
  },
  {
   "cell_type": "code",
   "execution_count": 23,
   "outputs": [],
   "source": [
    "out = rdd.flatMap(document_map).\\\n",
    "    combineByKey(lambda x: [x], lambda x, y: x + [y], lambda x, y: x + y).\\\n",
    "    flatMapValues(documents_reduce).\\\n",
    "    filter(lambda x: x[1][1] > SIMILARITY).\\\n",
    "    map(lambda x: x[1][0]).\\\n",
    "    distinct()"
   ],
   "metadata": {
    "collapsed": false,
    "ExecuteTime": {
     "end_time": "2023-05-25T18:18:57.407297633Z",
     "start_time": "2023-05-25T18:18:57.349159773Z"
    }
   }
  },
  {
   "cell_type": "code",
   "execution_count": 24,
   "outputs": [
    {
     "name": "stderr",
     "output_type": "stream",
     "text": [
      "23/05/25 20:18:57 WARN TaskSetManager: Stage 3 contains a task of very large size (4070 KiB). The maximum recommended task size is 1000 KiB.\n",
      "                                                                                \r"
     ]
    }
   ],
   "source": [
    "collected = out.collect()"
   ],
   "metadata": {
    "collapsed": false,
    "ExecuteTime": {
     "end_time": "2023-05-25T18:32:56.572354340Z",
     "start_time": "2023-05-25T18:18:57.411380687Z"
    }
   }
  },
  {
   "cell_type": "code",
   "execution_count": 25,
   "outputs": [
    {
     "data": {
      "text/plain": "[('1czjl0hz', 'uqr00nzd'),\n ('l9cms7ux', 'ck21e69s'),\n ('99ev94d2', 'xzuc51jz'),\n ('g1ve8zld', '58l59lbu'),\n ('3klmji5d', 'uunhkrjd'),\n ('77apiqq2', 'k7ah2zdc'),\n ('hmdikgf5', '0mi0n2zn'),\n ('3klmji5d', 'v1d0rqbi'),\n ('3klmji5d', 'cnwg4dnn'),\n ('3klmji5d', '2vsh18ia'),\n ('3klmji5d', 'kdx4hlr1'),\n ('3klmji5d', 'hm8tvkt3'),\n ('3klmji5d', 'hkbfbv3h'),\n ('v1d0rqbi', '0mi0n2zn'),\n ('uunhkrjd', 'hm8tvkt3'),\n ('uunhkrjd', 'hkbfbv3h'),\n ('cd5yoh0l', 'r8xcl0iu'),\n ('hmdikgf5', 'v1d0rqbi'),\n ('hmdikgf5', 'cnwg4dnn'),\n ('hmdikgf5', '2vsh18ia'),\n ('hmdikgf5', 'kdx4hlr1'),\n ('hmdikgf5', 'hm8tvkt3'),\n ('hmdikgf5', 'hkbfbv3h'),\n ('3klmji5d', '0mi0n2zn'),\n ('v1d0rqbi', 'cnwg4dnn'),\n ('v1d0rqbi', '2vsh18ia'),\n ('v1d0rqbi', 'kdx4hlr1'),\n ('v1d0rqbi', 'hm8tvkt3'),\n ('v1d0rqbi', 'hkbfbv3h'),\n ('0mi0n2zn', 'uunhkrjd'),\n ('cnwg4dnn', '2vsh18ia'),\n ('cnwg4dnn', 'kdx4hlr1'),\n ('cnwg4dnn', 'hm8tvkt3'),\n ('cnwg4dnn', 'hkbfbv3h'),\n ('2vsh18ia', 'kdx4hlr1'),\n ('2vsh18ia', 'hm8tvkt3'),\n ('2vsh18ia', 'hkbfbv3h'),\n ('kdx4hlr1', 'hm8tvkt3'),\n ('kdx4hlr1', 'hkbfbv3h'),\n ('hm8tvkt3', 'hkbfbv3h'),\n ('99ev94d2', 'ntjngiem'),\n ('xzuc51jz', 'ntjngiem'),\n ('hmdikgf5', '3klmji5d'),\n ('hmdikgf5', 'uunhkrjd'),\n ('v1d0rqbi', 'uunhkrjd'),\n ('0mi0n2zn', 'cnwg4dnn'),\n ('0mi0n2zn', '2vsh18ia'),\n ('0mi0n2zn', 'kdx4hlr1'),\n ('0mi0n2zn', 'hm8tvkt3'),\n ('0mi0n2zn', 'hkbfbv3h'),\n ('cnwg4dnn', 'uunhkrjd'),\n ('2vsh18ia', 'uunhkrjd'),\n ('kdx4hlr1', 'uunhkrjd'),\n ('76uk9tj5', 'qxo82jkv')]"
     },
     "execution_count": 25,
     "metadata": {},
     "output_type": "execute_result"
    }
   ],
   "source": [
    "collected"
   ],
   "metadata": {
    "collapsed": false,
    "ExecuteTime": {
     "end_time": "2023-05-25T18:32:56.648279061Z",
     "start_time": "2023-05-25T18:32:56.571303388Z"
    }
   }
  },
  {
   "cell_type": "code",
   "execution_count": 26,
   "outputs": [
    {
     "data": {
      "text/plain": "1.0"
     },
     "execution_count": 26,
     "metadata": {},
     "output_type": "execute_result"
    }
   ],
   "source": [
    "compare_with_exact(data_name=DATA_NAME, collected_=collected)"
   ],
   "metadata": {
    "collapsed": false,
    "ExecuteTime": {
     "end_time": "2023-05-25T18:32:56.676683094Z",
     "start_time": "2023-05-25T18:32:56.581234464Z"
    }
   }
  },
  {
   "cell_type": "markdown",
   "source": [
    "## Evaluation over large example"
   ],
   "metadata": {
    "collapsed": false
   }
  },
  {
   "cell_type": "code",
   "execution_count": 27,
   "outputs": [],
   "source": [
    "DATA_NAME = 'large'"
   ],
   "metadata": {
    "collapsed": false,
    "ExecuteTime": {
     "end_time": "2023-05-25T18:32:56.677344589Z",
     "start_time": "2023-05-25T18:32:56.610940096Z"
    }
   }
  },
  {
   "cell_type": "code",
   "execution_count": 28,
   "outputs": [],
   "source": [
    "SIMILARITY = 0.9"
   ],
   "metadata": {
    "collapsed": false,
    "ExecuteTime": {
     "end_time": "2023-05-25T18:32:56.678133662Z",
     "start_time": "2023-05-25T18:32:56.657144505Z"
    }
   }
  },
  {
   "cell_type": "code",
   "execution_count": 29,
   "outputs": [],
   "source": [
    "IDF_ORDER = True"
   ],
   "metadata": {
    "collapsed": false,
    "ExecuteTime": {
     "end_time": "2023-05-25T18:32:56.678630282Z",
     "start_time": "2023-05-25T18:32:56.657493952Z"
    }
   }
  },
  {
   "cell_type": "markdown",
   "source": [
    "### Loading document info"
   ],
   "metadata": {
    "collapsed": false
   }
  },
  {
   "cell_type": "code",
   "execution_count": 30,
   "outputs": [
    {
     "name": "stdout",
     "output_type": "stream",
     "text": [
      "Loading vectors... \n",
      "Loading mapping... \n",
      "Loading inverse mapping... \n"
     ]
    }
   ],
   "source": [
    "from assignment3.model.documents import DocumentVectors\n",
    "docs_vet = DocumentVectors(data_name=DATA_NAME, idf_order=True)"
   ],
   "metadata": {
    "collapsed": false,
    "ExecuteTime": {
     "end_time": "2023-05-25T18:32:57.019382120Z",
     "start_time": "2023-05-25T18:32:56.657746269Z"
    }
   }
  },
  {
   "cell_type": "code",
   "execution_count": 31,
   "outputs": [
    {
     "data": {
      "text/plain": "large Vector Documents [13641]"
     },
     "execution_count": 31,
     "metadata": {},
     "output_type": "execute_result"
    }
   ],
   "source": [
    "docs_vet"
   ],
   "metadata": {
    "collapsed": false,
    "ExecuteTime": {
     "end_time": "2023-05-25T18:32:57.021154713Z",
     "start_time": "2023-05-25T18:32:56.943180964Z"
    }
   }
  },
  {
   "cell_type": "code",
   "execution_count": 32,
   "outputs": [],
   "source": [
    "docs_info = docs_vet.get_documents_info(similarity=SIMILARITY)"
   ],
   "metadata": {
    "collapsed": false,
    "ExecuteTime": {
     "end_time": "2023-05-25T18:33:04.864958073Z",
     "start_time": "2023-05-25T18:32:56.955232171Z"
    }
   }
  },
  {
   "cell_type": "markdown",
   "source": [
    "### Spark"
   ],
   "metadata": {
    "collapsed": false
   }
  },
  {
   "cell_type": "code",
   "execution_count": 33,
   "outputs": [],
   "source": [
    "rdd = sc.parallelize(docs_info)"
   ],
   "metadata": {
    "collapsed": false,
    "ExecuteTime": {
     "end_time": "2023-05-25T18:33:05.181328015Z",
     "start_time": "2023-05-25T18:33:04.864605014Z"
    }
   }
  },
  {
   "cell_type": "code",
   "execution_count": 34,
   "outputs": [],
   "source": [
    "out = rdd.flatMap(document_map).\\\n",
    "    combineByKey(lambda x: [x], lambda x, y: x + [y], lambda x, y: x + y).\\\n",
    "    flatMapValues(documents_reduce).\\\n",
    "    filter(lambda x: x[1][1] > SIMILARITY).\\\n",
    "    map(lambda x: x[1][0]).\\\n",
    "    distinct()"
   ],
   "metadata": {
    "collapsed": false,
    "ExecuteTime": {
     "end_time": "2023-05-25T18:33:05.265788310Z",
     "start_time": "2023-05-25T18:33:05.181988203Z"
    }
   }
  },
  {
   "cell_type": "code",
   "execution_count": 35,
   "outputs": [
    {
     "name": "stderr",
     "output_type": "stream",
     "text": [
      "23/05/25 20:33:05 WARN TaskSetManager: Stage 6 contains a task of very large size (6088 KiB). The maximum recommended task size is 1000 KiB.\n",
      "                                                                                \r"
     ]
    }
   ],
   "source": [
    "collected = out.collect()"
   ],
   "metadata": {
    "collapsed": false,
    "ExecuteTime": {
     "end_time": "2023-05-25T19:02:32.621011984Z",
     "start_time": "2023-05-25T18:33:05.265290478Z"
    }
   }
  },
  {
   "cell_type": "code",
   "execution_count": 36,
   "outputs": [
    {
     "data": {
      "text/plain": "[('92t646ti', 'rsltf8wi'),\n ('tmq8viu0', '9xgwjvsv'),\n ('ntbuwf8i', '0q2ky9gd'),\n ('2dx6lsl3', 'j2xn6260'),\n ('wtgbdwi1', 'hjdzbdai'),\n ('hlyw0evy', '6xa46shb'),\n ('amy5h733', 'rsgtfis3'),\n ('2qiy1glv', '3xx4zm4i'),\n ('55gr63md', '762aqyaa'),\n ('ljbtsn49', 'za18znu4'),\n ('hha2sctb', '3i7wgrck'),\n ('6nh9lfkk', 'pketymav'),\n ('2j2uieil', 'ib8nkjoo'),\n ('k1lq547f', '544q6hkq'),\n ('zjrkfe9b', 'lc5nhtzw'),\n ('ckoktq1g', '7gqvbbw7'),\n ('hmjksfzn', '5y88qbty'),\n ('vdddhcuq', 'qd9ps3zb'),\n ('g1ve8zld', '58l59lbu'),\n ('xiep0udu', '9hlx36e9'),\n ('q2zsd4qr', 'ipreyvi4'),\n ('idq12eck', 'grljzlyl'),\n ('3klmji5d', 'uunhkrjd'),\n ('joxp94rl', 'h7ffv0xb'),\n ('jms7hrmp', 'egbkl2v2'),\n ('l8q7d14h', 'nwo7jka1'),\n ('77apiqq2', 'k7ah2zdc'),\n ('tefkx87y', 'psjh0pij'),\n ('ljbtsn49', 'g8e5sqh7'),\n ('xu3gfwpu', 'nbh9qw5h'),\n ('n4vs4j5x', '2j2uieil'),\n ('n4vs4j5x', 'ib8nkjoo'),\n ('k1lq547f', 'p5ns0xnq'),\n ('544q6hkq', 'p5ns0xnq'),\n ('8f22ukjc', 'wnt5j5da'),\n ('ckoktq1g', 'dl6szur0'),\n ('c41smve5', 'iuo9s4qb'),\n ('c41smve5', 'iy591hqk'),\n ('evkpk2d9', 'sctzn7i7'),\n ('9hj84s8s', 'l8897vv7'),\n ('v8h0q5a0', '7oej1196'),\n ('aieqh4oj', 'w1la7snn'),\n ('w1la7snn', 'kri1v3hb'),\n ('34bpuxdf', 'zbfmx9ne'),\n ('hmdikgf5', '0mi0n2zn'),\n ('3klmji5d', 'v1d0rqbi'),\n ('3klmji5d', 'cnwg4dnn'),\n ('3klmji5d', '2vsh18ia'),\n ('3klmji5d', 'kdx4hlr1'),\n ('3klmji5d', 'hm8tvkt3'),\n ('3klmji5d', 'hkbfbv3h'),\n ('v1d0rqbi', '0mi0n2zn'),\n ('uunhkrjd', 'hm8tvkt3'),\n ('uunhkrjd', 'hkbfbv3h'),\n ('99v4brjf', 'rraocx0f'),\n ('pznw2ciu', 'i8h48ny6'),\n ('tvz4ze8g', 'i7s04fh5'),\n ('6xgy0cm3', 'qsfykh1k'),\n ('jd63b5ef', 'vbvfxbv2'),\n ('8h1sqopi', '511u9hex'),\n ('0qjcvxvk', 'ehxpdavo'),\n ('vgg306kx', '2ubh9u8r'),\n ('iuo9s4qb', 'iy591hqk'),\n ('fqhl1qb4', 'onv6xcny'),\n ('yg7san74', 'b9eu1zoa'),\n ('vsu8njhz', 'o4ctmvc9'),\n ('6qtfafuh', 'n30sog21'),\n ('aieqh4oj', 'kri1v3hb'),\n ('9by7dm2b', 'emihxfa4'),\n ('hmdikgf5', 'v1d0rqbi'),\n ('hmdikgf5', 'cnwg4dnn'),\n ('hmdikgf5', '2vsh18ia'),\n ('hmdikgf5', 'kdx4hlr1'),\n ('hmdikgf5', 'hm8tvkt3'),\n ('hmdikgf5', 'hkbfbv3h'),\n ('3klmji5d', '0mi0n2zn'),\n ('v1d0rqbi', 'cnwg4dnn'),\n ('v1d0rqbi', '2vsh18ia'),\n ('v1d0rqbi', 'kdx4hlr1'),\n ('v1d0rqbi', 'hm8tvkt3'),\n ('v1d0rqbi', 'hkbfbv3h'),\n ('0mi0n2zn', 'uunhkrjd'),\n ('cnwg4dnn', '2vsh18ia'),\n ('cnwg4dnn', 'kdx4hlr1'),\n ('cnwg4dnn', 'hm8tvkt3'),\n ('cnwg4dnn', 'hkbfbv3h'),\n ('2vsh18ia', 'kdx4hlr1'),\n ('2vsh18ia', 'hm8tvkt3'),\n ('2vsh18ia', 'hkbfbv3h'),\n ('kdx4hlr1', 'hm8tvkt3'),\n ('kdx4hlr1', 'hkbfbv3h'),\n ('hm8tvkt3', 'hkbfbv3h'),\n ('whj386wr', '1mlamf20'),\n ('rki30ruw', '3d0k6dz8'),\n ('puat112g', 'x0cqo75d'),\n ('j7byiomb', 'ysa0gopx'),\n ('g8e5sqh7', 'za18znu4'),\n ('5gw6fh58', 'gjnyfzmo'),\n ('ssu9xxyq', '65maspnk'),\n ('m0tjqvql', '6029wkno'),\n ('7gqvbbw7', 'dl6szur0'),\n ('k3pdql4x', 'si22fntk'),\n ('xzuc51jz', 'ntjngiem'),\n ('t19w2pzf', 'wutsrs49'),\n ('0a3gi9b6', 'safq77rf'),\n ('mvaibrzb', '3cpgvkdj'),\n ('6uni94gd', 'ubnyivwj'),\n ('vziexnov', 'jbjdvy5u'),\n ('hmdikgf5', '3klmji5d'),\n ('hmdikgf5', 'uunhkrjd'),\n ('v1d0rqbi', 'uunhkrjd'),\n ('0mi0n2zn', 'cnwg4dnn'),\n ('0mi0n2zn', '2vsh18ia'),\n ('0mi0n2zn', 'kdx4hlr1'),\n ('0mi0n2zn', 'hm8tvkt3'),\n ('0mi0n2zn', 'hkbfbv3h'),\n ('cnwg4dnn', 'uunhkrjd'),\n ('2vsh18ia', 'uunhkrjd'),\n ('kdx4hlr1', 'uunhkrjd')]"
     },
     "execution_count": 36,
     "metadata": {},
     "output_type": "execute_result"
    }
   ],
   "source": [
    "collected"
   ],
   "metadata": {
    "collapsed": false,
    "ExecuteTime": {
     "end_time": "2023-05-25T19:02:32.664251506Z",
     "start_time": "2023-05-25T19:02:32.630860261Z"
    }
   }
  },
  {
   "cell_type": "code",
   "execution_count": 37,
   "outputs": [
    {
     "data": {
      "text/plain": "1.0"
     },
     "execution_count": 37,
     "metadata": {},
     "output_type": "execute_result"
    }
   ],
   "source": [
    "compare_with_exact(data_name=DATA_NAME, collected_=collected)"
   ],
   "metadata": {
    "collapsed": false,
    "ExecuteTime": {
     "end_time": "2023-05-25T19:02:32.684881467Z",
     "start_time": "2023-05-25T19:02:32.662180484Z"
    }
   }
  }
 ],
 "metadata": {
  "kernelspec": {
   "display_name": "Python 3",
   "language": "python",
   "name": "python3"
  },
  "language_info": {
   "codemirror_mode": {
    "name": "ipython",
    "version": 2
   },
   "file_extension": ".py",
   "mimetype": "text/x-python",
   "name": "python",
   "nbconvert_exporter": "python",
   "pygments_lexer": "ipython2",
   "version": "2.7.6"
  }
 },
 "nbformat": 4,
 "nbformat_minor": 0
}
