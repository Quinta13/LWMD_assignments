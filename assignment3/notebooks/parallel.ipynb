{
 "cells": [
  {
   "cell_type": "markdown",
   "source": [
    "## Adding system paths"
   ],
   "metadata": {
    "collapsed": false
   }
  },
  {
   "cell_type": "code",
   "execution_count": 1,
   "outputs": [
    {
     "data": {
      "text/plain": "<SparkContext master=local[*] appName=PySparkShell>",
      "text/html": "\n        <div>\n            <p><b>SparkContext</b></p>\n\n            <p><a href=\"http://172.29.242.226:4042\">Spark UI</a></p>\n\n            <dl>\n              <dt>Version</dt>\n                <dd><code>v3.4.0</code></dd>\n              <dt>Master</dt>\n                <dd><code>local[*]</code></dd>\n              <dt>AppName</dt>\n                <dd><code>PySparkShell</code></dd>\n            </dl>\n        </div>\n        "
     },
     "execution_count": 1,
     "metadata": {},
     "output_type": "execute_result"
    }
   ],
   "source": [
    "sc"
   ],
   "metadata": {
    "collapsed": false,
    "ExecuteTime": {
     "end_time": "2023-05-22T15:47:17.217609923Z",
     "start_time": "2023-05-22T15:47:17.201919449Z"
    }
   }
  },
  {
   "cell_type": "code",
   "execution_count": 2,
   "outputs": [],
   "source": [
    "import sys\n",
    "sys.path.append('/home/sebaq/Documents/GitHub/LWMD_assignments')"
   ],
   "metadata": {
    "collapsed": false,
    "ExecuteTime": {
     "end_time": "2023-05-22T15:47:17.217865421Z",
     "start_time": "2023-05-22T15:47:17.202278940Z"
    }
   }
  },
  {
   "cell_type": "code",
   "execution_count": 3,
   "outputs": [],
   "source": [
    "DATA_NAME = 'toy'"
   ],
   "metadata": {
    "collapsed": false,
    "ExecuteTime": {
     "end_time": "2023-05-22T15:47:17.217974542Z",
     "start_time": "2023-05-22T15:47:17.202481515Z"
    }
   }
  },
  {
   "cell_type": "code",
   "execution_count": 5,
   "outputs": [],
   "source": [
    "SIMILARITY = 0.9"
   ],
   "metadata": {
    "collapsed": false,
    "ExecuteTime": {
     "end_time": "2023-05-22T15:47:20.425327833Z",
     "start_time": "2023-05-22T15:47:20.395863947Z"
    }
   }
  },
  {
   "cell_type": "markdown",
   "source": [
    "## Loading document info"
   ],
   "metadata": {
    "collapsed": false
   }
  },
  {
   "cell_type": "code",
   "execution_count": 6,
   "outputs": [],
   "source": [
    "from assignment3.model.documents import DocumentVectors"
   ],
   "metadata": {
    "collapsed": false,
    "ExecuteTime": {
     "end_time": "2023-05-22T15:47:22.360790657Z",
     "start_time": "2023-05-22T15:47:21.133595857Z"
    }
   }
  },
  {
   "cell_type": "code",
   "execution_count": 7,
   "outputs": [
    {
     "name": "stdout",
     "output_type": "stream",
     "text": [
      "Loading vectors... \n",
      "Loading mapping... \n",
      "Loading inverse mapping... \n"
     ]
    }
   ],
   "source": [
    "docs_vet = DocumentVectors(data_name=DATA_NAME, idf_order=True)"
   ],
   "metadata": {
    "collapsed": false,
    "ExecuteTime": {
     "end_time": "2023-05-22T15:47:22.361563535Z",
     "start_time": "2023-05-22T15:47:22.361009019Z"
    }
   }
  },
  {
   "cell_type": "code",
   "execution_count": 8,
   "outputs": [
    {
     "data": {
      "text/plain": "toy Vector Documents [10]"
     },
     "execution_count": 8,
     "metadata": {},
     "output_type": "execute_result"
    }
   ],
   "source": [
    "docs_vet"
   ],
   "metadata": {
    "collapsed": false,
    "ExecuteTime": {
     "end_time": "2023-05-22T15:47:22.919188584Z",
     "start_time": "2023-05-22T15:47:22.905625949Z"
    }
   }
  },
  {
   "cell_type": "code",
   "execution_count": 9,
   "outputs": [],
   "source": [
    "docs_info = docs_vet.get_documents_info(similarity=SIMILARITY)"
   ],
   "metadata": {
    "collapsed": false,
    "ExecuteTime": {
     "end_time": "2023-05-22T15:47:23.419020006Z",
     "start_time": "2023-05-22T15:47:23.395620408Z"
    }
   }
  },
  {
   "cell_type": "markdown",
   "source": [
    "## Spark"
   ],
   "metadata": {
    "collapsed": false
   }
  },
  {
   "cell_type": "code",
   "execution_count": 10,
   "outputs": [],
   "source": [
    "rdd = sc.parallelize(docs_info)"
   ],
   "metadata": {
    "collapsed": false,
    "ExecuteTime": {
     "end_time": "2023-05-22T15:47:25.518170245Z",
     "start_time": "2023-05-22T15:47:25.035680014Z"
    }
   }
  },
  {
   "cell_type": "code",
   "execution_count": 11,
   "outputs": [],
   "source": [
    "def document_map(doc_info: tuple[str, int, list[tuple[int, float]]]) -> list[tuple[int, tuple[str, int, list[tuple[int, float]]]]]:\n",
    "    \"\"\"\n",
    "    Mapping function\n",
    "    :param doc_info: document information as a pair (doc-id ; term-threshold ;  list(term-id, value)),\n",
    "        where the second value of the pair represent entries of a csr vector\n",
    "    :return: list of key-value pair (term-id : (doc-id ; list(term-id, value))) for each term appearing in the document\n",
    "    \"\"\"\n",
    "\n",
    "    doc_id, term_threshold, sparse_entries = doc_info\n",
    "\n",
    "    return [\n",
    "        (term_id, (doc_id, term_id, sparse_entries))\n",
    "        for term_id, value in sparse_entries\n",
    "        if term_id > term_threshold\n",
    "    ]"
   ],
   "metadata": {
    "collapsed": false,
    "ExecuteTime": {
     "end_time": "2023-05-22T15:47:25.531897659Z",
     "start_time": "2023-05-22T15:47:25.529219229Z"
    }
   }
  },
  {
   "cell_type": "code",
   "execution_count": 24,
   "outputs": [],
   "source": [
    "def documents_reduce(docs: list[tuple[int, int, list[tuple[int, float]]]]) -> list[tuple[tuple[str, str], float]]:\n",
    "\n",
    "    pairs = []\n",
    "\n",
    "    n_docs = len(docs)\n",
    "\n",
    "    for i in range(n_docs-1):\n",
    "\n",
    "        for j in range(i+1, n_docs):\n",
    "\n",
    "            doc1_id, term_id, doc1  = docs[i]\n",
    "            doc2_id,       _, doc2  = docs[j]\n",
    "\n",
    "            all_terms: set[int] = set([t_id1 for t_id1, _ in doc1]).intersection([t_id2 for t_id2, _ in doc2])\n",
    "            max_term: int = max(all_terms)\n",
    "\n",
    "            if term_id != max_term:\n",
    "                pass\n",
    "\n",
    "            iter_doc1 = iter(doc1)\n",
    "            iter_doc2 = iter(doc2)\n",
    "\n",
    "            term1, value1 = next(iter_doc1)\n",
    "            term2, value2 = next(iter_doc2)\n",
    "\n",
    "            sim = 0\n",
    "\n",
    "            while True:\n",
    "\n",
    "                try:\n",
    "                    if term1 == term2:\n",
    "                        sim += value1 * value2\n",
    "                        term1, value1 = next(iter_doc1)\n",
    "                        term2, value2 = next(iter_doc2)\n",
    "                        pass\n",
    "                    elif term1 < term2:\n",
    "                        term1, value1 = next(iter_doc1)\n",
    "                    else:\n",
    "                        term2, value2 = next(iter_doc2)\n",
    "                except StopIteration:\n",
    "                    break\n",
    "\n",
    "            pairs.append(((doc1_id, doc2_id), sim))\n",
    "\n",
    "    return pairs"
   ],
   "metadata": {
    "collapsed": false,
    "ExecuteTime": {
     "end_time": "2023-05-22T15:50:11.137531030Z",
     "start_time": "2023-05-22T15:50:11.112002950Z"
    }
   }
  },
  {
   "cell_type": "code",
   "execution_count": 25,
   "outputs": [],
   "source": [
    "myrdd = sc.parallelize(docs_info)"
   ],
   "metadata": {
    "collapsed": false,
    "ExecuteTime": {
     "end_time": "2023-05-22T15:50:11.674112266Z",
     "start_time": "2023-05-22T15:50:11.660426959Z"
    }
   }
  },
  {
   "cell_type": "code",
   "execution_count": 26,
   "outputs": [],
   "source": [
    "out = myrdd.flatMap(document_map).combineByKey(lambda x: [x], lambda x, y: x + [y], lambda x, y: x + y).flatMapValues(documents_reduce).filter(lambda x: x[1][1] > SIMILARITY).map(lambda x: x[1][0]).distinct()"
   ],
   "metadata": {
    "collapsed": false,
    "ExecuteTime": {
     "end_time": "2023-05-22T15:50:12.176128623Z",
     "start_time": "2023-05-22T15:50:12.105144787Z"
    }
   }
  },
  {
   "cell_type": "code",
   "execution_count": 27,
   "outputs": [
    {
     "name": "stderr",
     "output_type": "stream",
     "text": [
      "                                                                                \r"
     ]
    }
   ],
   "source": [
    "collected = out.collect()"
   ],
   "metadata": {
    "collapsed": false,
    "ExecuteTime": {
     "end_time": "2023-05-22T15:50:13.883656959Z",
     "start_time": "2023-05-22T15:50:12.451402300Z"
    }
   }
  },
  {
   "cell_type": "code",
   "execution_count": 28,
   "outputs": [
    {
     "data": {
      "text/plain": "[('doc0', 'doc3'), ('doc1', 'doc3'), ('doc0', 'doc1')]"
     },
     "execution_count": 28,
     "metadata": {},
     "output_type": "execute_result"
    }
   ],
   "source": [
    "collected"
   ],
   "metadata": {
    "collapsed": false,
    "ExecuteTime": {
     "end_time": "2023-05-22T15:50:16.090534472Z",
     "start_time": "2023-05-22T15:50:16.051162657Z"
    }
   }
  },
  {
   "cell_type": "code",
   "execution_count": 29,
   "outputs": [],
   "source": [
    "from assignment3.io_ import load_evaluation, get_exact_solution_file\n",
    "\n",
    "exact = load_evaluation(path_=get_exact_solution_file(data_name=DATA_NAME))['pairs']\n",
    "exact = [(a, b) for a, b in exact]"
   ],
   "metadata": {
    "collapsed": false,
    "ExecuteTime": {
     "end_time": "2023-05-22T15:50:16.216878956Z",
     "start_time": "2023-05-22T15:50:16.171248726Z"
    }
   }
  },
  {
   "cell_type": "code",
   "execution_count": 30,
   "outputs": [
    {
     "data": {
      "text/plain": "[('doc0', 'doc1'), ('doc0', 'doc3'), ('doc1', 'doc3')]"
     },
     "execution_count": 30,
     "metadata": {},
     "output_type": "execute_result"
    }
   ],
   "source": [
    "exact"
   ],
   "metadata": {
    "collapsed": false,
    "ExecuteTime": {
     "end_time": "2023-05-22T15:50:17.345568037Z",
     "start_time": "2023-05-22T15:50:17.263518190Z"
    }
   }
  },
  {
   "cell_type": "code",
   "execution_count": 31,
   "outputs": [
    {
     "data": {
      "text/plain": "1.0"
     },
     "execution_count": 31,
     "metadata": {},
     "output_type": "execute_result"
    }
   ],
   "source": [
    "from assignment3.utils import jaccard\n",
    "\n",
    "jaccard(set(collected), set(exact))"
   ],
   "metadata": {
    "collapsed": false,
    "ExecuteTime": {
     "end_time": "2023-05-22T15:50:17.829969810Z",
     "start_time": "2023-05-22T15:50:17.819307853Z"
    }
   }
  },
  {
   "cell_type": "code",
   "execution_count": null,
   "outputs": [],
   "source": [],
   "metadata": {
    "collapsed": false
   }
  }
 ],
 "metadata": {
  "kernelspec": {
   "display_name": "Python 3",
   "language": "python",
   "name": "python3"
  },
  "language_info": {
   "codemirror_mode": {
    "name": "ipython",
    "version": 2
   },
   "file_extension": ".py",
   "mimetype": "text/x-python",
   "name": "python",
   "nbconvert_exporter": "python",
   "pygments_lexer": "ipython2",
   "version": "2.7.6"
  }
 },
 "nbformat": 4,
 "nbformat_minor": 0
}
