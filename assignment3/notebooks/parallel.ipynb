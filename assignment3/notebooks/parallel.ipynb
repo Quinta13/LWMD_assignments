{
 "cells": [
  {
   "cell_type": "markdown",
   "source": [
    "## Adding system paths"
   ],
   "metadata": {
    "collapsed": false
   }
  },
  {
   "cell_type": "code",
   "execution_count": 1,
   "outputs": [
    {
     "data": {
      "text/plain": "<SparkContext master=local[*] appName=PySparkShell>",
      "text/html": "\n        <div>\n            <p><b>SparkContext</b></p>\n\n            <p><a href=\"http://sebaq-PC.homenet.telecomitalia.it:4040\">Spark UI</a></p>\n\n            <dl>\n              <dt>Version</dt>\n                <dd><code>v3.4.0</code></dd>\n              <dt>Master</dt>\n                <dd><code>local[*]</code></dd>\n              <dt>AppName</dt>\n                <dd><code>PySparkShell</code></dd>\n            </dl>\n        </div>\n        "
     },
     "execution_count": 1,
     "metadata": {},
     "output_type": "execute_result"
    }
   ],
   "source": [
    "sc"
   ],
   "metadata": {
    "collapsed": false,
    "ExecuteTime": {
     "end_time": "2023-05-18T18:04:03.487031246Z",
     "start_time": "2023-05-18T18:04:03.465530080Z"
    }
   }
  },
  {
   "cell_type": "code",
   "execution_count": 2,
   "outputs": [],
   "source": [
    "import sys\n",
    "sys.path.append('/home/sebaq/Documents/GitHub/LWMD_assignments')"
   ],
   "metadata": {
    "collapsed": false,
    "ExecuteTime": {
     "end_time": "2023-05-18T18:04:05.474598967Z",
     "start_time": "2023-05-18T18:04:05.441472026Z"
    }
   }
  },
  {
   "cell_type": "code",
   "execution_count": 3,
   "outputs": [],
   "source": [
    "DATA_NAME = 'tiny'"
   ],
   "metadata": {
    "collapsed": false,
    "ExecuteTime": {
     "end_time": "2023-05-18T18:04:05.994060704Z",
     "start_time": "2023-05-18T18:04:05.986545510Z"
    }
   }
  },
  {
   "cell_type": "markdown",
   "source": [
    "## Loading document info"
   ],
   "metadata": {
    "collapsed": false
   }
  },
  {
   "cell_type": "code",
   "execution_count": 4,
   "outputs": [],
   "source": [
    "from assignment3.model.documents import DocumentVectors"
   ],
   "metadata": {
    "collapsed": false,
    "ExecuteTime": {
     "end_time": "2023-05-18T18:04:09.074715845Z",
     "start_time": "2023-05-18T18:04:06.979231786Z"
    }
   }
  },
  {
   "cell_type": "code",
   "execution_count": 5,
   "outputs": [
    {
     "name": "stdout",
     "output_type": "stream",
     "text": [
      "Loading vectors. \n",
      "Loading mapping. \n",
      "Loading inverse mapping. \n"
     ]
    }
   ],
   "source": [
    "docs_vet = DocumentVectors(data_name=DATA_NAME, idf_order=True)"
   ],
   "metadata": {
    "collapsed": false,
    "ExecuteTime": {
     "end_time": "2023-05-18T18:04:09.095902690Z",
     "start_time": "2023-05-18T18:04:09.082447010Z"
    }
   }
  },
  {
   "cell_type": "code",
   "execution_count": 6,
   "outputs": [
    {
     "data": {
      "text/plain": "tiny Vector Documents [10]"
     },
     "execution_count": 6,
     "metadata": {},
     "output_type": "execute_result"
    }
   ],
   "source": [
    "docs_vet"
   ],
   "metadata": {
    "collapsed": false,
    "ExecuteTime": {
     "end_time": "2023-05-18T18:04:09.154262698Z",
     "start_time": "2023-05-18T18:04:09.110019193Z"
    }
   }
  },
  {
   "cell_type": "code",
   "execution_count": 7,
   "outputs": [],
   "source": [
    "docs_info = docs_vet.documents_info"
   ],
   "metadata": {
    "collapsed": false,
    "ExecuteTime": {
     "end_time": "2023-05-18T18:04:09.154821705Z",
     "start_time": "2023-05-18T18:04:09.150797333Z"
    }
   }
  },
  {
   "cell_type": "markdown",
   "source": [
    "## Spark"
   ],
   "metadata": {
    "collapsed": false
   }
  },
  {
   "cell_type": "code",
   "execution_count": 8,
   "outputs": [],
   "source": [
    "rdd = sc.parallelize(docs_info)"
   ],
   "metadata": {
    "collapsed": false,
    "ExecuteTime": {
     "end_time": "2023-05-18T18:04:10.684000160Z",
     "start_time": "2023-05-18T18:04:10.119512431Z"
    }
   }
  },
  {
   "cell_type": "code",
   "execution_count": 9,
   "outputs": [],
   "source": [
    "def document_map(doc_info: tuple[str, int, list[tuple[int, float]]]) -> list[tuple[str, tuple[str, int, list[tuple[int, float]]]]]:\n",
    "    \"\"\"\n",
    "    Mapping function\n",
    "    :param doc_info: document information as a pair (doc-id ; term-threshold ;  list(term-id, value)),\n",
    "        where the second value of the pair represent entries of a csr vector\n",
    "    :return: list of key-value pair (term-id : (doc-id ; list(term-id, value))) for each term appearing in the document\n",
    "    \"\"\"\n",
    "\n",
    "    doc_id, term_threshold, sparse_entries = doc_info\n",
    "\n",
    "    return [\n",
    "        (str(term_id), (doc_id, term_id, sparse_entries))\n",
    "        for term_id, value in sparse_entries\n",
    "        if term_id > term_threshold\n",
    "    ]"
   ],
   "metadata": {
    "collapsed": false,
    "ExecuteTime": {
     "end_time": "2023-05-18T18:04:11.325072573Z",
     "start_time": "2023-05-18T18:04:11.310214497Z"
    }
   }
  },
  {
   "cell_type": "code",
   "execution_count": 10,
   "outputs": [],
   "source": [
    "def documents_reduce(docs: list[tuple[str, int, list[tuple[int, float]]]]) -> list[tuple[tuple[str, str], float]]:\n",
    "\n",
    "    pairs = []\n",
    "\n",
    "    n_docs = len(docs)\n",
    "\n",
    "    for i in range(n_docs-1):\n",
    "\n",
    "        for j in range(i+1, n_docs):\n",
    "\n",
    "            doc1_id, term_id, doc1  = docs[i]\n",
    "            doc2_id,       _, doc2  = docs[j]\n",
    "\n",
    "            all_terms: set[int] = set([t_id1 for t_id1, _ in doc1]).union([t_id2 for t_id2, _ in doc2])\n",
    "            max_term: int = max(all_terms)\n",
    "\n",
    "            if term_id != max_term:\n",
    "                pass\n",
    "\n",
    "            iter_doc1 = iter(doc1)\n",
    "            iter_doc2 = iter(doc2)\n",
    "\n",
    "            term1, value1 = next(iter_doc1)\n",
    "            term2, value2 = next(iter_doc2)\n",
    "\n",
    "            sim = 0\n",
    "\n",
    "            while True:\n",
    "\n",
    "                if term1 == term2:\n",
    "                    sim += value1 * value2\n",
    "                    pass\n",
    "                try:\n",
    "                    if term1 < term2:\n",
    "                        term1, value1 = next(iter_doc1)\n",
    "                    else:\n",
    "                        term2, value2 = next(iter_doc2)\n",
    "                except StopIteration:\n",
    "                    break\n",
    "\n",
    "            pairs.append(((doc1_id, doc2_id), sim))\n",
    "\n",
    "    return pairs"
   ],
   "metadata": {
    "collapsed": false,
    "ExecuteTime": {
     "end_time": "2023-05-18T18:04:12.668188186Z",
     "start_time": "2023-05-18T18:04:12.610293813Z"
    }
   }
  },
  {
   "cell_type": "code",
   "execution_count": 11,
   "outputs": [],
   "source": [
    "myrdd = sc.parallelize(docs_info)"
   ],
   "metadata": {
    "collapsed": false,
    "ExecuteTime": {
     "end_time": "2023-05-18T18:04:14.004274329Z",
     "start_time": "2023-05-18T18:04:13.984025408Z"
    }
   }
  },
  {
   "cell_type": "code",
   "execution_count": 12,
   "outputs": [],
   "source": [
    "out = myrdd.flatMap(document_map).combineByKey(lambda x: [x], lambda x, y: x + [y], lambda x, y: x + y).flatMapValues(documents_reduce).filter(lambda x: x[1][1] > 0.95).map(lambda x: x[1][0])"
   ],
   "metadata": {
    "collapsed": false,
    "ExecuteTime": {
     "end_time": "2023-05-18T18:04:20.648187779Z",
     "start_time": "2023-05-18T18:04:20.493363914Z"
    }
   }
  },
  {
   "cell_type": "code",
   "execution_count": 13,
   "outputs": [
    {
     "name": "stderr",
     "output_type": "stream",
     "text": [
      "                                                                                \r"
     ]
    }
   ],
   "source": [
    "collected = out.collect()"
   ],
   "metadata": {
    "collapsed": false,
    "ExecuteTime": {
     "end_time": "2023-05-18T18:04:30.152552903Z",
     "start_time": "2023-05-18T18:04:27.215907025Z"
    }
   }
  },
  {
   "cell_type": "code",
   "execution_count": 14,
   "outputs": [
    {
     "data": {
      "text/plain": "[('doc0', 'doc1'), ('doc0', 'doc3'), ('doc1', 'doc3')]"
     },
     "execution_count": 14,
     "metadata": {},
     "output_type": "execute_result"
    }
   ],
   "source": [
    "collected"
   ],
   "metadata": {
    "collapsed": false,
    "ExecuteTime": {
     "end_time": "2023-05-18T18:04:31.792008250Z",
     "start_time": "2023-05-18T18:04:31.668432803Z"
    }
   }
  },
  {
   "cell_type": "code",
   "execution_count": null,
   "outputs": [],
   "source": [],
   "metadata": {
    "collapsed": false
   }
  }
 ],
 "metadata": {
  "kernelspec": {
   "display_name": "Python 3",
   "language": "python",
   "name": "python3"
  },
  "language_info": {
   "codemirror_mode": {
    "name": "ipython",
    "version": 2
   },
   "file_extension": ".py",
   "mimetype": "text/x-python",
   "name": "python",
   "nbconvert_exporter": "python",
   "pygments_lexer": "ipython2",
   "version": "2.7.6"
  }
 },
 "nbformat": 4,
 "nbformat_minor": 0
}
