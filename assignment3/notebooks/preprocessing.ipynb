{
 "cells": [
  {
   "cell_type": "code",
   "execution_count": 1,
   "outputs": [],
   "source": [
    "import sys\n",
    "sys.path.append('/home/sebaq/Documents/GitHub/LWMD_assignments')"
   ],
   "metadata": {
    "collapsed": false,
    "ExecuteTime": {
     "end_time": "2023-05-24T16:11:00.200745829Z",
     "start_time": "2023-05-24T16:10:59.847947308Z"
    }
   }
  },
  {
   "cell_type": "markdown",
   "metadata": {
    "collapsed": false,
    "pycharm": {
     "name": "#%% md\n"
    }
   },
   "source": [
    "## Downloader"
   ]
  },
  {
   "cell_type": "markdown",
   "source": [
    "This notebook peform preprocessing over [trec-covid](https://ir.nist.gov/covidSubmit/index.html) dataset"
   ],
   "metadata": {
    "collapsed": false
   }
  },
  {
   "cell_type": "code",
   "execution_count": 2,
   "outputs": [],
   "source": [
    "DATA_NAME = \"trec-covid\""
   ],
   "metadata": {
    "collapsed": false,
    "ExecuteTime": {
     "end_time": "2023-05-24T16:11:00.214691609Z",
     "start_time": "2023-05-24T16:10:59.865908842Z"
    }
   }
  },
  {
   "cell_type": "code",
   "execution_count": 3,
   "metadata": {
    "collapsed": false,
    "pycharm": {
     "name": "#%%\n"
    },
    "ExecuteTime": {
     "end_time": "2023-05-24T16:11:01.407072244Z",
     "start_time": "2023-05-24T16:10:59.883775446Z"
    }
   },
   "outputs": [],
   "source": [
    "from assignment3.model.preprocessing import BEIRDatasetDownloader\n",
    "downloader = BEIRDatasetDownloader(data_name=DATA_NAME)"
   ]
  },
  {
   "cell_type": "markdown",
   "source": [
    "Downloading dataset:"
   ],
   "metadata": {
    "collapsed": false
   }
  },
  {
   "cell_type": "code",
   "execution_count": 4,
   "metadata": {
    "collapsed": false,
    "pycharm": {
     "name": "#%%\n"
    },
    "ExecuteTime": {
     "end_time": "2023-05-24T16:11:01.408364156Z",
     "start_time": "2023-05-24T16:11:01.405181301Z"
    }
   },
   "outputs": [
    {
     "name": "stdout",
     "output_type": "stream",
     "text": [
      "trec-covid dataset already exists. \n",
      "CPU times: user 886 µs, sys: 194 µs, total: 1.08 ms\n",
      "Wall time: 841 µs\n"
     ]
    }
   ],
   "source": [
    "%%time\n",
    "downloader.download()"
   ]
  },
  {
   "cell_type": "markdown",
   "source": [
    "## Vectorizer: small example"
   ],
   "metadata": {
    "collapsed": false
   }
  },
  {
   "cell_type": "markdown",
   "source": [
    "This dataset is a sample of the first 5000 documents of *trec-covid*"
   ],
   "metadata": {
    "collapsed": false
   }
  },
  {
   "cell_type": "code",
   "execution_count": 5,
   "outputs": [],
   "source": [
    "DATA_NAME = \"small\""
   ],
   "metadata": {
    "collapsed": false,
    "ExecuteTime": {
     "end_time": "2023-05-24T16:11:01.408785951Z",
     "start_time": "2023-05-24T16:11:01.405473466Z"
    }
   }
  },
  {
   "cell_type": "markdown",
   "source": [
    "Parsing data:"
   ],
   "metadata": {
    "collapsed": false
   }
  },
  {
   "cell_type": "code",
   "execution_count": 6,
   "outputs": [
    {
     "name": "stdout",
     "output_type": "stream",
     "text": [
      "Parsing documents... \n",
      "Tokenizing documents... \n",
      "CPU times: user 28.7 s, sys: 260 ms, total: 28.9 s\n",
      "Wall time: 29.1 s\n"
     ]
    }
   ],
   "source": [
    "%%time\n",
    "from assignment3.model.preprocessing import DocumentsVectorizer\n",
    "vectorizer = DocumentsVectorizer(data_name=DATA_NAME)"
   ],
   "metadata": {
    "collapsed": false,
    "ExecuteTime": {
     "end_time": "2023-05-24T16:11:30.493354133Z",
     "start_time": "2023-05-24T16:11:01.405654049Z"
    }
   }
  },
  {
   "cell_type": "code",
   "execution_count": 7,
   "outputs": [
    {
     "data": {
      "text/plain": "small Vectorizer [5000 documents]"
     },
     "execution_count": 7,
     "metadata": {},
     "output_type": "execute_result"
    }
   ],
   "source": [
    "vectorizer"
   ],
   "metadata": {
    "collapsed": false,
    "ExecuteTime": {
     "end_time": "2023-05-24T16:11:30.494348716Z",
     "start_time": "2023-05-24T16:11:30.493121913Z"
    }
   }
  },
  {
   "cell_type": "markdown",
   "source": [
    "Vectorizing data:"
   ],
   "metadata": {
    "collapsed": false
   }
  },
  {
   "cell_type": "code",
   "execution_count": 8,
   "outputs": [
    {
     "name": "stdout",
     "output_type": "stream",
     "text": [
      "Learning vocabulary idf... \n",
      "Generating vector... \n",
      "Generating tf-idf mapper... \n",
      "Computing document length... \n",
      "Generating permutation index... \n",
      "Permuting matrix... \n",
      "Generating mappings... \n",
      "Computing terms information... \n",
      "CPU times: user 32.4 s, sys: 104 ms, total: 32.5 s\n",
      "Wall time: 32.5 s\n"
     ]
    }
   ],
   "source": [
    "%%time\n",
    "vectorizer.vectorize()"
   ],
   "metadata": {
    "collapsed": false,
    "ExecuteTime": {
     "end_time": "2023-05-24T16:12:02.996229343Z",
     "start_time": "2023-05-24T16:11:30.494592802Z"
    }
   }
  },
  {
   "cell_type": "markdown",
   "source": [
    "Saving data:"
   ],
   "metadata": {
    "collapsed": false
   }
  },
  {
   "cell_type": "code",
   "execution_count": 9,
   "outputs": [
    {
     "name": "stdout",
     "output_type": "stream",
     "text": [
      "Saving vector... \n",
      "Saving idf permutation... \n",
      "Saving mapping... \n",
      "Saving inverse mapping... \n",
      "Saving terms info... \n"
     ]
    }
   ],
   "source": [
    "vectorizer.save()"
   ],
   "metadata": {
    "collapsed": false,
    "ExecuteTime": {
     "end_time": "2023-05-24T16:12:04.040278024Z",
     "start_time": "2023-05-24T16:12:03.001632836Z"
    }
   }
  },
  {
   "cell_type": "markdown",
   "source": [
    "## Vectorizer: medium example"
   ],
   "metadata": {
    "collapsed": false
   }
  },
  {
   "cell_type": "markdown",
   "source": [
    "This dataset is a sample of the first 12000 documents of *trec-covid*"
   ],
   "metadata": {
    "collapsed": false
   }
  },
  {
   "cell_type": "code",
   "execution_count": 10,
   "outputs": [],
   "source": [
    "DATA_NAME = \"medium\""
   ],
   "metadata": {
    "collapsed": false,
    "ExecuteTime": {
     "end_time": "2023-05-24T16:12:04.048238744Z",
     "start_time": "2023-05-24T16:12:04.045538474Z"
    }
   }
  },
  {
   "cell_type": "markdown",
   "source": [
    "Parsing data:"
   ],
   "metadata": {
    "collapsed": false
   }
  },
  {
   "cell_type": "code",
   "execution_count": 11,
   "outputs": [
    {
     "name": "stdout",
     "output_type": "stream",
     "text": [
      "Parsing documents... \n",
      "Tokenizing documents... \n",
      "CPU times: user 52.5 s, sys: 572 ms, total: 53.1 s\n",
      "Wall time: 53.4 s\n"
     ]
    }
   ],
   "source": [
    "%%time\n",
    "from assignment3.model.preprocessing import DocumentsVectorizer\n",
    "vectorizer = DocumentsVectorizer(data_name=DATA_NAME)"
   ],
   "metadata": {
    "collapsed": false,
    "ExecuteTime": {
     "end_time": "2023-05-24T16:12:57.489489174Z",
     "start_time": "2023-05-24T16:12:04.051852769Z"
    }
   }
  },
  {
   "cell_type": "code",
   "execution_count": 12,
   "outputs": [
    {
     "data": {
      "text/plain": "medium Vectorizer [12000 documents]"
     },
     "execution_count": 12,
     "metadata": {},
     "output_type": "execute_result"
    }
   ],
   "source": [
    "vectorizer"
   ],
   "metadata": {
    "collapsed": false,
    "ExecuteTime": {
     "end_time": "2023-05-24T16:12:57.490153038Z",
     "start_time": "2023-05-24T16:12:57.489221159Z"
    }
   }
  },
  {
   "cell_type": "markdown",
   "source": [
    "Vectorizing data:"
   ],
   "metadata": {
    "collapsed": false
   }
  },
  {
   "cell_type": "code",
   "execution_count": 13,
   "outputs": [
    {
     "name": "stdout",
     "output_type": "stream",
     "text": [
      "Learning vocabulary idf... \n",
      "Generating vector... \n",
      "Generating tf-idf mapper... \n",
      "Computing document length... \n",
      "Generating permutation index... \n",
      "Permuting matrix... \n",
      "Generating mappings... \n",
      "Computing terms information... \n",
      "CPU times: user 1min 2s, sys: 240 ms, total: 1min 2s\n",
      "Wall time: 1min 2s\n"
     ]
    }
   ],
   "source": [
    "%%time\n",
    "vectorizer.vectorize()"
   ],
   "metadata": {
    "collapsed": false,
    "ExecuteTime": {
     "end_time": "2023-05-24T16:14:00.103005707Z",
     "start_time": "2023-05-24T16:12:57.489737695Z"
    }
   }
  },
  {
   "cell_type": "markdown",
   "source": [
    "Saving data:"
   ],
   "metadata": {
    "collapsed": false
   }
  },
  {
   "cell_type": "code",
   "execution_count": 14,
   "outputs": [
    {
     "name": "stdout",
     "output_type": "stream",
     "text": [
      "Saving vector... \n",
      "Saving idf permutation... \n",
      "Saving mapping... \n",
      "Saving inverse mapping... \n",
      "Saving terms info... \n"
     ]
    }
   ],
   "source": [
    "vectorizer.save()"
   ],
   "metadata": {
    "collapsed": false,
    "ExecuteTime": {
     "end_time": "2023-05-24T16:14:01.767179031Z",
     "start_time": "2023-05-24T16:14:00.092435283Z"
    }
   }
  },
  {
   "cell_type": "markdown",
   "source": [
    "## Vectorizer: large example"
   ],
   "metadata": {
    "collapsed": false
   }
  },
  {
   "cell_type": "markdown",
   "source": [
    "This dataset is a sample of the first 20000 documents of *trec-covid*"
   ],
   "metadata": {
    "collapsed": false
   }
  },
  {
   "cell_type": "code",
   "execution_count": 15,
   "outputs": [],
   "source": [
    "DATA_NAME = \"large\""
   ],
   "metadata": {
    "collapsed": false,
    "ExecuteTime": {
     "end_time": "2023-05-24T16:14:01.773517402Z",
     "start_time": "2023-05-24T16:14:01.770812164Z"
    }
   }
  },
  {
   "cell_type": "markdown",
   "source": [
    "Parsing data:"
   ],
   "metadata": {
    "collapsed": false
   }
  },
  {
   "cell_type": "code",
   "execution_count": 16,
   "outputs": [
    {
     "name": "stdout",
     "output_type": "stream",
     "text": [
      "Parsing documents... \n",
      "Tokenizing documents... \n",
      "CPU times: user 55.3 s, sys: 476 ms, total: 55.7 s\n",
      "Wall time: 55.7 s\n"
     ]
    }
   ],
   "source": [
    "%%time\n",
    "from assignment3.model.preprocessing import DocumentsVectorizer\n",
    "vectorizer = DocumentsVectorizer(data_name=DATA_NAME)"
   ],
   "metadata": {
    "collapsed": false,
    "ExecuteTime": {
     "end_time": "2023-05-24T16:14:57.561575678Z",
     "start_time": "2023-05-24T16:14:01.821063001Z"
    }
   }
  },
  {
   "cell_type": "code",
   "execution_count": 17,
   "outputs": [
    {
     "data": {
      "text/plain": "large Vectorizer [20000 documents]"
     },
     "execution_count": 17,
     "metadata": {},
     "output_type": "execute_result"
    }
   ],
   "source": [
    "vectorizer"
   ],
   "metadata": {
    "collapsed": false,
    "ExecuteTime": {
     "end_time": "2023-05-24T16:14:57.562256243Z",
     "start_time": "2023-05-24T16:14:57.561286742Z"
    }
   }
  },
  {
   "cell_type": "markdown",
   "source": [
    "Vectorizing data:"
   ],
   "metadata": {
    "collapsed": false
   }
  },
  {
   "cell_type": "code",
   "execution_count": 18,
   "outputs": [
    {
     "name": "stdout",
     "output_type": "stream",
     "text": [
      "Learning vocabulary idf... \n",
      "Generating vector... \n",
      "Generating tf-idf mapper... \n",
      "Computing document length... \n",
      "Generating permutation index... \n",
      "Permuting matrix... \n",
      "Generating mappings... \n",
      "Computing terms information... \n",
      "CPU times: user 1min 23s, sys: 248 ms, total: 1min 23s\n",
      "Wall time: 1min 23s\n"
     ]
    }
   ],
   "source": [
    "%%time\n",
    "vectorizer.vectorize()"
   ],
   "metadata": {
    "collapsed": false,
    "ExecuteTime": {
     "end_time": "2023-05-24T16:16:21.278475058Z",
     "start_time": "2023-05-24T16:14:57.561838520Z"
    }
   }
  },
  {
   "cell_type": "markdown",
   "source": [
    "Saving data:"
   ],
   "metadata": {
    "collapsed": false
   }
  },
  {
   "cell_type": "code",
   "execution_count": 19,
   "outputs": [
    {
     "name": "stdout",
     "output_type": "stream",
     "text": [
      "Saving vector... \n",
      "Saving idf permutation... \n",
      "Saving mapping... \n",
      "Saving inverse mapping... \n",
      "Saving terms info... \n"
     ]
    }
   ],
   "source": [
    "vectorizer.save()"
   ],
   "metadata": {
    "collapsed": false,
    "ExecuteTime": {
     "end_time": "2023-05-24T16:16:24.354285395Z",
     "start_time": "2023-05-24T16:16:21.283001503Z"
    }
   }
  }
 ],
 "metadata": {
  "kernelspec": {
   "display_name": "Python 3",
   "language": "python",
   "name": "python3"
  },
  "language_info": {
   "codemirror_mode": {
    "name": "ipython",
    "version": 2
   },
   "file_extension": ".py",
   "mimetype": "text/x-python",
   "name": "python",
   "nbconvert_exporter": "python",
   "pygments_lexer": "ipython2",
   "version": "2.7.6"
  }
 },
 "nbformat": 4,
 "nbformat_minor": 0
}
