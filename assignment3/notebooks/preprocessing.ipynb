{
 "cells": [
  {
   "cell_type": "code",
   "execution_count": 1,
   "outputs": [],
   "source": [
    "import sys\n",
    "sys.path.append('/home/sebaq/Documents/GitHub/LWMD_assignments')"
   ],
   "metadata": {
    "collapsed": false,
    "ExecuteTime": {
     "end_time": "2023-05-18T09:04:26.875661804Z",
     "start_time": "2023-05-18T09:04:26.769060147Z"
    }
   }
  },
  {
   "cell_type": "markdown",
   "metadata": {
    "collapsed": false,
    "pycharm": {
     "name": "#%% md\n"
    }
   },
   "source": [
    "## Downloader"
   ]
  },
  {
   "cell_type": "code",
   "execution_count": 2,
   "outputs": [],
   "source": [
    "DATA_NAME = \"trec-covid\""
   ],
   "metadata": {
    "collapsed": false,
    "ExecuteTime": {
     "end_time": "2023-05-18T09:04:26.901768859Z",
     "start_time": "2023-05-18T09:04:26.791005447Z"
    }
   }
  },
  {
   "cell_type": "code",
   "execution_count": 3,
   "metadata": {
    "collapsed": false,
    "pycharm": {
     "name": "#%%\n"
    },
    "ExecuteTime": {
     "end_time": "2023-05-18T09:04:28.109528733Z",
     "start_time": "2023-05-18T09:04:26.798659813Z"
    }
   },
   "outputs": [],
   "source": [
    "from assignment3.model.preprocessing import BEIRDatasetDownloader\n",
    "\n",
    "downloader = BEIRDatasetDownloader(data_name=DATA_NAME)"
   ]
  },
  {
   "cell_type": "code",
   "execution_count": 4,
   "metadata": {
    "collapsed": false,
    "pycharm": {
     "name": "#%%\n"
    },
    "ExecuteTime": {
     "end_time": "2023-05-18T09:04:28.110122588Z",
     "start_time": "2023-05-18T09:04:28.109351782Z"
    }
   },
   "outputs": [
    {
     "name": "stdout",
     "output_type": "stream",
     "text": [
      "trec-covid dataset already exists. \n",
      "CPU times: user 603 µs, sys: 77 µs, total: 680 µs\n",
      "Wall time: 748 µs\n"
     ]
    }
   ],
   "source": [
    "%%time\n",
    "downloader.download()"
   ]
  },
  {
   "cell_type": "markdown",
   "metadata": {
    "collapsed": false
   },
   "source": [
    "## Vectorizer"
   ]
  },
  {
   "cell_type": "code",
   "execution_count": 5,
   "metadata": {
    "collapsed": false,
    "pycharm": {
     "name": "#%%\n"
    },
    "ExecuteTime": {
     "end_time": "2023-05-18T09:04:28.110366893Z",
     "start_time": "2023-05-18T09:04:28.109800650Z"
    }
   },
   "outputs": [],
   "source": [
    "DATA_NAME = \"tiny\""
   ]
  },
  {
   "cell_type": "code",
   "execution_count": 6,
   "metadata": {
    "collapsed": false,
    "pycharm": {
     "name": "#%%\n"
    },
    "ExecuteTime": {
     "end_time": "2023-05-18T09:04:30.103296038Z",
     "start_time": "2023-05-18T09:04:28.110038329Z"
    }
   },
   "outputs": [
    {
     "name": "stdout",
     "output_type": "stream",
     "text": [
      "Parsing documents. \n",
      "Tokenizing documents. \n",
      "CPU times: user 1.85 s, sys: 116 ms, total: 1.96 s\n",
      "Wall time: 1.98 s\n"
     ]
    }
   ],
   "source": [
    "%%time\n",
    "from assignment3.model.preprocessing import DocumentsVectorizer\n",
    "\n",
    "vectorizer = DocumentsVectorizer(data_name=DATA_NAME)"
   ]
  },
  {
   "cell_type": "code",
   "execution_count": 7,
   "metadata": {
    "collapsed": false,
    "pycharm": {
     "name": "#%%\n"
    },
    "ExecuteTime": {
     "end_time": "2023-05-18T09:04:30.104678669Z",
     "start_time": "2023-05-18T09:04:30.080673366Z"
    }
   },
   "outputs": [
    {
     "data": {
      "text/plain": "tiny Vectorizer [10 documents]"
     },
     "execution_count": 7,
     "metadata": {},
     "output_type": "execute_result"
    }
   ],
   "source": [
    "vectorizer"
   ]
  },
  {
   "cell_type": "code",
   "execution_count": 8,
   "metadata": {
    "collapsed": false,
    "pycharm": {
     "name": "#%%\n"
    },
    "ExecuteTime": {
     "end_time": "2023-05-18T09:04:30.191545677Z",
     "start_time": "2023-05-18T09:04:30.105081158Z"
    }
   },
   "outputs": [
    {
     "name": "stdout",
     "output_type": "stream",
     "text": [
      "Learning vocabulary idf. \n",
      "Generating vector. \n",
      "Generating tf-idf mapper\n",
      "Computing document length\n",
      "Generating permutation index\n",
      "Permuting matrix\n",
      "Generating mappings\n",
      "Computing terms information... \n",
      "CPU times: user 23.4 ms, sys: 0 ns, total: 23.4 ms\n",
      "Wall time: 22.4 ms\n"
     ]
    }
   ],
   "source": [
    "%%time\n",
    "vectorizer.vectorize()"
   ]
  },
  {
   "cell_type": "code",
   "execution_count": 9,
   "metadata": {
    "collapsed": false,
    "pycharm": {
     "name": "#%%\n"
    },
    "ExecuteTime": {
     "end_time": "2023-05-18T09:04:30.206114330Z",
     "start_time": "2023-05-18T09:04:30.124828813Z"
    }
   },
   "outputs": [
    {
     "name": "stdout",
     "output_type": "stream",
     "text": [
      "Saving vector\n",
      "Saving idf permutation\n",
      "Saving mapping\n",
      "Saving inverse mapping\n",
      "Saving terms info\n",
      "{'0': 18, '1': 22, '2': 19, '3': 17, '4': 19, '5': 19, '6': 14, '7': 23, '8': 17, '9': 14}\n",
      "{'0': 14, '1': 22, '2': 4, '3': 4, '4': 4, '5': 4, '6': 10, '7': 23, '8': 2, '9': 10}\n"
     ]
    }
   ],
   "source": [
    "vectorizer.save()"
   ]
  },
  {
   "cell_type": "markdown",
   "metadata": {
    "collapsed": false,
    "pycharm": {
     "name": "#%% md\n"
    }
   },
   "source": [
    "## Sketching"
   ]
  },
  {
   "cell_type": "code",
   "execution_count": 10,
   "metadata": {
    "collapsed": false,
    "pycharm": {
     "name": "#%%\n"
    },
    "ExecuteTime": {
     "end_time": "2023-05-18T09:04:30.206267569Z",
     "start_time": "2023-05-18T09:04:30.169598335Z"
    }
   },
   "outputs": [],
   "source": [
    "N_HASH = 128"
   ]
  },
  {
   "cell_type": "code",
   "execution_count": 11,
   "metadata": {
    "collapsed": false,
    "pycharm": {
     "name": "#%%\n"
    },
    "ExecuteTime": {
     "end_time": "2023-05-18T09:04:30.254482884Z",
     "start_time": "2023-05-18T09:04:30.169954536Z"
    }
   },
   "outputs": [
    {
     "name": "stdout",
     "output_type": "stream",
     "text": [
      "Parsing documents. \n",
      "Tokenizing documents. \n",
      "CPU times: user 20.1 ms, sys: 0 ns, total: 20.1 ms\n",
      "Wall time: 21.6 ms\n"
     ]
    }
   ],
   "source": [
    "%%time\n",
    "from assignment3.model.preprocessing import DocumentsSketching\n",
    "\n",
    "sketching = DocumentsSketching(data_name=DATA_NAME, n_hash=N_HASH)"
   ]
  },
  {
   "cell_type": "code",
   "execution_count": 12,
   "metadata": {
    "collapsed": false,
    "pycharm": {
     "name": "#%%\n"
    },
    "ExecuteTime": {
     "end_time": "2023-05-18T09:04:30.254828564Z",
     "start_time": "2023-05-18T09:04:30.213383980Z"
    }
   },
   "outputs": [
    {
     "data": {
      "text/plain": "tiny Sketching [10 docs, 128 hash functions]"
     },
     "execution_count": 12,
     "metadata": {},
     "output_type": "execute_result"
    }
   ],
   "source": [
    "sketching"
   ]
  },
  {
   "cell_type": "code",
   "execution_count": 13,
   "metadata": {
    "collapsed": false,
    "pycharm": {
     "name": "#%%\n"
    },
    "ExecuteTime": {
     "end_time": "2023-05-18T09:04:30.255165363Z",
     "start_time": "2023-05-18T09:04:30.213581335Z"
    }
   },
   "outputs": [
    {
     "name": "stdout",
     "output_type": "stream",
     "text": [
      "Performing sketching\n",
      "CPU times: user 22.6 ms, sys: 266 µs, total: 22.9 ms\n",
      "Wall time: 22.9 ms\n"
     ]
    }
   ],
   "source": [
    "%%time\n",
    "sketching.sketch()"
   ]
  },
  {
   "cell_type": "code",
   "execution_count": 14,
   "outputs": [
    {
     "name": "stdout",
     "output_type": "stream",
     "text": [
      "Saving signatures\n"
     ]
    }
   ],
   "source": [
    "sketching.save()"
   ],
   "metadata": {
    "collapsed": false,
    "ExecuteTime": {
     "end_time": "2023-05-18T09:04:30.255485132Z",
     "start_time": "2023-05-18T09:04:30.224918964Z"
    }
   }
  }
 ],
 "metadata": {
  "kernelspec": {
   "display_name": "Python 3",
   "language": "python",
   "name": "python3"
  },
  "language_info": {
   "codemirror_mode": {
    "name": "ipython",
    "version": 2
   },
   "file_extension": ".py",
   "mimetype": "text/x-python",
   "name": "python",
   "nbconvert_exporter": "python",
   "pygments_lexer": "ipython2",
   "version": "2.7.6"
  }
 },
 "nbformat": 4,
 "nbformat_minor": 0
}
