{
 "cells": [
  {
   "cell_type": "code",
   "execution_count": 1,
   "outputs": [],
   "source": [
    "import sys\n",
    "sys.path.append('/home/sebaq/Documents/GitHub/LWMD_assignments')"
   ],
   "metadata": {
    "collapsed": false,
    "ExecuteTime": {
     "end_time": "2023-05-16T12:07:45.973592073Z",
     "start_time": "2023-05-16T12:07:45.968692808Z"
    }
   }
  },
  {
   "cell_type": "code",
   "execution_count": 2,
   "outputs": [],
   "source": [
    "DATA_NAME = \"trec-covid\"\n",
    "import sys"
   ],
   "metadata": {
    "collapsed": false,
    "ExecuteTime": {
     "end_time": "2023-05-16T12:07:47.007367254Z",
     "start_time": "2023-05-16T12:07:46.984352069Z"
    }
   }
  },
  {
   "cell_type": "markdown",
   "metadata": {
    "collapsed": false,
    "pycharm": {
     "name": "#%% md\n"
    }
   },
   "source": [
    "## Downloader"
   ]
  },
  {
   "cell_type": "code",
   "execution_count": 3,
   "metadata": {
    "collapsed": false,
    "pycharm": {
     "name": "#%%\n"
    },
    "ExecuteTime": {
     "end_time": "2023-05-16T12:07:50.799475323Z",
     "start_time": "2023-05-16T12:07:49.014084385Z"
    }
   },
   "outputs": [],
   "source": [
    "from assignment3.model.preprocessing import BEIRDatasetDownloader\n",
    "\n",
    "downloader = BEIRDatasetDownloader(data_name=DATA_NAME)"
   ]
  },
  {
   "cell_type": "code",
   "execution_count": 4,
   "metadata": {
    "collapsed": false,
    "pycharm": {
     "name": "#%%\n"
    },
    "ExecuteTime": {
     "end_time": "2023-05-16T12:07:50.812187300Z",
     "start_time": "2023-05-16T12:07:50.805669276Z"
    }
   },
   "outputs": [
    {
     "name": "stdout",
     "output_type": "stream",
     "text": [
      "trec-covid dataset already exists. \n",
      "CPU times: user 1.59 ms, sys: 227 µs, total: 1.82 ms\n",
      "Wall time: 1.4 ms\n"
     ]
    }
   ],
   "source": [
    "%%time\n",
    "downloader.download()"
   ]
  },
  {
   "cell_type": "markdown",
   "metadata": {
    "collapsed": false
   },
   "source": [
    "## Vectorizer"
   ]
  },
  {
   "cell_type": "code",
   "execution_count": 5,
   "metadata": {
    "collapsed": false,
    "pycharm": {
     "name": "#%%\n"
    },
    "ExecuteTime": {
     "end_time": "2023-05-16T12:07:52.149190313Z",
     "start_time": "2023-05-16T12:07:52.090550901Z"
    }
   },
   "outputs": [],
   "source": [
    "DATA_NAME = \"trec-covid-small\""
   ]
  },
  {
   "cell_type": "code",
   "execution_count": 6,
   "metadata": {
    "collapsed": false,
    "pycharm": {
     "name": "#%%\n"
    },
    "ExecuteTime": {
     "end_time": "2023-05-16T12:08:02.665904231Z",
     "start_time": "2023-05-16T12:07:53.223699775Z"
    }
   },
   "outputs": [
    {
     "name": "stdout",
     "output_type": "stream",
     "text": [
      "Parsing documents. \n",
      "Tokenizing documents. \n",
      "CPU times: user 9.21 s, sys: 168 ms, total: 9.38 s\n",
      "Wall time: 9.44 s\n"
     ]
    }
   ],
   "source": [
    "%%time\n",
    "from assignment3.model.preprocessing import DocumentsVectorizer\n",
    "\n",
    "vectorizer = DocumentsVectorizer(data_name=DATA_NAME)"
   ]
  },
  {
   "cell_type": "code",
   "execution_count": 7,
   "metadata": {
    "collapsed": false,
    "pycharm": {
     "name": "#%%\n"
    },
    "ExecuteTime": {
     "end_time": "2023-05-16T12:08:02.684306344Z",
     "start_time": "2023-05-16T12:08:02.675361769Z"
    }
   },
   "outputs": [
    {
     "data": {
      "text/plain": "trec-covid-small Vectorizer [1500 documents]"
     },
     "execution_count": 7,
     "metadata": {},
     "output_type": "execute_result"
    }
   ],
   "source": [
    "vectorizer"
   ]
  },
  {
   "cell_type": "code",
   "execution_count": 8,
   "metadata": {
    "collapsed": false,
    "pycharm": {
     "name": "#%%\n"
    },
    "ExecuteTime": {
     "end_time": "2023-05-16T12:10:22.839212656Z",
     "start_time": "2023-05-16T12:08:02.683869744Z"
    }
   },
   "outputs": [
    {
     "name": "stdout",
     "output_type": "stream",
     "text": [
      "Learning vocabulary idf. \n",
      "Generating vector. \n",
      "Generating tf-idf mapper\n",
      "Computing document length\n",
      "Generating permutation index\n",
      "Permuting matrix\n",
      "Generating mappings\n",
      "Computing terms information... \n",
      "CPU times: user 2min 19s, sys: 172 ms, total: 2min 19s\n",
      "Wall time: 2min 20s\n"
     ]
    }
   ],
   "source": [
    "%%time\n",
    "vectorizer.vectorize()"
   ]
  },
  {
   "cell_type": "code",
   "execution_count": 9,
   "metadata": {
    "collapsed": false,
    "pycharm": {
     "name": "#%%\n"
    },
    "ExecuteTime": {
     "end_time": "2023-05-16T12:10:22.962485469Z",
     "start_time": "2023-05-16T12:10:22.831983551Z"
    }
   },
   "outputs": [
    {
     "name": "stdout",
     "output_type": "stream",
     "text": [
      "Saving vector\n",
      "Saving idf permutation\n",
      "Saving mapping\n",
      "Saving inverse mapping\n",
      "Saving terms info\n"
     ]
    }
   ],
   "source": [
    "vectorizer.save()"
   ]
  },
  {
   "cell_type": "markdown",
   "metadata": {
    "collapsed": false,
    "pycharm": {
     "name": "#%% md\n"
    }
   },
   "source": [
    "## Sketching"
   ]
  },
  {
   "cell_type": "code",
   "execution_count": 10,
   "metadata": {
    "collapsed": false,
    "pycharm": {
     "name": "#%%\n"
    },
    "ExecuteTime": {
     "end_time": "2023-05-16T12:10:22.968848980Z",
     "start_time": "2023-05-16T12:10:22.965808199Z"
    }
   },
   "outputs": [],
   "source": [
    "N_HASH = 1"
   ]
  },
  {
   "cell_type": "code",
   "execution_count": 11,
   "metadata": {
    "collapsed": false,
    "pycharm": {
     "name": "#%%\n"
    },
    "ExecuteTime": {
     "end_time": "2023-05-16T12:10:29.675856248Z",
     "start_time": "2023-05-16T12:10:22.972173744Z"
    }
   },
   "outputs": [
    {
     "name": "stdout",
     "output_type": "stream",
     "text": [
      "Parsing documents. \n",
      "Tokenizing documents. \n",
      "CPU times: user 6.62 s, sys: 48 ms, total: 6.67 s\n",
      "Wall time: 6.68 s\n"
     ]
    }
   ],
   "source": [
    "%%time\n",
    "from assignment3.model.preprocessing import DocumentsSketching\n",
    "\n",
    "sketching = DocumentsSketching(data_name=DATA_NAME, n_hash=N_HASH)"
   ]
  },
  {
   "cell_type": "code",
   "execution_count": 12,
   "metadata": {
    "collapsed": false,
    "pycharm": {
     "name": "#%%\n"
    },
    "ExecuteTime": {
     "end_time": "2023-05-16T12:10:29.677218933Z",
     "start_time": "2023-05-16T12:10:29.674271903Z"
    }
   },
   "outputs": [
    {
     "data": {
      "text/plain": "trec-covid-small Sketching [1500 docs, 1 hash functions]"
     },
     "execution_count": 12,
     "metadata": {},
     "output_type": "execute_result"
    }
   ],
   "source": [
    "sketching"
   ]
  },
  {
   "cell_type": "code",
   "execution_count": 13,
   "metadata": {
    "collapsed": false,
    "pycharm": {
     "name": "#%%\n"
    },
    "ExecuteTime": {
     "end_time": "2023-05-16T12:10:32.576145039Z",
     "start_time": "2023-05-16T12:10:29.675477155Z"
    }
   },
   "outputs": [
    {
     "name": "stdout",
     "output_type": "stream",
     "text": [
      "Performing sketching\n",
      "CPU times: user 2.89 s, sys: 8 ms, total: 2.9 s\n",
      "Wall time: 2.89 s\n"
     ]
    }
   ],
   "source": [
    "%%time\n",
    "sketching.sketch()"
   ]
  },
  {
   "cell_type": "code",
   "execution_count": 14,
   "metadata": {
    "collapsed": false,
    "pycharm": {
     "name": "#%%\n"
    },
    "ExecuteTime": {
     "end_time": "2023-05-16T12:10:32.592303259Z",
     "start_time": "2023-05-16T12:10:32.578641174Z"
    }
   },
   "outputs": [
    {
     "name": "stdout",
     "output_type": "stream",
     "text": [
      "Saving signatures\n"
     ]
    }
   ],
   "source": [
    "sketching.save()"
   ]
  }
 ],
 "metadata": {
  "kernelspec": {
   "display_name": "Python 3",
   "language": "python",
   "name": "python3"
  },
  "language_info": {
   "codemirror_mode": {
    "name": "ipython",
    "version": 2
   },
   "file_extension": ".py",
   "mimetype": "text/x-python",
   "name": "python",
   "nbconvert_exporter": "python",
   "pygments_lexer": "ipython2",
   "version": "2.7.6"
  }
 },
 "nbformat": 4,
 "nbformat_minor": 0
}
