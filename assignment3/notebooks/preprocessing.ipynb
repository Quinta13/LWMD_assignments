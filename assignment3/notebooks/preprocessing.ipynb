{
 "cells": [
  {
   "cell_type": "code",
   "execution_count": 1,
   "outputs": [],
   "source": [
    "import sys\n",
    "sys.path.append('/home/sebaq/Documents/GitHub/LWMD_assignments')"
   ],
   "metadata": {
    "collapsed": false,
    "ExecuteTime": {
     "end_time": "2023-05-22T14:40:42.468781975Z",
     "start_time": "2023-05-22T14:40:42.242233227Z"
    }
   }
  },
  {
   "cell_type": "markdown",
   "metadata": {
    "collapsed": false,
    "pycharm": {
     "name": "#%% md\n"
    }
   },
   "source": [
    "## Downloader"
   ]
  },
  {
   "cell_type": "markdown",
   "source": [
    "This notebook peform preprocessing over [trec-covid](https://ir.nist.gov/covidSubmit/index.html) dataset"
   ],
   "metadata": {
    "collapsed": false
   }
  },
  {
   "cell_type": "code",
   "execution_count": 2,
   "outputs": [],
   "source": [
    "DATA_NAME = \"trec-covid\""
   ],
   "metadata": {
    "collapsed": false,
    "ExecuteTime": {
     "end_time": "2023-05-22T14:40:42.478887603Z",
     "start_time": "2023-05-22T14:40:42.261123956Z"
    }
   }
  },
  {
   "cell_type": "code",
   "execution_count": 3,
   "metadata": {
    "collapsed": false,
    "pycharm": {
     "name": "#%%\n"
    },
    "ExecuteTime": {
     "end_time": "2023-05-22T14:40:43.453151203Z",
     "start_time": "2023-05-22T14:40:42.268856729Z"
    }
   },
   "outputs": [],
   "source": [
    "from assignment3.model.preprocessing import BEIRDatasetDownloader\n",
    "downloader = BEIRDatasetDownloader(data_name=DATA_NAME)"
   ]
  },
  {
   "cell_type": "markdown",
   "source": [
    "Downloading dataset:"
   ],
   "metadata": {
    "collapsed": false
   }
  },
  {
   "cell_type": "code",
   "execution_count": 4,
   "metadata": {
    "collapsed": false,
    "pycharm": {
     "name": "#%%\n"
    },
    "ExecuteTime": {
     "end_time": "2023-05-22T14:40:43.505075798Z",
     "start_time": "2023-05-22T14:40:43.493410139Z"
    }
   },
   "outputs": [
    {
     "name": "stdout",
     "output_type": "stream",
     "text": [
      "trec-covid dataset already exists. \n",
      "CPU times: user 0 ns, sys: 1.26 ms, total: 1.26 ms\n",
      "Wall time: 2.64 ms\n"
     ]
    }
   ],
   "source": [
    "%%time\n",
    "downloader.download()"
   ]
  },
  {
   "cell_type": "markdown",
   "metadata": {
    "collapsed": false
   },
   "source": [
    "## Vectorizer: toy example"
   ]
  },
  {
   "cell_type": "markdown",
   "source": [
    "This toy example is a simple own-built dataset with few documents"
   ],
   "metadata": {
    "collapsed": false
   }
  },
  {
   "cell_type": "code",
   "execution_count": 5,
   "metadata": {
    "collapsed": false,
    "pycharm": {
     "name": "#%%\n"
    },
    "ExecuteTime": {
     "end_time": "2023-05-22T14:40:43.505392841Z",
     "start_time": "2023-05-22T14:40:43.493841444Z"
    }
   },
   "outputs": [],
   "source": [
    "DATA_NAME = \"toy\""
   ]
  },
  {
   "cell_type": "markdown",
   "source": [
    "Parsing data:"
   ],
   "metadata": {
    "collapsed": false
   }
  },
  {
   "cell_type": "code",
   "execution_count": 6,
   "metadata": {
    "collapsed": false,
    "pycharm": {
     "name": "#%%\n"
    },
    "ExecuteTime": {
     "end_time": "2023-05-22T14:40:44.989346994Z",
     "start_time": "2023-05-22T14:40:43.494035445Z"
    }
   },
   "outputs": [
    {
     "name": "stdout",
     "output_type": "stream",
     "text": [
      "Parsing documents... \n",
      "Tokenizing documents... \n",
      "CPU times: user 1.44 s, sys: 60 ms, total: 1.5 s\n",
      "Wall time: 1.5 s\n"
     ]
    }
   ],
   "source": [
    "%%time\n",
    "from assignment3.model.preprocessing import DocumentsVectorizer\n",
    "vectorizer = DocumentsVectorizer(data_name=DATA_NAME)"
   ]
  },
  {
   "cell_type": "code",
   "execution_count": 7,
   "metadata": {
    "collapsed": false,
    "pycharm": {
     "name": "#%%\n"
    },
    "ExecuteTime": {
     "end_time": "2023-05-22T14:40:45.001292986Z",
     "start_time": "2023-05-22T14:40:44.996523743Z"
    }
   },
   "outputs": [
    {
     "data": {
      "text/plain": "toy Vectorizer [10 documents]"
     },
     "execution_count": 7,
     "metadata": {},
     "output_type": "execute_result"
    }
   ],
   "source": [
    "vectorizer"
   ]
  },
  {
   "cell_type": "markdown",
   "source": [
    "Vectorizing data:"
   ],
   "metadata": {
    "collapsed": false
   }
  },
  {
   "cell_type": "code",
   "execution_count": 8,
   "metadata": {
    "collapsed": false,
    "pycharm": {
     "name": "#%%\n"
    },
    "ExecuteTime": {
     "end_time": "2023-05-22T14:40:45.041490947Z",
     "start_time": "2023-05-22T14:40:45.003949304Z"
    }
   },
   "outputs": [
    {
     "name": "stdout",
     "output_type": "stream",
     "text": [
      "Learning vocabulary idf... \n",
      "Generating vector... \n",
      "Generating tf-idf mapper... \n",
      "Computing document length... \n",
      "Generating permutation index... \n",
      "Permuting matrix... \n",
      "Generating mappings... \n",
      "Computing terms information... \n",
      "CPU times: user 21.7 ms, sys: 155 µs, total: 21.9 ms\n",
      "Wall time: 20.7 ms\n"
     ]
    }
   ],
   "source": [
    "%%time\n",
    "vectorizer.vectorize()"
   ]
  },
  {
   "cell_type": "markdown",
   "source": [
    "Saving data:"
   ],
   "metadata": {
    "collapsed": false
   }
  },
  {
   "cell_type": "code",
   "execution_count": 9,
   "metadata": {
    "collapsed": false,
    "pycharm": {
     "name": "#%%\n"
    },
    "ExecuteTime": {
     "end_time": "2023-05-22T14:40:45.053541709Z",
     "start_time": "2023-05-22T14:40:45.042441021Z"
    }
   },
   "outputs": [
    {
     "name": "stdout",
     "output_type": "stream",
     "text": [
      "Saving vector... \n",
      "Saving idf permutation... \n",
      "Saving mapping... \n",
      "Saving inverse mapping... \n",
      "Saving terms info... \n"
     ]
    }
   ],
   "source": [
    "vectorizer.save()"
   ]
  },
  {
   "cell_type": "markdown",
   "source": [
    "## Vectorizer: tiny\n",
    " example"
   ],
   "metadata": {
    "collapsed": false
   }
  },
  {
   "cell_type": "markdown",
   "source": [
    "This dataset is a sample of the first 5000 documents of *trec-covid*"
   ],
   "metadata": {
    "collapsed": false
   }
  },
  {
   "cell_type": "code",
   "execution_count": 10,
   "outputs": [],
   "source": [
    "DATA_NAME = \"tiny\""
   ],
   "metadata": {
    "collapsed": false,
    "ExecuteTime": {
     "end_time": "2023-05-22T14:40:45.113626621Z",
     "start_time": "2023-05-22T14:40:45.055688578Z"
    }
   }
  },
  {
   "cell_type": "markdown",
   "source": [
    "Parsing data:"
   ],
   "metadata": {
    "collapsed": false
   }
  },
  {
   "cell_type": "code",
   "execution_count": 11,
   "outputs": [
    {
     "name": "stdout",
     "output_type": "stream",
     "text": [
      "Parsing documents... \n",
      "Tokenizing documents... \n",
      "CPU times: user 26 s, sys: 311 ms, total: 26.3 s\n",
      "Wall time: 26.3 s\n"
     ]
    }
   ],
   "source": [
    "%%time\n",
    "from assignment3.model.preprocessing import DocumentsVectorizer\n",
    "vectorizer = DocumentsVectorizer(data_name=DATA_NAME)"
   ],
   "metadata": {
    "collapsed": false,
    "ExecuteTime": {
     "end_time": "2023-05-22T14:41:11.402901124Z",
     "start_time": "2023-05-22T14:40:45.097408148Z"
    }
   }
  },
  {
   "cell_type": "code",
   "execution_count": 12,
   "outputs": [
    {
     "data": {
      "text/plain": "tiny Vectorizer [5000 documents]"
     },
     "execution_count": 12,
     "metadata": {},
     "output_type": "execute_result"
    }
   ],
   "source": [
    "vectorizer"
   ],
   "metadata": {
    "collapsed": false,
    "ExecuteTime": {
     "end_time": "2023-05-22T14:41:11.403329241Z",
     "start_time": "2023-05-22T14:41:11.402698050Z"
    }
   }
  },
  {
   "cell_type": "markdown",
   "source": [
    "Vectorizing data:"
   ],
   "metadata": {
    "collapsed": false
   }
  },
  {
   "cell_type": "code",
   "execution_count": 13,
   "outputs": [
    {
     "name": "stdout",
     "output_type": "stream",
     "text": [
      "Learning vocabulary idf... \n",
      "Generating vector... \n",
      "Generating tf-idf mapper... \n",
      "Computing document length... \n",
      "Generating permutation index... \n",
      "Permuting matrix... \n",
      "Generating mappings... \n",
      "Computing terms information... \n",
      "CPU times: user 29.6 s, sys: 140 ms, total: 29.8 s\n",
      "Wall time: 29.7 s\n"
     ]
    }
   ],
   "source": [
    "%%time\n",
    "vectorizer.vectorize()"
   ],
   "metadata": {
    "collapsed": false,
    "ExecuteTime": {
     "end_time": "2023-05-22T14:41:41.142419974Z",
     "start_time": "2023-05-22T14:41:11.403048040Z"
    }
   }
  },
  {
   "cell_type": "markdown",
   "source": [
    "Saving data:"
   ],
   "metadata": {
    "collapsed": false
   }
  },
  {
   "cell_type": "code",
   "execution_count": 14,
   "outputs": [
    {
     "name": "stdout",
     "output_type": "stream",
     "text": [
      "Saving vector... \n",
      "Saving idf permutation... \n",
      "Saving mapping... \n",
      "Saving inverse mapping... \n",
      "Saving terms info... \n"
     ]
    }
   ],
   "source": [
    "vectorizer.save()"
   ],
   "metadata": {
    "collapsed": false,
    "ExecuteTime": {
     "end_time": "2023-05-22T14:41:42.070041725Z",
     "start_time": "2023-05-22T14:41:41.144153591Z"
    }
   }
  },
  {
   "cell_type": "markdown",
   "source": [
    "## Vectorizer: small example"
   ],
   "metadata": {
    "collapsed": false
   }
  },
  {
   "cell_type": "markdown",
   "source": [
    "This dataset is a sample of the first 20000 documents of *trec-covid*"
   ],
   "metadata": {
    "collapsed": false
   }
  },
  {
   "cell_type": "code",
   "execution_count": 15,
   "outputs": [],
   "source": [
    "DATA_NAME = \"small\""
   ],
   "metadata": {
    "collapsed": false,
    "ExecuteTime": {
     "end_time": "2023-05-22T14:41:42.074982262Z",
     "start_time": "2023-05-22T14:41:42.071001683Z"
    }
   }
  },
  {
   "cell_type": "markdown",
   "source": [
    "Parsing data:"
   ],
   "metadata": {
    "collapsed": false
   }
  },
  {
   "cell_type": "code",
   "execution_count": 16,
   "outputs": [
    {
     "name": "stdout",
     "output_type": "stream",
     "text": [
      "Parsing documents... \n",
      "Tokenizing documents... \n",
      "CPU times: user 1min 5s, sys: 720 ms, total: 1min 5s\n",
      "Wall time: 1min 6s\n"
     ]
    }
   ],
   "source": [
    "%%time\n",
    "from assignment3.model.preprocessing import DocumentsVectorizer\n",
    "vectorizer = DocumentsVectorizer(data_name=DATA_NAME)"
   ],
   "metadata": {
    "collapsed": false,
    "ExecuteTime": {
     "end_time": "2023-05-22T14:42:48.122670630Z",
     "start_time": "2023-05-22T14:41:42.075735666Z"
    }
   }
  },
  {
   "cell_type": "code",
   "execution_count": 17,
   "outputs": [
    {
     "data": {
      "text/plain": "small Vectorizer [20000 documents]"
     },
     "execution_count": 17,
     "metadata": {},
     "output_type": "execute_result"
    }
   ],
   "source": [
    "vectorizer"
   ],
   "metadata": {
    "collapsed": false,
    "ExecuteTime": {
     "end_time": "2023-05-22T14:42:48.129510010Z",
     "start_time": "2023-05-22T14:42:48.125330728Z"
    }
   }
  },
  {
   "cell_type": "markdown",
   "source": [
    "Vectorizing data:"
   ],
   "metadata": {
    "collapsed": false
   }
  },
  {
   "cell_type": "code",
   "execution_count": 18,
   "outputs": [
    {
     "name": "stdout",
     "output_type": "stream",
     "text": [
      "Learning vocabulary idf... \n",
      "Generating vector... \n",
      "Generating tf-idf mapper... \n",
      "Computing document length... \n",
      "Generating permutation index... \n",
      "Permuting matrix... \n",
      "Generating mappings... \n",
      "Computing terms information... \n",
      "CPU times: user 1min 20s, sys: 276 ms, total: 1min 20s\n",
      "Wall time: 1min 20s\n"
     ]
    }
   ],
   "source": [
    "%%time\n",
    "vectorizer.vectorize()"
   ],
   "metadata": {
    "collapsed": false,
    "ExecuteTime": {
     "end_time": "2023-05-22T14:44:08.366661532Z",
     "start_time": "2023-05-22T14:42:48.132306986Z"
    }
   }
  },
  {
   "cell_type": "markdown",
   "source": [
    "Saving data:"
   ],
   "metadata": {
    "collapsed": false
   }
  },
  {
   "cell_type": "code",
   "execution_count": 19,
   "outputs": [
    {
     "name": "stdout",
     "output_type": "stream",
     "text": [
      "Saving vector... \n",
      "Saving idf permutation... \n",
      "Saving mapping... \n",
      "Saving inverse mapping... \n",
      "Saving terms info... \n"
     ]
    }
   ],
   "source": [
    "vectorizer.save()"
   ],
   "metadata": {
    "collapsed": false,
    "ExecuteTime": {
     "end_time": "2023-05-22T14:44:11.060284220Z",
     "start_time": "2023-05-22T14:44:08.366404106Z"
    }
   }
  }
 ],
 "metadata": {
  "kernelspec": {
   "display_name": "Python 3",
   "language": "python",
   "name": "python3"
  },
  "language_info": {
   "codemirror_mode": {
    "name": "ipython",
    "version": 2
   },
   "file_extension": ".py",
   "mimetype": "text/x-python",
   "name": "python",
   "nbconvert_exporter": "python",
   "pygments_lexer": "ipython2",
   "version": "2.7.6"
  }
 },
 "nbformat": 4,
 "nbformat_minor": 0
}
