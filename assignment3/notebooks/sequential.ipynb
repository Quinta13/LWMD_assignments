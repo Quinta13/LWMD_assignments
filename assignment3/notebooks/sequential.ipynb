{
 "cells": [
  {
   "cell_type": "markdown",
   "source": [
    "## Adding system paths"
   ],
   "metadata": {
    "collapsed": false
   }
  },
  {
   "cell_type": "code",
   "execution_count": 2,
   "outputs": [],
   "source": [
    "import sys\n",
    "sys.path.append('/home/sebaq/Documents/GitHub/LWMD_assignments')"
   ],
   "metadata": {
    "collapsed": false,
    "ExecuteTime": {
     "end_time": "2023-05-18T08:49:35.050584515Z",
     "start_time": "2023-05-18T08:49:34.785400524Z"
    }
   }
  },
  {
   "cell_type": "code",
   "execution_count": 3,
   "outputs": [],
   "source": [
    "from assignment3.settings import SIMILARITY\n",
    "DATA_NAME = 'tiny'"
   ],
   "metadata": {
    "collapsed": false,
    "ExecuteTime": {
     "end_time": "2023-05-18T08:49:35.091293037Z",
     "start_time": "2023-05-18T08:49:34.795163921Z"
    }
   }
  },
  {
   "cell_type": "code",
   "execution_count": 4,
   "outputs": [
    {
     "data": {
      "text/plain": "0.8"
     },
     "execution_count": 4,
     "metadata": {},
     "output_type": "execute_result"
    }
   ],
   "source": [
    "SIMILARITY"
   ],
   "metadata": {
    "collapsed": false,
    "ExecuteTime": {
     "end_time": "2023-05-18T08:49:35.120627360Z",
     "start_time": "2023-05-18T08:49:34.814786119Z"
    }
   }
  },
  {
   "cell_type": "markdown",
   "metadata": {
    "collapsed": false,
    "pycharm": {
     "name": "#%% md\n"
    }
   },
   "source": [
    "## Document contents"
   ]
  },
  {
   "cell_type": "code",
   "execution_count": 5,
   "metadata": {
    "collapsed": false,
    "pycharm": {
     "name": "#%%\n"
    },
    "ExecuteTime": {
     "end_time": "2023-05-18T08:49:36.524036229Z",
     "start_time": "2023-05-18T08:49:34.828301475Z"
    }
   },
   "outputs": [
    {
     "name": "stdout",
     "output_type": "stream",
     "text": [
      "Parsing documents. \n"
     ]
    }
   ],
   "source": [
    "from assignment3.model.documents import DocumentsCollection\n",
    "\n",
    "docs = DocumentsCollection(data_name=DATA_NAME)"
   ]
  },
  {
   "cell_type": "markdown",
   "metadata": {
    "collapsed": false
   },
   "source": [
    "## Exact solution"
   ]
  },
  {
   "cell_type": "code",
   "execution_count": 6,
   "metadata": {
    "collapsed": false,
    "pycharm": {
     "name": "#%%\n"
    },
    "ExecuteTime": {
     "end_time": "2023-05-18T08:49:36.561434019Z",
     "start_time": "2023-05-18T08:49:36.499485757Z"
    }
   },
   "outputs": [
    {
     "name": "stdout",
     "output_type": "stream",
     "text": [
      "Loading vectors. \n",
      "Loading mapping. \n",
      "Loading inverse mapping. \n"
     ]
    }
   ],
   "source": [
    "from assignment3.model.evaluation import ExactSolutionEvaluation\n",
    "\n",
    "eval_ = ExactSolutionEvaluation(data_name=DATA_NAME, threshold=SIMILARITY)"
   ]
  },
  {
   "cell_type": "code",
   "execution_count": 7,
   "metadata": {
    "collapsed": false,
    "pycharm": {
     "name": "#%%\n"
    },
    "ExecuteTime": {
     "end_time": "2023-05-18T08:49:36.562067478Z",
     "start_time": "2023-05-18T08:49:36.500678886Z"
    }
   },
   "outputs": [
    {
     "data": {
      "text/plain": "ExactSolutionEvaluation - tiny (10 docs, 0.8 similarity) "
     },
     "execution_count": 7,
     "metadata": {},
     "output_type": "execute_result"
    }
   ],
   "source": [
    "eval_"
   ]
  },
  {
   "cell_type": "code",
   "execution_count": 8,
   "metadata": {
    "collapsed": false,
    "pycharm": {
     "name": "#%%\n"
    },
    "ExecuteTime": {
     "end_time": "2023-05-18T08:49:36.562540376Z",
     "start_time": "2023-05-18T08:49:36.501898534Z"
    }
   },
   "outputs": [
    {
     "name": "stdout",
     "output_type": "stream",
     "text": [
      "Evaluating. \n",
      "Computing cosine similarity. \n",
      "Inspecting similarities. \n"
     ]
    }
   ],
   "source": [
    "eval_.evaluate()"
   ]
  },
  {
   "cell_type": "code",
   "execution_count": 9,
   "metadata": {
    "collapsed": false,
    "pycharm": {
     "name": "#%%\n"
    },
    "ExecuteTime": {
     "end_time": "2023-05-18T08:49:36.593972512Z",
     "start_time": "2023-05-18T08:49:36.503243402Z"
    }
   },
   "outputs": [
    {
     "data": {
      "text/plain": "0.0021000909991926164"
     },
     "execution_count": 9,
     "metadata": {},
     "output_type": "execute_result"
    }
   ],
   "source": [
    "eval_.execution_time"
   ]
  },
  {
   "cell_type": "code",
   "execution_count": 10,
   "metadata": {
    "collapsed": false,
    "pycharm": {
     "name": "#%%\n"
    },
    "ExecuteTime": {
     "end_time": "2023-05-18T08:49:36.595082590Z",
     "start_time": "2023-05-18T08:49:36.524290852Z"
    }
   },
   "outputs": [
    {
     "data": {
      "text/plain": "5"
     },
     "execution_count": 10,
     "metadata": {},
     "output_type": "execute_result"
    }
   ],
   "source": [
    "len(eval_.pairs)"
   ]
  },
  {
   "cell_type": "code",
   "execution_count": 11,
   "metadata": {
    "collapsed": false,
    "pycharm": {
     "name": "#%%\n"
    },
    "ExecuteTime": {
     "end_time": "2023-05-18T08:49:36.777646139Z",
     "start_time": "2023-05-18T08:49:36.530321022Z"
    }
   },
   "outputs": [
    {
     "name": "stdout",
     "output_type": "stream",
     "text": [
      "Saving evaluation results. \n"
     ]
    }
   ],
   "source": [
    "eval_.save()"
   ]
  },
  {
   "cell_type": "code",
   "execution_count": 12,
   "outputs": [
    {
     "name": "stdout",
     "output_type": "stream",
     "text": [
      "Document doc0: \n",
      "this is the very very first document\n",
      "\n",
      "Document doc1: \n",
      "this is the very first document\n",
      "\n"
     ]
    }
   ],
   "source": [
    "docs.content_comparison(ids=eval_.pairs[0])"
   ],
   "metadata": {
    "collapsed": false,
    "ExecuteTime": {
     "end_time": "2023-05-18T08:49:36.778151827Z",
     "start_time": "2023-05-18T08:49:36.574442377Z"
    }
   }
  },
  {
   "cell_type": "code",
   "execution_count": 13,
   "outputs": [
    {
     "name": "stdout",
     "output_type": "stream",
     "text": [
      "Document doc0: \n",
      "this is the very very first document\n",
      "\n",
      "Document doc3: \n",
      "this is the very very first document\n",
      "\n"
     ]
    }
   ],
   "source": [
    "docs.content_comparison(ids=eval_.pairs[1])"
   ],
   "metadata": {
    "collapsed": false,
    "ExecuteTime": {
     "end_time": "2023-05-18T08:49:36.778718772Z",
     "start_time": "2023-05-18T08:49:36.576871132Z"
    }
   }
  },
  {
   "cell_type": "code",
   "execution_count": 14,
   "outputs": [
    {
     "name": "stdout",
     "output_type": "stream",
     "text": [
      "Document doc0: \n",
      "this is the very very first document\n",
      "\n",
      "Document doc9: \n",
      "this is the very very last document\n",
      "\n"
     ]
    }
   ],
   "source": [
    "docs.content_comparison(ids=eval_.pairs[2])"
   ],
   "metadata": {
    "collapsed": false,
    "ExecuteTime": {
     "end_time": "2023-05-18T08:49:36.779685102Z",
     "start_time": "2023-05-18T08:49:36.578531706Z"
    }
   }
  },
  {
   "cell_type": "markdown",
   "metadata": {
    "collapsed": false,
    "pycharm": {
     "name": "#%% md\n"
    }
   },
   "source": [
    "## Dimensionality Heuristic"
   ]
  },
  {
   "cell_type": "code",
   "execution_count": 15,
   "metadata": {
    "collapsed": false,
    "pycharm": {
     "name": "#%%\n"
    },
    "ExecuteTime": {
     "end_time": "2023-05-18T08:49:36.799602101Z",
     "start_time": "2023-05-18T08:49:36.617915060Z"
    }
   },
   "outputs": [
    {
     "name": "stdout",
     "output_type": "stream",
     "text": [
      "Loading vectors. \n",
      "Loading mapping. \n",
      "Loading inverse mapping. \n"
     ]
    }
   ],
   "source": [
    "from assignment3.model.evaluation import DimensionalityHeuristicEvaluation\n",
    "dim_heuristic = DimensionalityHeuristicEvaluation(data_name=DATA_NAME, threshold=SIMILARITY, eps=0.3)"
   ]
  },
  {
   "cell_type": "code",
   "execution_count": 16,
   "metadata": {
    "collapsed": false,
    "pycharm": {
     "name": "#%%\n"
    },
    "ExecuteTime": {
     "end_time": "2023-05-18T08:49:36.800320599Z",
     "start_time": "2023-05-18T08:49:36.619389198Z"
    }
   },
   "outputs": [
    {
     "data": {
      "text/plain": "DimensionalityHeuristicEvaluation - tiny (10 docs, 0.8 similarity)  ['dim_reduction':  0.3 approx error] "
     },
     "execution_count": 16,
     "metadata": {},
     "output_type": "execute_result"
    }
   ],
   "source": [
    "dim_heuristic"
   ]
  },
  {
   "cell_type": "code",
   "execution_count": 17,
   "metadata": {
    "collapsed": false,
    "pycharm": {
     "name": "#%%\n"
    },
    "ExecuteTime": {
     "end_time": "2023-05-18T08:49:36.801051866Z",
     "start_time": "2023-05-18T08:49:36.620582385Z"
    }
   },
   "outputs": [
    {
     "name": "stdout",
     "output_type": "stream",
     "text": [
      "Performing dimensionality reduction. \n",
      "Computing similarities. \n",
      "Inspecting similarities. \n"
     ]
    },
    {
     "name": "stderr",
     "output_type": "stream",
     "text": [
      "/home/sebaq/anaconda3/lib/python3.10/site-packages/sklearn/random_projection.py:398: DataDimensionalityWarning: The number of components is higher than the number of features: n_features < n_components (24 < 255).The dimensionality of the problem will not be reduced.\n",
      "  warnings.warn(\n"
     ]
    }
   ],
   "source": [
    "dim_heuristic.evaluate()"
   ]
  },
  {
   "cell_type": "code",
   "execution_count": 18,
   "metadata": {
    "collapsed": false,
    "pycharm": {
     "name": "#%%\n"
    },
    "ExecuteTime": {
     "end_time": "2023-05-18T08:49:36.801555864Z",
     "start_time": "2023-05-18T08:49:36.627466264Z"
    }
   },
   "outputs": [
    {
     "data": {
      "text/plain": "0.007143050000195217"
     },
     "execution_count": 18,
     "metadata": {},
     "output_type": "execute_result"
    }
   ],
   "source": [
    "dim_heuristic.execution_time"
   ]
  },
  {
   "cell_type": "code",
   "execution_count": 19,
   "metadata": {
    "collapsed": false,
    "pycharm": {
     "name": "#%%\n"
    },
    "ExecuteTime": {
     "end_time": "2023-05-18T08:49:36.802798900Z",
     "start_time": "2023-05-18T08:49:36.636861675Z"
    }
   },
   "outputs": [
    {
     "data": {
      "text/plain": "5"
     },
     "execution_count": 19,
     "metadata": {},
     "output_type": "execute_result"
    }
   ],
   "source": [
    "len(dim_heuristic.pairs)"
   ]
  },
  {
   "cell_type": "code",
   "execution_count": 20,
   "metadata": {
    "collapsed": false,
    "pycharm": {
     "name": "#%%\n"
    },
    "ExecuteTime": {
     "end_time": "2023-05-18T08:49:36.803672606Z",
     "start_time": "2023-05-18T08:49:36.656839418Z"
    }
   },
   "outputs": [
    {
     "data": {
      "text/plain": "1.0"
     },
     "execution_count": 20,
     "metadata": {},
     "output_type": "execute_result"
    }
   ],
   "source": [
    "dim_heuristic.score"
   ]
  },
  {
   "cell_type": "code",
   "execution_count": 21,
   "metadata": {
    "collapsed": false,
    "pycharm": {
     "name": "#%%\n"
    },
    "ExecuteTime": {
     "end_time": "2023-05-18T08:49:36.804227660Z",
     "start_time": "2023-05-18T08:49:36.676181950Z"
    }
   },
   "outputs": [
    {
     "name": "stdout",
     "output_type": "stream",
     "text": [
      "Saving evaluation results. \n"
     ]
    }
   ],
   "source": [
    "dim_heuristic.save()"
   ]
  },
  {
   "cell_type": "markdown",
   "metadata": {
    "collapsed": false,
    "pycharm": {
     "name": "#%% md\n"
    }
   },
   "source": [
    "## Doc-size heuristic"
   ]
  },
  {
   "cell_type": "code",
   "execution_count": 22,
   "metadata": {
    "collapsed": false,
    "pycharm": {
     "name": "#%%\n"
    },
    "ExecuteTime": {
     "end_time": "2023-05-18T08:49:36.804970072Z",
     "start_time": "2023-05-18T08:49:36.684200323Z"
    }
   },
   "outputs": [
    {
     "name": "stdout",
     "output_type": "stream",
     "text": [
      "Loading vectors. \n",
      "Loading mapping. \n",
      "Loading inverse mapping. \n"
     ]
    }
   ],
   "source": [
    "from assignment3.model.evaluation import DocSizeHeuristicEvaluation\n",
    "docsize_heuristic = DocSizeHeuristicEvaluation(data_name=DATA_NAME, threshold=SIMILARITY, k=1.8)"
   ]
  },
  {
   "cell_type": "code",
   "execution_count": 23,
   "metadata": {
    "collapsed": false,
    "pycharm": {
     "name": "#%%\n"
    },
    "ExecuteTime": {
     "end_time": "2023-05-18T08:49:36.816065231Z",
     "start_time": "2023-05-18T08:49:36.700504909Z"
    }
   },
   "outputs": [
    {
     "data": {
      "text/plain": "DocSizeHeuristicEvaluation - tiny (10 docs, 0.8 similarity)  ['docs_size': 1.8 mult factor]"
     },
     "execution_count": 23,
     "metadata": {},
     "output_type": "execute_result"
    }
   ],
   "source": [
    "docsize_heuristic"
   ]
  },
  {
   "cell_type": "code",
   "execution_count": 24,
   "metadata": {
    "collapsed": false,
    "pycharm": {
     "name": "#%%\n"
    },
    "ExecuteTime": {
     "end_time": "2023-05-18T08:49:36.816549953Z",
     "start_time": "2023-05-18T08:49:36.714076751Z"
    }
   },
   "outputs": [
    {
     "name": "stdout",
     "output_type": "stream",
     "text": [
      "Evaluating. \n",
      "Computing cosine similarity. \n",
      "Inspecting similarities. \n"
     ]
    }
   ],
   "source": [
    "docsize_heuristic.evaluate()"
   ]
  },
  {
   "cell_type": "code",
   "execution_count": 25,
   "metadata": {
    "collapsed": false,
    "pycharm": {
     "name": "#%%\n"
    },
    "ExecuteTime": {
     "end_time": "2023-05-18T08:49:36.817151667Z",
     "start_time": "2023-05-18T08:49:36.727754910Z"
    }
   },
   "outputs": [
    {
     "data": {
      "text/plain": "0.0009335220001958078"
     },
     "execution_count": 25,
     "metadata": {},
     "output_type": "execute_result"
    }
   ],
   "source": [
    "docsize_heuristic.execution_time"
   ]
  },
  {
   "cell_type": "code",
   "execution_count": 26,
   "metadata": {
    "collapsed": false,
    "pycharm": {
     "name": "#%%\n"
    },
    "ExecuteTime": {
     "end_time": "2023-05-18T08:49:36.830179550Z",
     "start_time": "2023-05-18T08:49:36.742488508Z"
    }
   },
   "outputs": [
    {
     "data": {
      "text/plain": "5"
     },
     "execution_count": 26,
     "metadata": {},
     "output_type": "execute_result"
    }
   ],
   "source": [
    "len(docsize_heuristic.pairs)"
   ]
  },
  {
   "cell_type": "code",
   "execution_count": 27,
   "metadata": {
    "collapsed": false,
    "pycharm": {
     "name": "#%%\n"
    },
    "ExecuteTime": {
     "end_time": "2023-05-18T08:49:36.830816592Z",
     "start_time": "2023-05-18T08:49:36.783497145Z"
    }
   },
   "outputs": [
    {
     "data": {
      "text/plain": "1.0"
     },
     "execution_count": 27,
     "metadata": {},
     "output_type": "execute_result"
    }
   ],
   "source": [
    "docsize_heuristic.score"
   ]
  },
  {
   "cell_type": "code",
   "execution_count": 28,
   "metadata": {
    "collapsed": false,
    "pycharm": {
     "name": "#%%\n"
    },
    "ExecuteTime": {
     "end_time": "2023-05-18T08:49:36.831169376Z",
     "start_time": "2023-05-18T08:49:36.784298585Z"
    }
   },
   "outputs": [
    {
     "name": "stdout",
     "output_type": "stream",
     "text": [
      "Saving evaluation results. \n"
     ]
    }
   ],
   "source": [
    "docsize_heuristic.save()"
   ]
  },
  {
   "cell_type": "markdown",
   "metadata": {
    "collapsed": false,
    "pycharm": {
     "name": "#%% md\n"
    }
   },
   "source": [
    "## Min-Hash heuristic"
   ]
  },
  {
   "cell_type": "code",
   "execution_count": 29,
   "metadata": {
    "collapsed": false,
    "pycharm": {
     "name": "#%%\n"
    },
    "ExecuteTime": {
     "end_time": "2023-05-18T08:49:37.092385929Z",
     "start_time": "2023-05-18T08:49:36.785091558Z"
    }
   },
   "outputs": [
    {
     "name": "stdout",
     "output_type": "stream",
     "text": [
      "Loading vectors. \n",
      "Loading mapping. \n",
      "Loading inverse mapping. \n",
      "Loading signatures\n"
     ]
    }
   ],
   "source": [
    "from assignment3.model.evaluation import MinHashingHeuristicEvaluation\n",
    "minhash_heuristic = MinHashingHeuristicEvaluation(data_name=DATA_NAME, threshold=SIMILARITY)"
   ]
  },
  {
   "cell_type": "code",
   "execution_count": 30,
   "metadata": {
    "collapsed": false,
    "pycharm": {
     "name": "#%%\n"
    },
    "ExecuteTime": {
     "end_time": "2023-05-18T08:49:37.133391938Z",
     "start_time": "2023-05-18T08:49:36.828562002Z"
    }
   },
   "outputs": [
    {
     "data": {
      "text/plain": "MinHashingHeuristicEvaluation - tiny (10 docs, 0.8 similarity)  ['n_hash':  128 hash functions] "
     },
     "execution_count": 30,
     "metadata": {},
     "output_type": "execute_result"
    }
   ],
   "source": [
    "minhash_heuristic"
   ]
  },
  {
   "cell_type": "code",
   "execution_count": 31,
   "metadata": {
    "collapsed": false,
    "pycharm": {
     "name": "#%%\n"
    },
    "ExecuteTime": {
     "end_time": "2023-05-18T08:49:37.140047175Z",
     "start_time": "2023-05-18T08:49:36.829773925Z"
    }
   },
   "outputs": [
    {
     "name": "stdout",
     "output_type": "stream",
     "text": [
      "Mapping signatures \n",
      "Creating boolean matrix \n",
      "Computing similarities \n",
      "Inspecting similarities \n"
     ]
    },
    {
     "name": "stderr",
     "output_type": "stream",
     "text": [
      "/home/sebaq/anaconda3/lib/python3.10/site-packages/sklearn/preprocessing/_encoders.py:828: FutureWarning: `sparse` was renamed to `sparse_output` in version 1.2 and will be removed in 1.4. `sparse_output` is ignored unless you leave `sparse` to its default value.\n",
      "  warnings.warn(\n"
     ]
    }
   ],
   "source": [
    "minhash_heuristic.evaluate()"
   ]
  },
  {
   "cell_type": "code",
   "execution_count": 32,
   "metadata": {
    "collapsed": false,
    "pycharm": {
     "name": "#%%\n"
    },
    "ExecuteTime": {
     "end_time": "2023-05-18T08:49:37.141902528Z",
     "start_time": "2023-05-18T08:49:36.844602203Z"
    }
   },
   "outputs": [
    {
     "data": {
      "text/plain": "0.017092046000470873"
     },
     "execution_count": 32,
     "metadata": {},
     "output_type": "execute_result"
    }
   ],
   "source": [
    "minhash_heuristic.execution_time"
   ]
  },
  {
   "cell_type": "code",
   "execution_count": 33,
   "metadata": {
    "collapsed": false,
    "pycharm": {
     "name": "#%%\n"
    },
    "ExecuteTime": {
     "end_time": "2023-05-18T08:49:37.142268494Z",
     "start_time": "2023-05-18T08:49:36.885645167Z"
    }
   },
   "outputs": [
    {
     "data": {
      "text/plain": "3"
     },
     "execution_count": 33,
     "metadata": {},
     "output_type": "execute_result"
    }
   ],
   "source": [
    "len(minhash_heuristic.pairs)"
   ]
  },
  {
   "cell_type": "code",
   "execution_count": 34,
   "metadata": {
    "collapsed": false,
    "pycharm": {
     "name": "#%%\n"
    },
    "ExecuteTime": {
     "end_time": "2023-05-18T08:49:37.142489683Z",
     "start_time": "2023-05-18T08:49:36.885863344Z"
    }
   },
   "outputs": [
    {
     "data": {
      "text/plain": "0.6"
     },
     "execution_count": 34,
     "metadata": {},
     "output_type": "execute_result"
    }
   ],
   "source": [
    "minhash_heuristic.score"
   ]
  },
  {
   "cell_type": "code",
   "execution_count": 35,
   "metadata": {
    "collapsed": false,
    "pycharm": {
     "name": "#%%\n"
    },
    "ExecuteTime": {
     "end_time": "2023-05-18T08:49:37.142662970Z",
     "start_time": "2023-05-18T08:49:36.886017213Z"
    }
   },
   "outputs": [
    {
     "name": "stdout",
     "output_type": "stream",
     "text": [
      "Saving evaluation results. \n"
     ]
    }
   ],
   "source": [
    "minhash_heuristic.save()"
   ]
  }
 ],
 "metadata": {
  "kernelspec": {
   "display_name": "Python 3",
   "language": "python",
   "name": "python3"
  },
  "language_info": {
   "codemirror_mode": {
    "name": "ipython",
    "version": 2
   },
   "file_extension": ".py",
   "mimetype": "text/x-python",
   "name": "python",
   "nbconvert_exporter": "python",
   "pygments_lexer": "ipython2",
   "version": "2.7.6"
  }
 },
 "nbformat": 4,
 "nbformat_minor": 0
}
