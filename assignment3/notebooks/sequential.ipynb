{
 "cells": [
  {
   "cell_type": "code",
   "execution_count": 1,
   "outputs": [],
   "source": [
    "import sys\n",
    "sys.path.append('/home/sebaq/Documents/GitHub/LWMD_assignments')"
   ],
   "metadata": {
    "collapsed": false,
    "ExecuteTime": {
     "end_time": "2023-05-22T14:52:37.326013023Z",
     "start_time": "2023-05-22T14:52:37.325693837Z"
    }
   }
  },
  {
   "cell_type": "markdown",
   "source": [
    "## Evaluation over toy example"
   ],
   "metadata": {
    "collapsed": false
   }
  },
  {
   "cell_type": "markdown",
   "source": [
    "Following part computes the exact evaluation and some heuristics over the toy example and compare the results."
   ],
   "metadata": {
    "collapsed": false
   }
  },
  {
   "cell_type": "code",
   "execution_count": 12,
   "outputs": [],
   "source": [
    "DATA_NAME = 'toy'"
   ],
   "metadata": {
    "collapsed": false,
    "ExecuteTime": {
     "end_time": "2023-05-22T14:53:26.129270024Z",
     "start_time": "2023-05-22T14:53:26.041262955Z"
    }
   }
  },
  {
   "cell_type": "code",
   "execution_count": 13,
   "outputs": [],
   "source": [
    "SIMILARITY = 0.9"
   ],
   "metadata": {
    "collapsed": false,
    "ExecuteTime": {
     "end_time": "2023-05-22T14:53:26.248539199Z",
     "start_time": "2023-05-22T14:53:26.166702537Z"
    }
   }
  },
  {
   "cell_type": "markdown",
   "metadata": {
    "collapsed": false,
    "pycharm": {
     "name": "#%% md\n"
    }
   },
   "source": [
    "Loading document content:"
   ]
  },
  {
   "cell_type": "code",
   "execution_count": 14,
   "metadata": {
    "collapsed": false,
    "pycharm": {
     "name": "#%%\n"
    },
    "ExecuteTime": {
     "end_time": "2023-05-22T14:53:26.478202149Z",
     "start_time": "2023-05-22T14:53:26.446532706Z"
    }
   },
   "outputs": [
    {
     "name": "stdout",
     "output_type": "stream",
     "text": [
      "Parsing documents... \n"
     ]
    }
   ],
   "source": [
    "from assignment3.model.documents import DocumentsCollection\n",
    "\n",
    "docs = DocumentsCollection(data_name=DATA_NAME)"
   ]
  },
  {
   "cell_type": "code",
   "execution_count": 15,
   "outputs": [
    {
     "data": {
      "text/plain": "toy Documents [10]"
     },
     "execution_count": 15,
     "metadata": {},
     "output_type": "execute_result"
    }
   ],
   "source": [
    "docs"
   ],
   "metadata": {
    "collapsed": false,
    "ExecuteTime": {
     "end_time": "2023-05-22T14:53:26.672789185Z",
     "start_time": "2023-05-22T14:53:26.590479464Z"
    }
   }
  },
  {
   "cell_type": "markdown",
   "metadata": {
    "collapsed": false
   },
   "source": [
    "### Exact solution"
   ]
  },
  {
   "cell_type": "code",
   "execution_count": 16,
   "metadata": {
    "collapsed": false,
    "pycharm": {
     "name": "#%%\n"
    },
    "ExecuteTime": {
     "end_time": "2023-05-22T14:53:26.930100045Z",
     "start_time": "2023-05-22T14:53:26.898558183Z"
    }
   },
   "outputs": [
    {
     "name": "stdout",
     "output_type": "stream",
     "text": [
      "Loading vectors... \n",
      "Loading mapping... \n",
      "Loading inverse mapping... \n"
     ]
    }
   ],
   "source": [
    "from assignment3.model.evaluation import ExactSolutionEvaluation\n",
    "\n",
    "eval_ = ExactSolutionEvaluation(data_name=DATA_NAME, threshold=SIMILARITY)"
   ]
  },
  {
   "cell_type": "code",
   "execution_count": 17,
   "metadata": {
    "collapsed": false,
    "pycharm": {
     "name": "#%%\n"
    },
    "ExecuteTime": {
     "end_time": "2023-05-22T14:53:27.098925505Z",
     "start_time": "2023-05-22T14:53:27.069328675Z"
    }
   },
   "outputs": [
    {
     "data": {
      "text/plain": "ExactSolutionEvaluation - toy (10 docs, 0.9 similarity) "
     },
     "execution_count": 17,
     "metadata": {},
     "output_type": "execute_result"
    }
   ],
   "source": [
    "eval_"
   ]
  },
  {
   "cell_type": "code",
   "execution_count": 18,
   "metadata": {
    "collapsed": false,
    "pycharm": {
     "name": "#%%\n"
    },
    "ExecuteTime": {
     "end_time": "2023-05-22T14:53:27.303324131Z",
     "start_time": "2023-05-22T14:53:27.243865689Z"
    }
   },
   "outputs": [
    {
     "name": "stdout",
     "output_type": "stream",
     "text": [
      "Evaluating... \n",
      "Computing cosine similarity... \n",
      "Inspecting similarities... \n"
     ]
    }
   ],
   "source": [
    "eval_.evaluate()"
   ]
  },
  {
   "cell_type": "markdown",
   "source": [
    "Total running execution time:"
   ],
   "metadata": {
    "collapsed": false
   }
  },
  {
   "cell_type": "code",
   "execution_count": 19,
   "metadata": {
    "collapsed": false,
    "pycharm": {
     "name": "#%%\n"
    },
    "ExecuteTime": {
     "end_time": "2023-05-22T14:53:27.965870682Z",
     "start_time": "2023-05-22T14:53:27.912760361Z"
    }
   },
   "outputs": [
    {
     "data": {
      "text/plain": "0.002126991999830352"
     },
     "execution_count": 19,
     "metadata": {},
     "output_type": "execute_result"
    }
   ],
   "source": [
    "eval_.execution_time"
   ]
  },
  {
   "cell_type": "markdown",
   "source": [
    "Pairs found:"
   ],
   "metadata": {
    "collapsed": false
   }
  },
  {
   "cell_type": "code",
   "execution_count": 20,
   "metadata": {
    "collapsed": false,
    "pycharm": {
     "name": "#%%\n"
    },
    "ExecuteTime": {
     "end_time": "2023-05-22T14:53:29.264489758Z",
     "start_time": "2023-05-22T14:53:29.148368171Z"
    }
   },
   "outputs": [
    {
     "data": {
      "text/plain": "3"
     },
     "execution_count": 20,
     "metadata": {},
     "output_type": "execute_result"
    }
   ],
   "source": [
    "len(eval_.pairs)"
   ]
  },
  {
   "cell_type": "code",
   "execution_count": 21,
   "metadata": {
    "collapsed": false,
    "pycharm": {
     "name": "#%%\n"
    },
    "ExecuteTime": {
     "end_time": "2023-05-22T14:53:30.388883435Z",
     "start_time": "2023-05-22T14:53:30.357544965Z"
    }
   },
   "outputs": [
    {
     "name": "stdout",
     "output_type": "stream",
     "text": [
      "Saving evaluation results. \n"
     ]
    }
   ],
   "source": [
    "eval_.save()"
   ]
  },
  {
   "cell_type": "markdown",
   "source": [
    "Content comparison:"
   ],
   "metadata": {
    "collapsed": false
   }
  },
  {
   "cell_type": "code",
   "execution_count": 22,
   "outputs": [
    {
     "name": "stdout",
     "output_type": "stream",
     "text": [
      "Document doc0: \n",
      "this is the very very first document\n",
      "\n",
      "Document doc1: \n",
      "this is the very first document\n",
      "\n"
     ]
    }
   ],
   "source": [
    "docs.content_comparison(ids=eval_.pairs[0])"
   ],
   "metadata": {
    "collapsed": false,
    "ExecuteTime": {
     "end_time": "2023-05-22T14:53:33.420520647Z",
     "start_time": "2023-05-22T14:53:33.376667925Z"
    }
   }
  },
  {
   "cell_type": "code",
   "execution_count": 23,
   "outputs": [
    {
     "name": "stdout",
     "output_type": "stream",
     "text": [
      "Document doc0: \n",
      "this is the very very first document\n",
      "\n",
      "Document doc3: \n",
      "this is the very very first document\n",
      "\n"
     ]
    }
   ],
   "source": [
    "docs.content_comparison(ids=eval_.pairs[1])"
   ],
   "metadata": {
    "collapsed": false,
    "ExecuteTime": {
     "end_time": "2023-05-22T14:53:38.729230829Z",
     "start_time": "2023-05-22T14:53:38.702096584Z"
    }
   }
  },
  {
   "cell_type": "code",
   "execution_count": 24,
   "outputs": [
    {
     "name": "stdout",
     "output_type": "stream",
     "text": [
      "Document doc1: \n",
      "this is the very first document\n",
      "\n",
      "Document doc3: \n",
      "this is the very very first document\n",
      "\n"
     ]
    }
   ],
   "source": [
    "docs.content_comparison(ids=eval_.pairs[2])"
   ],
   "metadata": {
    "collapsed": false,
    "ExecuteTime": {
     "end_time": "2023-05-22T14:53:42.128882383Z",
     "start_time": "2023-05-22T14:53:42.041795479Z"
    }
   }
  },
  {
   "cell_type": "markdown",
   "metadata": {
    "collapsed": false,
    "pycharm": {
     "name": "#%% md\n"
    }
   },
   "source": [
    "### Dimensionality Heuristic"
   ]
  },
  {
   "cell_type": "markdown",
   "source": [
    "We perform an heuristic by reducing the dimensionality of the vectors with a given approximation error"
   ],
   "metadata": {
    "collapsed": false
   }
  },
  {
   "cell_type": "code",
   "execution_count": 25,
   "outputs": [],
   "source": [
    "ERROR = 0.3"
   ],
   "metadata": {
    "collapsed": false,
    "ExecuteTime": {
     "end_time": "2023-05-22T14:53:48.831607403Z",
     "start_time": "2023-05-22T14:53:48.785839330Z"
    }
   }
  },
  {
   "cell_type": "code",
   "execution_count": 26,
   "metadata": {
    "collapsed": false,
    "pycharm": {
     "name": "#%%\n"
    },
    "ExecuteTime": {
     "end_time": "2023-05-22T14:53:49.253857518Z",
     "start_time": "2023-05-22T14:53:49.206337884Z"
    }
   },
   "outputs": [
    {
     "name": "stdout",
     "output_type": "stream",
     "text": [
      "Loading vectors... \n",
      "Loading mapping... \n",
      "Loading inverse mapping... \n"
     ]
    }
   ],
   "source": [
    "from assignment3.model.evaluation import DimensionalityHeuristicEvaluation\n",
    "dim_heuristic = DimensionalityHeuristicEvaluation(data_name=DATA_NAME, threshold=SIMILARITY, eps=ERROR)"
   ]
  },
  {
   "cell_type": "code",
   "execution_count": 27,
   "metadata": {
    "collapsed": false,
    "pycharm": {
     "name": "#%%\n"
    },
    "ExecuteTime": {
     "end_time": "2023-05-22T14:53:49.794524685Z",
     "start_time": "2023-05-22T14:53:49.769016685Z"
    }
   },
   "outputs": [
    {
     "data": {
      "text/plain": "DimensionalityHeuristicEvaluation - toy (10 docs, 0.9 similarity)  ['dim_reduction':  0.3 approx error] "
     },
     "execution_count": 27,
     "metadata": {},
     "output_type": "execute_result"
    }
   ],
   "source": [
    "dim_heuristic"
   ]
  },
  {
   "cell_type": "code",
   "execution_count": 28,
   "metadata": {
    "collapsed": false,
    "pycharm": {
     "name": "#%%\n"
    },
    "ExecuteTime": {
     "end_time": "2023-05-22T14:53:50.382785540Z",
     "start_time": "2023-05-22T14:53:50.332451751Z"
    }
   },
   "outputs": [
    {
     "name": "stdout",
     "output_type": "stream",
     "text": [
      "Performing dimensionality reduction... \n",
      "Computing similarities... \n",
      "Inspecting similarities... \n"
     ]
    },
    {
     "name": "stderr",
     "output_type": "stream",
     "text": [
      "/home/sebaq/anaconda3/lib/python3.10/site-packages/sklearn/random_projection.py:398: DataDimensionalityWarning: The number of components is higher than the number of features: n_features < n_components (24 < 255).The dimensionality of the problem will not be reduced.\n",
      "  warnings.warn(\n"
     ]
    }
   ],
   "source": [
    "dim_heuristic.evaluate()"
   ]
  },
  {
   "cell_type": "markdown",
   "source": [
    "Total running execution time:"
   ],
   "metadata": {
    "collapsed": false
   }
  },
  {
   "cell_type": "code",
   "execution_count": 29,
   "metadata": {
    "collapsed": false,
    "pycharm": {
     "name": "#%%\n"
    },
    "ExecuteTime": {
     "end_time": "2023-05-22T14:54:05.143111801Z",
     "start_time": "2023-05-22T14:54:05.087819928Z"
    }
   },
   "outputs": [
    {
     "data": {
      "text/plain": "0.00743339200016635"
     },
     "execution_count": 29,
     "metadata": {},
     "output_type": "execute_result"
    }
   ],
   "source": [
    "dim_heuristic.execution_time"
   ]
  },
  {
   "cell_type": "markdown",
   "source": [
    "Pairs found:"
   ],
   "metadata": {
    "collapsed": false
   }
  },
  {
   "cell_type": "code",
   "execution_count": 30,
   "metadata": {
    "collapsed": false,
    "pycharm": {
     "name": "#%%\n"
    },
    "ExecuteTime": {
     "end_time": "2023-05-22T14:54:07.138698698Z",
     "start_time": "2023-05-22T14:54:07.084896706Z"
    }
   },
   "outputs": [
    {
     "data": {
      "text/plain": "3"
     },
     "execution_count": 30,
     "metadata": {},
     "output_type": "execute_result"
    }
   ],
   "source": [
    "len(dim_heuristic.pairs)"
   ]
  },
  {
   "cell_type": "markdown",
   "source": [
    "Score with respect of the exact solution:"
   ],
   "metadata": {
    "collapsed": false
   }
  },
  {
   "cell_type": "code",
   "execution_count": 31,
   "metadata": {
    "collapsed": false,
    "pycharm": {
     "name": "#%%\n"
    },
    "ExecuteTime": {
     "end_time": "2023-05-22T14:54:08.505026145Z",
     "start_time": "2023-05-22T14:54:08.451903270Z"
    }
   },
   "outputs": [
    {
     "data": {
      "text/plain": "1.0"
     },
     "execution_count": 31,
     "metadata": {},
     "output_type": "execute_result"
    }
   ],
   "source": [
    "dim_heuristic.score"
   ]
  },
  {
   "cell_type": "code",
   "execution_count": 32,
   "metadata": {
    "collapsed": false,
    "pycharm": {
     "name": "#%%\n"
    },
    "ExecuteTime": {
     "end_time": "2023-05-22T14:54:09.201358250Z",
     "start_time": "2023-05-22T14:54:09.073933097Z"
    }
   },
   "outputs": [
    {
     "name": "stdout",
     "output_type": "stream",
     "text": [
      "Saving evaluation results. \n"
     ]
    }
   ],
   "source": [
    "dim_heuristic.save()"
   ]
  },
  {
   "cell_type": "markdown",
   "metadata": {
    "collapsed": false,
    "pycharm": {
     "name": "#%% md\n"
    }
   },
   "source": [
    "### Doc-size heuristic"
   ]
  },
  {
   "cell_type": "markdown",
   "source": [
    "We perform an heuristic by skipping computation over documents with a too high length mismatch\n"
   ],
   "metadata": {
    "collapsed": false
   }
  },
  {
   "cell_type": "code",
   "execution_count": 33,
   "outputs": [],
   "source": [
    "K = 1.3"
   ],
   "metadata": {
    "collapsed": false,
    "ExecuteTime": {
     "end_time": "2023-05-22T14:54:17.013896505Z",
     "start_time": "2023-05-22T14:54:16.962280357Z"
    }
   }
  },
  {
   "cell_type": "code",
   "execution_count": 34,
   "metadata": {
    "collapsed": false,
    "pycharm": {
     "name": "#%%\n"
    },
    "ExecuteTime": {
     "end_time": "2023-05-22T14:54:17.320906732Z",
     "start_time": "2023-05-22T14:54:17.290688818Z"
    }
   },
   "outputs": [
    {
     "name": "stdout",
     "output_type": "stream",
     "text": [
      "Loading vectors... \n",
      "Loading mapping... \n",
      "Loading inverse mapping... \n"
     ]
    }
   ],
   "source": [
    "from assignment3.model.evaluation import DocSizeHeuristicEvaluation\n",
    "docsize_heuristic = DocSizeHeuristicEvaluation(data_name=DATA_NAME, threshold=SIMILARITY, k=K)"
   ]
  },
  {
   "cell_type": "code",
   "execution_count": 35,
   "metadata": {
    "collapsed": false,
    "pycharm": {
     "name": "#%%\n"
    },
    "ExecuteTime": {
     "end_time": "2023-05-22T14:54:17.715021964Z",
     "start_time": "2023-05-22T14:54:17.683839864Z"
    }
   },
   "outputs": [
    {
     "data": {
      "text/plain": "DocSizeHeuristicEvaluation - toy (10 docs, 0.9 similarity)  ['docs_size': 1.3 mult factor]"
     },
     "execution_count": 35,
     "metadata": {},
     "output_type": "execute_result"
    }
   ],
   "source": [
    "docsize_heuristic"
   ]
  },
  {
   "cell_type": "code",
   "execution_count": 36,
   "metadata": {
    "collapsed": false,
    "pycharm": {
     "name": "#%%\n"
    },
    "ExecuteTime": {
     "end_time": "2023-05-22T14:54:18.252493124Z",
     "start_time": "2023-05-22T14:54:18.197114844Z"
    }
   },
   "outputs": [
    {
     "name": "stdout",
     "output_type": "stream",
     "text": [
      "Evaluating... \n",
      "Computing cosine similarity... \n",
      "Inspecting similarities... \n"
     ]
    }
   ],
   "source": [
    "docsize_heuristic.evaluate()"
   ]
  },
  {
   "cell_type": "markdown",
   "source": [
    "Total running execution time:"
   ],
   "metadata": {
    "collapsed": false
   }
  },
  {
   "cell_type": "code",
   "execution_count": 37,
   "metadata": {
    "collapsed": false,
    "pycharm": {
     "name": "#%%\n"
    },
    "ExecuteTime": {
     "end_time": "2023-05-22T14:54:19.651114685Z",
     "start_time": "2023-05-22T14:54:19.591189598Z"
    }
   },
   "outputs": [
    {
     "data": {
      "text/plain": "0.0008050129999901401"
     },
     "execution_count": 37,
     "metadata": {},
     "output_type": "execute_result"
    }
   ],
   "source": [
    "docsize_heuristic.execution_time"
   ]
  },
  {
   "cell_type": "markdown",
   "source": [
    "Pairs found:"
   ],
   "metadata": {
    "collapsed": false
   }
  },
  {
   "cell_type": "code",
   "execution_count": 38,
   "metadata": {
    "collapsed": false,
    "pycharm": {
     "name": "#%%\n"
    },
    "ExecuteTime": {
     "end_time": "2023-05-22T14:54:21.165204713Z",
     "start_time": "2023-05-22T14:54:21.111846385Z"
    }
   },
   "outputs": [
    {
     "data": {
      "text/plain": "3"
     },
     "execution_count": 38,
     "metadata": {},
     "output_type": "execute_result"
    }
   ],
   "source": [
    "len(docsize_heuristic.pairs)"
   ]
  },
  {
   "cell_type": "markdown",
   "source": [
    "Score with respect of the exact solution:"
   ],
   "metadata": {
    "collapsed": false
   }
  },
  {
   "cell_type": "code",
   "execution_count": 39,
   "metadata": {
    "collapsed": false,
    "pycharm": {
     "name": "#%%\n"
    },
    "ExecuteTime": {
     "end_time": "2023-05-22T14:54:22.640049514Z",
     "start_time": "2023-05-22T14:54:22.612330397Z"
    }
   },
   "outputs": [
    {
     "data": {
      "text/plain": "1.0"
     },
     "execution_count": 39,
     "metadata": {},
     "output_type": "execute_result"
    }
   ],
   "source": [
    "docsize_heuristic.score"
   ]
  },
  {
   "cell_type": "code",
   "execution_count": 40,
   "metadata": {
    "collapsed": false,
    "pycharm": {
     "name": "#%%\n"
    },
    "ExecuteTime": {
     "end_time": "2023-05-22T14:54:23.138046946Z",
     "start_time": "2023-05-22T14:54:23.104845355Z"
    }
   },
   "outputs": [
    {
     "name": "stdout",
     "output_type": "stream",
     "text": [
      "Saving evaluation results. \n"
     ]
    }
   ],
   "source": [
    "docsize_heuristic.save()"
   ]
  },
  {
   "cell_type": "markdown",
   "source": [
    "## Evaluation over tiny sample"
   ],
   "metadata": {
    "collapsed": false
   }
  },
  {
   "cell_type": "markdown",
   "source": [
    "Following part computes the exact evaluation and some heuristics over the tiny sample and compare the results."
   ],
   "metadata": {
    "collapsed": false
   }
  },
  {
   "cell_type": "code",
   "execution_count": 41,
   "outputs": [],
   "source": [
    "DATA_NAME = 'tiny'"
   ],
   "metadata": {
    "collapsed": false,
    "ExecuteTime": {
     "end_time": "2023-05-22T14:54:24.670412932Z",
     "start_time": "2023-05-22T14:54:24.545800234Z"
    }
   }
  },
  {
   "cell_type": "code",
   "execution_count": 43,
   "outputs": [],
   "source": [
    "SIMILARITY = 0.8"
   ],
   "metadata": {
    "collapsed": false,
    "ExecuteTime": {
     "end_time": "2023-05-22T14:54:28.872304599Z",
     "start_time": "2023-05-22T14:54:28.844519213Z"
    }
   }
  },
  {
   "cell_type": "markdown",
   "source": [
    "Loading document content:"
   ],
   "metadata": {
    "collapsed": false
   }
  },
  {
   "cell_type": "code",
   "execution_count": 44,
   "outputs": [
    {
     "name": "stdout",
     "output_type": "stream",
     "text": [
      "Parsing documents... \n"
     ]
    }
   ],
   "source": [
    "from assignment3.model.documents import DocumentsCollection\n",
    "\n",
    "docs = DocumentsCollection(data_name=DATA_NAME)"
   ],
   "metadata": {
    "collapsed": false,
    "ExecuteTime": {
     "end_time": "2023-05-22T14:54:29.722376594Z",
     "start_time": "2023-05-22T14:54:29.220003382Z"
    }
   }
  },
  {
   "cell_type": "code",
   "execution_count": 45,
   "outputs": [
    {
     "data": {
      "text/plain": "tiny Documents [5000]"
     },
     "execution_count": 45,
     "metadata": {},
     "output_type": "execute_result"
    }
   ],
   "source": [
    "docs"
   ],
   "metadata": {
    "collapsed": false,
    "ExecuteTime": {
     "end_time": "2023-05-22T14:54:29.827293858Z",
     "start_time": "2023-05-22T14:54:29.797453763Z"
    }
   }
  },
  {
   "cell_type": "markdown",
   "source": [
    "### Exact solution"
   ],
   "metadata": {
    "collapsed": false
   }
  },
  {
   "cell_type": "code",
   "execution_count": 46,
   "outputs": [
    {
     "name": "stdout",
     "output_type": "stream",
     "text": [
      "Loading vectors... \n",
      "Loading mapping... \n",
      "Loading inverse mapping... \n"
     ]
    }
   ],
   "source": [
    "from assignment3.model.evaluation import ExactSolutionEvaluation\n",
    "\n",
    "eval_ = ExactSolutionEvaluation(data_name=DATA_NAME, threshold=SIMILARITY)"
   ],
   "metadata": {
    "collapsed": false,
    "ExecuteTime": {
     "end_time": "2023-05-22T14:54:31.588385462Z",
     "start_time": "2023-05-22T14:54:31.455462173Z"
    }
   }
  },
  {
   "cell_type": "code",
   "execution_count": 47,
   "outputs": [
    {
     "data": {
      "text/plain": "ExactSolutionEvaluation - tiny (4735 docs, 0.8 similarity) "
     },
     "execution_count": 47,
     "metadata": {},
     "output_type": "execute_result"
    }
   ],
   "source": [
    "eval_"
   ],
   "metadata": {
    "collapsed": false,
    "ExecuteTime": {
     "end_time": "2023-05-22T14:54:32.407227164Z",
     "start_time": "2023-05-22T14:54:32.300107205Z"
    }
   }
  },
  {
   "cell_type": "code",
   "execution_count": 48,
   "outputs": [
    {
     "name": "stdout",
     "output_type": "stream",
     "text": [
      "Evaluating... \n",
      "Computing cosine similarity... \n",
      "Inspecting similarities... \n"
     ]
    }
   ],
   "source": [
    "eval_.evaluate()"
   ],
   "metadata": {
    "collapsed": false,
    "ExecuteTime": {
     "end_time": "2023-05-22T14:54:37.410345693Z",
     "start_time": "2023-05-22T14:54:32.911828651Z"
    }
   }
  },
  {
   "cell_type": "markdown",
   "source": [
    "Total running execution time:"
   ],
   "metadata": {
    "collapsed": false
   }
  },
  {
   "cell_type": "code",
   "execution_count": 49,
   "outputs": [
    {
     "data": {
      "text/plain": "4.481543504000001"
     },
     "execution_count": 49,
     "metadata": {},
     "output_type": "execute_result"
    }
   ],
   "source": [
    "eval_.execution_time"
   ],
   "metadata": {
    "collapsed": false,
    "ExecuteTime": {
     "end_time": "2023-05-22T14:54:37.425589015Z",
     "start_time": "2023-05-22T14:54:37.414435449Z"
    }
   }
  },
  {
   "cell_type": "markdown",
   "source": [
    "Pairs found:"
   ],
   "metadata": {
    "collapsed": false
   }
  },
  {
   "cell_type": "code",
   "execution_count": 50,
   "outputs": [
    {
     "data": {
      "text/plain": "7"
     },
     "execution_count": 50,
     "metadata": {},
     "output_type": "execute_result"
    }
   ],
   "source": [
    "len(eval_.pairs)"
   ],
   "metadata": {
    "collapsed": false,
    "ExecuteTime": {
     "end_time": "2023-05-22T14:54:39.151210715Z",
     "start_time": "2023-05-22T14:54:39.111311208Z"
    }
   }
  },
  {
   "cell_type": "code",
   "execution_count": 51,
   "outputs": [
    {
     "name": "stdout",
     "output_type": "stream",
     "text": [
      "Saving evaluation results. \n"
     ]
    }
   ],
   "source": [
    "eval_.save()"
   ],
   "metadata": {
    "collapsed": false,
    "ExecuteTime": {
     "end_time": "2023-05-22T14:54:41.685279951Z",
     "start_time": "2023-05-22T14:54:41.651076758Z"
    }
   }
  },
  {
   "cell_type": "markdown",
   "source": [
    "Content comparison:"
   ],
   "metadata": {
    "collapsed": false
   }
  },
  {
   "cell_type": "code",
   "execution_count": 52,
   "outputs": [
    {
     "name": "stdout",
     "output_type": "stream",
     "text": [
      "Document 1czjl0hz: \n",
      "Torque teno sus virus 1 (TTSuV1) is a novel virus that has been found widely distributed in the swine population in recent years. Analysis of codon usage can reveal much about the molecular evolution of TTSuV1. In this study, synonymous codon usage patterns and the key determinants in the coding region of 29 available complete TTSuV1 genome sequences were examined. By calculating the nucleotide content and relative synonymous codon usage (RSCU) of TTSuV1 coding sequences, we found that the preferentially used codons were mostly those ending with A or C nucleotides; less-used codons were mostly codons ending with U or G nucleotides, and these were mainly affected by composition constraints. Although there was a variation in codon usage bias among different TTSuV1 genomes, the codon usage bias and GC content in the TTSuV1 coding region was lower, which was mainly determined by the base composition in the third codon position and the effective number of codons (ENC) value. Moreover, the results of correspondence analysis (COA) indicated that the codon usage patterns of TTSuV1 isolated from different countries varied greatly and had significant differences. In addition, Spearman’s rank correlation analysis and an ENC plot revealed that apart from mutation pressure, which was critical in determining the codon usage pattern, other factors were involved in shaping the evolution of codon usage bias in TTSuV1, such as natural selection. Those results suggested that synonymous codon usage patterns of TTSuV1 genomes were the result of interaction between mutation pressure and natural selection. The information from this study not only provides important insights into the synonymous codon usage pattern of TTSuV1, but also helps to identify the main factors affecting codon usage by this virus.\n",
      "\n",
      "Document 5vpzgzvz: \n",
      "Analysis of codon usage data has both practical and theoretical applications in understanding the basics of molecular biology. Differences in codon usage patterns among genes reflect variations in local base compositional biases and the intensity of natural selection. Recently, there have been several reports related to codon usage in fungi, but little is known about codon usage bias in Epichloë endophytes. The present study aimed to assess codon usage patterns and biases in 4870 sequences from Epichloë festucae, which may be helpful in revealing the constraint factors such as mutation or selection pressure and improving the bioreactor on the cloning, expression, and characterization of some special genes. The GC content with 56.41% is higher than the AT content (43.59%) in E. festucae. The results of neutrality and effective number of codons plot analyses showed that both mutational bias and natural selection play roles in shaping codon usage in this species. We found that gene length is strongly correlated with codon usage and may contribute to the codon usage patterns observed in genes. Nucleotide composition and gene expression levels also shape codon usage bias in E. festucae. E. festucae exhibits codon usage bias based on the relative synonymous codon usage (RSCU) values of 61 sense codons, with 25 codons showing an RSCU larger than 1. In addition, we identified 27 optimal codons that end in a G or C.\n",
      "\n"
     ]
    }
   ],
   "source": [
    "docs.content_comparison(ids=eval_.pairs[0])"
   ],
   "metadata": {
    "collapsed": false,
    "ExecuteTime": {
     "end_time": "2023-05-22T14:54:44.162596802Z",
     "start_time": "2023-05-22T14:54:44.069604022Z"
    }
   }
  },
  {
   "cell_type": "code",
   "execution_count": 53,
   "outputs": [
    {
     "name": "stdout",
     "output_type": "stream",
     "text": [
      "Document 1czjl0hz: \n",
      "Torque teno sus virus 1 (TTSuV1) is a novel virus that has been found widely distributed in the swine population in recent years. Analysis of codon usage can reveal much about the molecular evolution of TTSuV1. In this study, synonymous codon usage patterns and the key determinants in the coding region of 29 available complete TTSuV1 genome sequences were examined. By calculating the nucleotide content and relative synonymous codon usage (RSCU) of TTSuV1 coding sequences, we found that the preferentially used codons were mostly those ending with A or C nucleotides; less-used codons were mostly codons ending with U or G nucleotides, and these were mainly affected by composition constraints. Although there was a variation in codon usage bias among different TTSuV1 genomes, the codon usage bias and GC content in the TTSuV1 coding region was lower, which was mainly determined by the base composition in the third codon position and the effective number of codons (ENC) value. Moreover, the results of correspondence analysis (COA) indicated that the codon usage patterns of TTSuV1 isolated from different countries varied greatly and had significant differences. In addition, Spearman’s rank correlation analysis and an ENC plot revealed that apart from mutation pressure, which was critical in determining the codon usage pattern, other factors were involved in shaping the evolution of codon usage bias in TTSuV1, such as natural selection. Those results suggested that synonymous codon usage patterns of TTSuV1 genomes were the result of interaction between mutation pressure and natural selection. The information from this study not only provides important insights into the synonymous codon usage pattern of TTSuV1, but also helps to identify the main factors affecting codon usage by this virus.\n",
      "\n",
      "Document uqr00nzd: \n",
      "Two species of the DNA virus Torque teno sus virus (TTSuV), TTSuV1 and TTSuV2, have become widely distributed in pig-farming countries in recent years. In this study, we performed a comprehensive analysis of synonymous codon usage bias in 41 available TTSuV2 coding sequences (CDS), and compared the codon usage patterns of TTSuV2 and TTSuV1. TTSuV codon usage patterns were found to be phylogenetically conserved. Values for the effective number of codons (ENC) indicated that the overall extent of codon usage bias in both TTSuV2 and TTSuV1 was not significant, the most frequently occurring codons had an A or C at the third codon position. Correspondence analysis (COA) was performed and TTSuV2 and TTSuV1 sequences were located in different quadrants of the first two major axes. A plot of the ENC revealed that compositional constraint was the major factor determining the codon usage bias for TTSuV2. In addition, hierarchical cluster analysis of 41 TTSuV2 isolates based on relative synonymous codon usage (RSCU) values suggested that there was no association between geographic distribution and codon bias of TTSuV2 sequences. Finally, the comparison of RSCU for TTSuV2, TTSuV1 and the corresponding host sequence indicated that the codon usage pattern of TTSuV2 was similar to that of TTSuV1. However the similarity was low for each virus and its host. These conclusions provide important insight into the synonymous codon usage pattern of TTSuV2, as well as better understangding of the molecular evolution of TTSuV2 genomes.\n",
      "\n"
     ]
    }
   ],
   "source": [
    "docs.content_comparison(ids=eval_.pairs[1])"
   ],
   "metadata": {
    "collapsed": false,
    "ExecuteTime": {
     "end_time": "2023-05-22T14:55:04.206813739Z",
     "start_time": "2023-05-22T14:55:04.172406999Z"
    }
   }
  },
  {
   "cell_type": "code",
   "execution_count": 54,
   "outputs": [
    {
     "name": "stdout",
     "output_type": "stream",
     "text": [
      "Document 76uk9tj5: \n",
      "Pigeon circovirus (PiCV) is the most frequently diagnosed virus in pigeons and is thought to be one of the causative factors of a complex disease called the young pigeon disease syndrome (YPDS). The development of a vaccine against this virus could be a strategy for YPDS control. Since laboratory culture of PiCV is impossible, its recombinant capsid protein (rCP) can be considered as a potential antigen candidate in sub-unit vaccines. The aim of this basic research was to evaluate the immune response of pigeons to PiCV rCP. Sixty six-week-old carrier pigeons were divided into two groups (experimental immunized with PiCV rCP mixed with an adjuvant, and control immunized with an adjuvant only), and immunized twice in a 21-day interval. On the day of immunization and on two, 23, 39, and 46 days post first immunization (dpv), samples of blood, spleen, and bursa of Fabricius were collected from six birds from each group to examine anti-PiCV rCP IgY, anti-PiCV rCP IgY-secreting B cells (SBC), IFN-γ gene expression, and percentage of T CD3(+), CD4(+), CD8(+), and B IgM(+) lymphocytes. The results indicated a correct immune response to PiCV rCP both in humoral and cell-mediated immunity, which was manifested by seroconversion since 23 dpv, by a significantly higher anti-PiCV rCP IgY-SBC number on two and 23 dpv, and significantly higher IFN-γ gene expression since two dpv. There were no significant differences or trends noted between particular T and B lymphocyte subpopulations. To conclude, PiCV rCP may be deemed immunogenic and could be considered as an antigen candidate in sub-unit vaccines against PiCV infections in pigeons.\n",
      "\n",
      "Document qxo82jkv: \n",
      "Infections with immunosuppressive pigeon circovirus (PiCV) pose the most severe health problem to the global pigeon breeding. The vaccination with immunogenic PiCV recombinant capsid protein (PiCV rCP) is a potential tool for disease control. Because of the high prevalence of PiCV asymptomatic infections, the subclinically infected pigeons will be vaccinated in practice. The aim of this study was to answer a question if vaccination of asymptomatic, infected with PiCV pigeons induces a similar immune response to PiCV rCP as in uninfected birds. One hundred and twenty 6-week-old carrier pigeons were divided into 4 groups (2 groups of naturally infected and uninfected with PiCV individuals). Birds from groups V and V1 were vaccinated twice with PiCV rCP mixed with an adjuvant, whereas pigeons from groups C and C1 were immunized with an adjuvant only. The expression of genes encoding IFN-γ, CD4, and CD8 T lymphocyte receptors; the number of anti-PiCV rCP IgY-secreting B cells (SBC) and anti-PiCV rCP IgY were evaluated 2, 21, 39 and 46 days post vaccination (dpv). Study results showed that the expression of CD8 and IFN-γ genes was higher in both groups of infected pigeons than in the uninfected birds, irrespective of vaccination. In the uninfected birds, the expression of these genes was insignificantly higher in the vaccinated pigeons. The anti-PiCV rCP IgY-SBC were detected on 2 and 23 dpv and seroconversion was noted on 23 and 39 dpv in V and V1 groups, respectively. In the light of the results obtained, it could be concluded that pigeon circovirus recombinant capsid protein elicits the immune response in both naturally infected and uninfected pigeons, but its rate varies depending on PiCV infectious status. The infection with PiCV masks the potential cellular immune response to the vaccination with PiCV rCP and leads to the suppression of humoral immunity.\n",
      "\n"
     ]
    }
   ],
   "source": [
    "docs.content_comparison(ids=eval_.pairs[2])"
   ],
   "metadata": {
    "collapsed": false,
    "ExecuteTime": {
     "end_time": "2023-05-22T14:55:20.589700849Z",
     "start_time": "2023-05-22T14:55:20.516045046Z"
    }
   }
  },
  {
   "cell_type": "markdown",
   "source": [
    "### Dimensionality Heuristic"
   ],
   "metadata": {
    "collapsed": false
   }
  },
  {
   "cell_type": "markdown",
   "source": [
    "We perform an heuristic by reducing the dimensionality of the vectors with a given approximation error"
   ],
   "metadata": {
    "collapsed": false
   }
  },
  {
   "cell_type": "code",
   "execution_count": 55,
   "outputs": [],
   "source": [
    "ERROR = 0.3"
   ],
   "metadata": {
    "collapsed": false,
    "ExecuteTime": {
     "end_time": "2023-05-22T14:55:39.194157588Z",
     "start_time": "2023-05-22T14:55:39.113277002Z"
    }
   }
  },
  {
   "cell_type": "code",
   "execution_count": 56,
   "outputs": [
    {
     "name": "stdout",
     "output_type": "stream",
     "text": [
      "Loading vectors... \n",
      "Loading mapping... \n",
      "Loading inverse mapping... \n"
     ]
    }
   ],
   "source": [
    "from assignment3.model.evaluation import DimensionalityHeuristicEvaluation\n",
    "dim_heuristic = DimensionalityHeuristicEvaluation(data_name=DATA_NAME, threshold=SIMILARITY, eps=ERROR)"
   ],
   "metadata": {
    "collapsed": false,
    "ExecuteTime": {
     "end_time": "2023-05-22T14:55:41.493074978Z",
     "start_time": "2023-05-22T14:55:41.413556830Z"
    }
   }
  },
  {
   "cell_type": "code",
   "execution_count": 57,
   "outputs": [
    {
     "data": {
      "text/plain": "DimensionalityHeuristicEvaluation - tiny (4735 docs, 0.8 similarity)  ['dim_reduction':  0.3 approx error] "
     },
     "execution_count": 57,
     "metadata": {},
     "output_type": "execute_result"
    }
   ],
   "source": [
    "dim_heuristic"
   ],
   "metadata": {
    "collapsed": false,
    "ExecuteTime": {
     "end_time": "2023-05-22T14:55:43.708900094Z",
     "start_time": "2023-05-22T14:55:43.645191720Z"
    }
   }
  },
  {
   "cell_type": "code",
   "execution_count": 58,
   "outputs": [
    {
     "name": "stdout",
     "output_type": "stream",
     "text": [
      "Performing dimensionality reduction... \n",
      "Computing similarities... \n",
      "Inspecting similarities... \n"
     ]
    }
   ],
   "source": [
    "dim_heuristic.evaluate()"
   ],
   "metadata": {
    "collapsed": false,
    "ExecuteTime": {
     "end_time": "2023-05-22T14:55:47.717687377Z",
     "start_time": "2023-05-22T14:55:44.852684051Z"
    }
   }
  },
  {
   "cell_type": "markdown",
   "source": [
    "Total running execution time:"
   ],
   "metadata": {
    "collapsed": false
   }
  },
  {
   "cell_type": "code",
   "execution_count": 59,
   "outputs": [
    {
     "data": {
      "text/plain": "1.9444721259997095"
     },
     "execution_count": 59,
     "metadata": {},
     "output_type": "execute_result"
    }
   ],
   "source": [
    "dim_heuristic.execution_time"
   ],
   "metadata": {
    "collapsed": false,
    "ExecuteTime": {
     "end_time": "2023-05-22T14:55:48.941463238Z",
     "start_time": "2023-05-22T14:55:48.907143434Z"
    }
   }
  },
  {
   "cell_type": "markdown",
   "source": [
    "Pairs found:"
   ],
   "metadata": {
    "collapsed": false
   }
  },
  {
   "cell_type": "code",
   "execution_count": 60,
   "outputs": [
    {
     "data": {
      "text/plain": "9"
     },
     "execution_count": 60,
     "metadata": {},
     "output_type": "execute_result"
    }
   ],
   "source": [
    "len(dim_heuristic.pairs)"
   ],
   "metadata": {
    "collapsed": false,
    "ExecuteTime": {
     "end_time": "2023-05-22T14:55:50.468448001Z",
     "start_time": "2023-05-22T14:55:50.424011442Z"
    }
   }
  },
  {
   "cell_type": "markdown",
   "source": [
    "Score with respect of the exact solution:"
   ],
   "metadata": {
    "collapsed": false
   }
  },
  {
   "cell_type": "code",
   "execution_count": 61,
   "outputs": [
    {
     "data": {
      "text/plain": "0.6"
     },
     "execution_count": 61,
     "metadata": {},
     "output_type": "execute_result"
    }
   ],
   "source": [
    "dim_heuristic.score"
   ],
   "metadata": {
    "collapsed": false,
    "ExecuteTime": {
     "end_time": "2023-05-22T14:55:51.755839862Z",
     "start_time": "2023-05-22T14:55:51.726917630Z"
    }
   }
  },
  {
   "cell_type": "code",
   "execution_count": 62,
   "outputs": [
    {
     "name": "stdout",
     "output_type": "stream",
     "text": [
      "Saving evaluation results. \n"
     ]
    }
   ],
   "source": [
    "dim_heuristic.save()"
   ],
   "metadata": {
    "collapsed": false,
    "ExecuteTime": {
     "end_time": "2023-05-22T14:55:53.958567385Z",
     "start_time": "2023-05-22T14:55:53.925499870Z"
    }
   }
  },
  {
   "cell_type": "markdown",
   "source": [
    "### Doc-size heuristic"
   ],
   "metadata": {
    "collapsed": false
   }
  },
  {
   "cell_type": "markdown",
   "source": [
    "We perform an heuristic by skipping computation over documents with a too high length mismatch\n"
   ],
   "metadata": {
    "collapsed": false
   }
  },
  {
   "cell_type": "code",
   "execution_count": 63,
   "outputs": [],
   "source": [
    "K = 1.3"
   ],
   "metadata": {
    "collapsed": false,
    "ExecuteTime": {
     "end_time": "2023-05-22T14:55:58.872263025Z",
     "start_time": "2023-05-22T14:55:58.817810825Z"
    }
   }
  },
  {
   "cell_type": "code",
   "execution_count": 64,
   "outputs": [
    {
     "name": "stdout",
     "output_type": "stream",
     "text": [
      "Loading vectors... \n",
      "Loading mapping... \n",
      "Loading inverse mapping... \n"
     ]
    }
   ],
   "source": [
    "from assignment3.model.evaluation import DocSizeHeuristicEvaluation\n",
    "docsize_heuristic = DocSizeHeuristicEvaluation(data_name=DATA_NAME, threshold=SIMILARITY, k=K)"
   ],
   "metadata": {
    "collapsed": false,
    "ExecuteTime": {
     "end_time": "2023-05-22T14:55:59.816313128Z",
     "start_time": "2023-05-22T14:55:59.738962599Z"
    }
   }
  },
  {
   "cell_type": "code",
   "execution_count": 65,
   "outputs": [
    {
     "data": {
      "text/plain": "DocSizeHeuristicEvaluation - tiny (4735 docs, 0.8 similarity)  ['docs_size': 1.3 mult factor]"
     },
     "execution_count": 65,
     "metadata": {},
     "output_type": "execute_result"
    }
   ],
   "source": [
    "docsize_heuristic"
   ],
   "metadata": {
    "collapsed": false,
    "ExecuteTime": {
     "end_time": "2023-05-22T14:56:01.014812567Z",
     "start_time": "2023-05-22T14:56:00.985843918Z"
    }
   }
  },
  {
   "cell_type": "code",
   "execution_count": 66,
   "outputs": [
    {
     "name": "stdout",
     "output_type": "stream",
     "text": [
      "Evaluating... \n",
      "Computing cosine similarity... \n",
      "Inspecting similarities... \n"
     ]
    }
   ],
   "source": [
    "docsize_heuristic.evaluate()"
   ],
   "metadata": {
    "collapsed": false,
    "ExecuteTime": {
     "end_time": "2023-05-22T14:56:06.354136704Z",
     "start_time": "2023-05-22T14:56:01.462914862Z"
    }
   }
  },
  {
   "cell_type": "markdown",
   "source": [
    "Total running execution time:"
   ],
   "metadata": {
    "collapsed": false
   }
  },
  {
   "cell_type": "code",
   "execution_count": 67,
   "outputs": [
    {
     "data": {
      "text/plain": "4.876801216999411"
     },
     "execution_count": 67,
     "metadata": {},
     "output_type": "execute_result"
    }
   ],
   "source": [
    "docsize_heuristic.execution_time"
   ],
   "metadata": {
    "collapsed": false,
    "ExecuteTime": {
     "end_time": "2023-05-22T14:56:08.250868720Z",
     "start_time": "2023-05-22T14:56:08.195569652Z"
    }
   }
  },
  {
   "cell_type": "markdown",
   "source": [
    "Pairs found:"
   ],
   "metadata": {
    "collapsed": false
   }
  },
  {
   "cell_type": "code",
   "execution_count": 68,
   "outputs": [
    {
     "data": {
      "text/plain": "5"
     },
     "execution_count": 68,
     "metadata": {},
     "output_type": "execute_result"
    }
   ],
   "source": [
    "len(docsize_heuristic.pairs)"
   ],
   "metadata": {
    "collapsed": false,
    "ExecuteTime": {
     "end_time": "2023-05-22T14:56:09.960398681Z",
     "start_time": "2023-05-22T14:56:09.922715457Z"
    }
   }
  },
  {
   "cell_type": "markdown",
   "source": [
    "Score with respect of the exact solution:"
   ],
   "metadata": {
    "collapsed": false
   }
  },
  {
   "cell_type": "code",
   "execution_count": 69,
   "outputs": [
    {
     "data": {
      "text/plain": "0.7142857142857143"
     },
     "execution_count": 69,
     "metadata": {},
     "output_type": "execute_result"
    }
   ],
   "source": [
    "docsize_heuristic.score"
   ],
   "metadata": {
    "collapsed": false,
    "ExecuteTime": {
     "end_time": "2023-05-22T14:56:10.957236861Z",
     "start_time": "2023-05-22T14:56:10.904148264Z"
    }
   }
  },
  {
   "cell_type": "code",
   "execution_count": 70,
   "outputs": [
    {
     "name": "stdout",
     "output_type": "stream",
     "text": [
      "Saving evaluation results. \n"
     ]
    }
   ],
   "source": [
    "docsize_heuristic.save()"
   ],
   "metadata": {
    "collapsed": false,
    "ExecuteTime": {
     "end_time": "2023-05-22T14:56:12.772349978Z",
     "start_time": "2023-05-22T14:56:12.742371642Z"
    }
   }
  },
  {
   "cell_type": "markdown",
   "source": [
    "## Evaluation over small example"
   ],
   "metadata": {
    "collapsed": false
   }
  },
  {
   "cell_type": "markdown",
   "source": [
    "Following part computes the exact evaluation and some heuristics over the small example and compare the results."
   ],
   "metadata": {
    "collapsed": false
   }
  },
  {
   "cell_type": "code",
   "execution_count": 71,
   "outputs": [],
   "source": [
    "DATA_NAME = 'small'"
   ],
   "metadata": {
    "collapsed": false,
    "ExecuteTime": {
     "end_time": "2023-05-22T14:56:16.608157856Z",
     "start_time": "2023-05-22T14:56:16.558441810Z"
    }
   }
  },
  {
   "cell_type": "code",
   "execution_count": 72,
   "outputs": [],
   "source": [
    "SIMILARITY = 0.9"
   ],
   "metadata": {
    "collapsed": false,
    "ExecuteTime": {
     "end_time": "2023-05-22T14:56:20.299967335Z",
     "start_time": "2023-05-22T14:56:20.271653277Z"
    }
   }
  },
  {
   "cell_type": "markdown",
   "source": [
    "Loading document content:"
   ],
   "metadata": {
    "collapsed": false
   }
  },
  {
   "cell_type": "code",
   "execution_count": 73,
   "outputs": [
    {
     "name": "stdout",
     "output_type": "stream",
     "text": [
      "Parsing documents... \n"
     ]
    }
   ],
   "source": [
    "from assignment3.model.documents import DocumentsCollection\n",
    "\n",
    "docs = DocumentsCollection(data_name=DATA_NAME)"
   ],
   "metadata": {
    "collapsed": false,
    "ExecuteTime": {
     "end_time": "2023-05-22T14:56:23.366237473Z",
     "start_time": "2023-05-22T14:56:21.715918040Z"
    }
   }
  },
  {
   "cell_type": "code",
   "execution_count": 74,
   "outputs": [
    {
     "data": {
      "text/plain": "small Documents [20000]"
     },
     "execution_count": 74,
     "metadata": {},
     "output_type": "execute_result"
    }
   ],
   "source": [
    "docs"
   ],
   "metadata": {
    "collapsed": false,
    "ExecuteTime": {
     "end_time": "2023-05-22T14:56:24.261714667Z",
     "start_time": "2023-05-22T14:56:24.183808514Z"
    }
   }
  },
  {
   "cell_type": "markdown",
   "source": [
    "### Exact solution"
   ],
   "metadata": {
    "collapsed": false
   }
  },
  {
   "cell_type": "code",
   "execution_count": 75,
   "outputs": [
    {
     "name": "stdout",
     "output_type": "stream",
     "text": [
      "Loading vectors... \n",
      "Loading mapping... \n",
      "Loading inverse mapping... \n"
     ]
    }
   ],
   "source": [
    "from assignment3.model.evaluation import ExactSolutionEvaluation\n",
    "\n",
    "eval_ = ExactSolutionEvaluation(data_name=DATA_NAME, threshold=SIMILARITY)"
   ],
   "metadata": {
    "collapsed": false,
    "ExecuteTime": {
     "end_time": "2023-05-22T14:56:25.942167775Z",
     "start_time": "2023-05-22T14:56:25.779576680Z"
    }
   }
  },
  {
   "cell_type": "code",
   "execution_count": 76,
   "outputs": [
    {
     "data": {
      "text/plain": "ExactSolutionEvaluation - small (13641 docs, 0.9 similarity) "
     },
     "execution_count": 76,
     "metadata": {},
     "output_type": "execute_result"
    }
   ],
   "source": [
    "eval_"
   ],
   "metadata": {
    "collapsed": false,
    "ExecuteTime": {
     "end_time": "2023-05-22T14:56:27.847986160Z",
     "start_time": "2023-05-22T14:56:27.819694855Z"
    }
   }
  },
  {
   "cell_type": "code",
   "execution_count": 77,
   "outputs": [
    {
     "name": "stdout",
     "output_type": "stream",
     "text": [
      "Evaluating... \n",
      "Computing cosine similarity... \n",
      "Inspecting similarities... \n"
     ]
    }
   ],
   "source": [
    "eval_.evaluate()"
   ],
   "metadata": {
    "collapsed": false,
    "ExecuteTime": {
     "end_time": "2023-05-22T14:57:02.394204345Z",
     "start_time": "2023-05-22T14:56:29.081187005Z"
    }
   }
  },
  {
   "cell_type": "markdown",
   "source": [
    "Total running execution time:"
   ],
   "metadata": {
    "collapsed": false
   }
  },
  {
   "cell_type": "code",
   "execution_count": 78,
   "outputs": [
    {
     "data": {
      "text/plain": "33.100921626000854"
     },
     "execution_count": 78,
     "metadata": {},
     "output_type": "execute_result"
    }
   ],
   "source": [
    "eval_.execution_time"
   ],
   "metadata": {
    "collapsed": false,
    "ExecuteTime": {
     "end_time": "2023-05-22T14:57:11.863709286Z",
     "start_time": "2023-05-22T14:57:11.767752778Z"
    }
   }
  },
  {
   "cell_type": "markdown",
   "source": [
    "Pairs found:"
   ],
   "metadata": {
    "collapsed": false
   }
  },
  {
   "cell_type": "code",
   "execution_count": 79,
   "outputs": [
    {
     "data": {
      "text/plain": "124"
     },
     "execution_count": 79,
     "metadata": {},
     "output_type": "execute_result"
    }
   ],
   "source": [
    "len(eval_.pairs)"
   ],
   "metadata": {
    "collapsed": false,
    "ExecuteTime": {
     "end_time": "2023-05-22T14:57:13.951934795Z",
     "start_time": "2023-05-22T14:57:13.868132036Z"
    }
   }
  },
  {
   "cell_type": "code",
   "execution_count": 80,
   "outputs": [
    {
     "name": "stdout",
     "output_type": "stream",
     "text": [
      "Saving evaluation results. \n"
     ]
    }
   ],
   "source": [
    "eval_.save()"
   ],
   "metadata": {
    "collapsed": false,
    "ExecuteTime": {
     "end_time": "2023-05-22T14:57:14.917924731Z",
     "start_time": "2023-05-22T14:57:14.873028312Z"
    }
   }
  },
  {
   "cell_type": "markdown",
   "source": [
    "Content comparison:"
   ],
   "metadata": {
    "collapsed": false
   }
  },
  {
   "cell_type": "code",
   "execution_count": 81,
   "outputs": [
    {
     "name": "stdout",
     "output_type": "stream",
     "text": [
      "Document xu3gfwpu: \n",
      "Proteases are ubiquitous in biosystems where they have diverse roles in the biochemical, physiological, and regulatory aspects of cells and organisms. Proteases represent the largest segment of the industrial enzyme market where they are used in detergents, in food processing, in leather and fabric upgrading, as catalysts in organic synthesis, and as therapeutics. Microbial protease overproducing strains have been developed by conventional screening, mutation/selection strategies and genetic engineering, and wholly new enzymes, with altered specificity or stability, have been designed through techniques such as site-directed mutagenesis and directed evolution. Complete sequencing of the genomes of key Bacillus and Aspergillus workhorse extracellular enzyme producers and other species of interest has contributed to enhanced production yields of indigenous proteases as well as to production of heterologous proteases. With annual protease sales of about $1.5–1.8 billion, proteases account for 60% of the total enzyme market. Detergent proteases, with an annual market of about $1 billion account for the largest protease application segment. Subtilisin Carlsberg and related subtilisin serine proteases represent the first generation of detergent proteases with pH optima of 9–10. The second generation, having higher pH optima (10–11) and greater temperature stability, is produced from alkalophilic strains including Bacillusclausii and B. halodurans. The third generation consists of detergent proteases whose active sites and/or stability have been modified by protein engineering. The principal applications of proteases in food processing are in brewing, cereal mashing, and beer haze clarification, in the coagulation step in cheese making, in altering the viscoelastic properties of dough in baking and in production of protein hydrolysates. In organic synthesis, proteases have application in synthesis and/or hydrolysis of peptide, ester, and amide bonds involving carboxylic acids and are effective tools for resolution of pairs of enantiomers. Proteases have applications in nutrition as digestive aids and in therapy in thrombosis and cancer treatment. Hyperproteolytic endogenous activity may play significant roles in abnormal physiological functioning as well as in microbial and viral pathophysiological conditions and this has created substantial momentum for development of protease inhibitors as therapeutic agents against disease-causing proteases.\n",
      "\n",
      "Document nbh9qw5h: \n",
      "Proteases are ubiquitous in biosystems where they have diverse roles in the biochemical, physiological, and regulatory aspects of cells and organisms. Proteases represent the largest segment of the industrial enzyme market where they are used in detergents, in food processing, in leather and fabric upgrading, as catalysts in organic synthesis, and as therapeutics. Microbial protease overproducing strains have been developed by conventional screening, mutation/selection strategies and genetic engineering, and wholly new enzymes, with altered specificity or stability have been designed through techniques such as site-directed mutagenesis and directed evolution. Complete sequencing of the genomes of key Bacillus and Aspergillus workhorse extracellular enzyme producers and other species of interest has contributed to enhanced production yields of indigenous proteases as well as to production of heterologous proteases. With annual protease sales of about $1.5–1.8 billion, proteases account for 60% of the total enzyme market. Detergent proteases, with an annual market of about $1 billion account for the largest protease application segment. Subtilisin Carlsberg and related subtilisin serine proteases represent the first generation of detergent proteases with pH optima of 9–10. The second generation, having higher pH optima (10–11) and greater temperature stability, is produced from alkalophilic strains including Bacillus clausii and B. halodurans. The third generation consists of detergent proteases whose active sites and/or stability have been modified by protein engineering. The principal applications of proteases in food processing are in brewing, cereal mashing, and beer haze clarification, in the coagulation step in cheese making, in altering the viscoelastic properties of dough in baking and in production of protein hydrolysates. In organic synthesis, proteases have application in synthesis and/or hydrolysis of peptide, ester, and amide bonds involving carboxylic acids and are effective tools for resolution of pairs of enantiomers. Proteases have applications in nutrition as digestive aids and in therapy in thrombosis and cancer treatment. Hyperproteolytic endogenous activity may play significant roles in abnormal physiological functioning as well as in microbial and viral pathophysiological conditions and this has created substantial momentum for development of protease inhibitors as therapeutic agents against disease-causing proteases.\n",
      "\n"
     ]
    }
   ],
   "source": [
    "docs.content_comparison(ids=eval_.pairs[0])"
   ],
   "metadata": {
    "collapsed": false,
    "ExecuteTime": {
     "end_time": "2023-05-22T14:57:18.134578893Z",
     "start_time": "2023-05-22T14:57:18.064180006Z"
    }
   }
  },
  {
   "cell_type": "code",
   "execution_count": 82,
   "outputs": [
    {
     "name": "stdout",
     "output_type": "stream",
     "text": [
      "Document hha2sctb: \n",
      "Koorts wordt bij niet-immuungecompromitteerde volwassenen in de eerste lijn zonder recent verblijf in het buitenland meestal veroorzaakt door een luchtweginfectie. Bij ouderen vormen urineweginfecties een relatief frequente oorzaak van koorts. Bij ontbreken van richtinggevende voorgeschiedenis, klachten of verschijnselen volstaat men in eerste instantie met lichamelijk onderzoek van KNO-gebied en longen. Bij negatieve bevindingen volgt urineonderzoek. Wanneer geen afwijkingen gevonden worden, gaat men uit van een onschuldige virale oorzaak. Bij een ernstig zieke indruk of verminderd bewustzijn is het lichamelijk onderzoek allereerst gericht op eventuele stoornissen in de vitale functies, omdat deze onmiddellijke therapeutische implicaties hebben. Als de koorts een week aanhoudt of eerder bij verandering van het beeld, dient een uitgebreide anamnese en algemeen lichamelijk onderzoek plaats te vinden om diagnostische aanknopingspunten op te sporen. Ook kan de arts dan aanvullend onderzoek laten verrichten: in eerste instantie bloed-, urine- en fecesonderzoek en een X-thorax, eventueel gevolgd door X-sinussen en een mantoux-reactie. Medicatie wordt zo veel mogelijk gestaakt om een allergie aan te tonen of uit te sluiten. Na enkele dagen herhaalt men anamnese en lichamelijk onderzoek. Twee weken onbegrepen koorts is reden voor verdere (poli)klinische evaluatie. Concrete aanwijzingen op grond van steeds herhaalde anamnese en lichamelijk onderzoek zijn richtinggevend voor de inzet van complex aanvullend onderzoek. Dit bestaat onder meer uit bloedkweken, uitgebreider bloedonderzoek, leverbiopsie, beenmergpunctie en CT-scan buik en thorax. Bij patiënten ouder dan 55 jaar met koorts en een verhoogde bezinking is een biopsie van de arteria temporalis zinvol. ELEKTRONISCH AANVULLEND MATERIAAL: De online versie van dit hoofdstuk (doi:10.1007/978-90-368-1274-0_5) bevat aanvullend materiaal, dat beschikbaar is voor geautoriseerde gebruikers.\n",
      "\n",
      "Document 3i7wgrck: \n",
      "Koorts wordt bij niet-immuungecompromitteerde volwassenen in de eerste lijn zonder recent verblijf in het buitenland meestal veroorzaakt door een luchtweginfectie. Bij ouderen vormen urineweginfecties een relatief frequente oorzaak van koorts. Bij ontbreken van richtinggevende voorgeschiedenis, klachten of verschijnselen volstaat men in eerste instantie met lichamelijk onderzoek van KNO-gebied en longen. Bij negatieve bevindingen volgt urineonderzoek. Wanneer geen afwijkingen gevonden worden, gaat men uit van een onschuldige virale oorzaak. Bij een ernstig zieke indruk of verminderd bewustzijn is het lichamelijk onderzoek allereerst gericht op eventuele stoornissen in de vitale functies, omdat deze onmiddellijke therapeutische implicaties hebben. Als de koorts een week aanhoudt of eerder bij verandering van het beeld, dient een uitgebreide anamnese en algemeen lichamelijk onderzoek plaats te vinden om diagnostische aanknopingspunten op te sporen. Ook kan de arts dan aanvullend onderzoek laten verrichten: in eerste instantie bloed-, urine- en fecesonderzoek en een X-thorax, eventueel gevolgd door X-sinussen en een mantouxreactie. Medicatie wordt zoveel mogelijk gestaakt om een allergie aan te tonen of uit te sluiten. Na enkele dagen herhaalt men anamnese en lichamelijk onderzoek. Twee weken onbegrepen koorts is reden voor verdere (poli)klinische evaluatie. Concrete aanwijzingen op grond van steeds herhaalde anamnese en lichamelijk onderzoek zijn richtinggevend voor de inzet van complex aanvullend onderzoek. Dit bestaat onder meer uit bloedkweken, uitgebreider bloedonderzoek, leverbiopsie, beenmergpunctie en CT-scan buik en thorax. Bij patiënten ouder dan 55 jaar met koorts en een verhoogde bezinking is een biopsie van de arteria temporalis zinvol.\n",
      "\n"
     ]
    }
   ],
   "source": [
    "docs.content_comparison(ids=eval_.pairs[1])"
   ],
   "metadata": {
    "collapsed": false,
    "ExecuteTime": {
     "end_time": "2023-05-22T14:57:29.154345135Z",
     "start_time": "2023-05-22T14:57:29.127286002Z"
    }
   }
  },
  {
   "cell_type": "code",
   "execution_count": 83,
   "outputs": [
    {
     "name": "stdout",
     "output_type": "stream",
     "text": [
      "Document ntbuwf8i: \n",
      "BACKGROUND: Acute respiratory illnesses are the leading cause of death from infectious diseases around the world, and occasional outbreaks of particularly virulent strains are can be public health disasters. Recently, a large outbreak of fatal Middle East respiratory syndrome-coronavirus (MERS-CoV) occurred following a single patient exposure in the emergency department (ED) of the Samsung Medical Center, a tertiary-care hospital in South Korea, which resulted in significant public health and economic burden. After this outbreak, a febrile respiratory infectious disease unit (FRIDU) with a negative pressure ventilation system was constructed outside the emergency department (ED) in 2015, to screen for patients with contagious diseases requiring isolation. METHODS: This is a retrospective cohort study of patients who visited the ED with febrile illness between August 2015 and July 2016. Ultimately, 1562 patients who were hospitalized after FRIDU screening were analyzed. The level of isolation recommended during their screening at the FRIDU was compared with the level deemed appropriate given their final diagnosis. RESULTS: Of the 1562 patients screened at the FRIDU, 198 (13%) were isolated, 194 (12%) were reverse isolated, and 1170 (75%) were not isolated. While hospitalized, 97 patients (6%) were confirmed to have a contagious disease requiring isolation, such as tuberculosis; 207 patients (13%) were confirmed to be immunocompromised and to require reverse isolation, mainly due to neutropenia; and the remaining 1258 patients (81%) did not require isolation. The correlation coefficient for isolation consistency was 0.565 (P < 0.001). No serious nosocomial outbreaks of contagious diseases occurred. During FRIDU screening, 114 patients were admitted to the resuscitation zone due to clinical instability, and three of these patients died. CONCLUSION: The initial isolation levels resulting from FRIDU screening were moderately well correlated with the isolation levels required by the final diagnosis, demonstrating the utility of pre-hospitalization screening units. However, the risks of deterioration during the screening process remain challenges. DISCLOSURES: All authors: No reported disclosures.\n",
      "\n",
      "Document 0q2ky9gd: \n",
      "A febrile respiratory infectious disease unit (FRIDU) with a negative pressure ventilation system was constructed outside the emergency department (ED) of the Samsung Medical Center in 2015, to screen for patients with contagious diseases requiring isolation. We evaluated the utility of the FRIDU during 1 year of operation. We analyzed 1,562 patients who were hospitalized after FRIDU screening between August 2015 and July 2016. The level of isolation recommended during their screening at the FRIDU was compared with the level deemed appropriate given their final diagnosis. Of the 1,562 patients screened at the FRIDU, 198 (13%) were isolated, 194 (12%) were reverse isolated, and 1,170 (75%) were not isolated. While hospitalized, 97 patients (6%) were confirmed to have a contagious disease requiring isolation, such as tuberculosis; 207 patients (13%) were confirmed to be immunocompromised and to require reverse isolation, mainly due to neutropenia; and the remaining 1,258 patients (81%) did not require isolation. The correlation coefficient for isolation consistency was 0.565 (P < 0.001). The sensitivity and negative predictive value of FRIDU screening for diagnosing contagious disease requiring isolation are 76% and 98%, respectively. No serious nosocomial outbreaks of contagious diseases occurred. During FRIDU screening, 114 patients were admitted to the resuscitation zone due to clinical instability, and three of these patients died. The initial isolation levels resulting from FRIDU screening were moderately well correlated with the isolation levels required by the final diagnosis, demonstrating the utility of pre-hospitalization screening units. However, the risks of deterioration during the screening process remain challenges.\n",
      "\n"
     ]
    }
   ],
   "source": [
    "docs.content_comparison(ids=eval_.pairs[2])"
   ],
   "metadata": {
    "collapsed": false,
    "ExecuteTime": {
     "end_time": "2023-05-22T14:57:34.120962207Z",
     "start_time": "2023-05-22T14:57:34.089502233Z"
    }
   }
  },
  {
   "cell_type": "markdown",
   "source": [
    "### Dimensionality Heuristic"
   ],
   "metadata": {
    "collapsed": false
   }
  },
  {
   "cell_type": "markdown",
   "source": [
    "We perform an heuristic by reducing the dimensionality of the vectors with a given approximation error"
   ],
   "metadata": {
    "collapsed": false
   }
  },
  {
   "cell_type": "code",
   "execution_count": 84,
   "outputs": [],
   "source": [
    "ERROR = 0.3"
   ],
   "metadata": {
    "collapsed": false,
    "ExecuteTime": {
     "end_time": "2023-05-22T14:58:14.578769577Z",
     "start_time": "2023-05-22T14:58:14.492925379Z"
    }
   }
  },
  {
   "cell_type": "code",
   "execution_count": 85,
   "outputs": [
    {
     "name": "stdout",
     "output_type": "stream",
     "text": [
      "Loading vectors... \n",
      "Loading mapping... \n",
      "Loading inverse mapping... \n"
     ]
    }
   ],
   "source": [
    "from assignment3.model.evaluation import DimensionalityHeuristicEvaluation\n",
    "dim_heuristic = DimensionalityHeuristicEvaluation(data_name=DATA_NAME, threshold=SIMILARITY, eps=ERROR)"
   ],
   "metadata": {
    "collapsed": false,
    "ExecuteTime": {
     "end_time": "2023-05-22T14:58:17.061675959Z",
     "start_time": "2023-05-22T14:58:15.018143095Z"
    }
   }
  },
  {
   "cell_type": "code",
   "execution_count": 86,
   "outputs": [
    {
     "data": {
      "text/plain": "DimensionalityHeuristicEvaluation - small (13641 docs, 0.9 similarity)  ['dim_reduction':  0.3 approx error] "
     },
     "execution_count": 86,
     "metadata": {},
     "output_type": "execute_result"
    }
   ],
   "source": [
    "dim_heuristic"
   ],
   "metadata": {
    "collapsed": false,
    "ExecuteTime": {
     "end_time": "2023-05-22T14:58:18.869951069Z",
     "start_time": "2023-05-22T14:58:18.791982907Z"
    }
   }
  },
  {
   "cell_type": "code",
   "execution_count": 87,
   "outputs": [
    {
     "name": "stdout",
     "output_type": "stream",
     "text": [
      "Performing dimensionality reduction... \n",
      "Computing similarities... \n",
      "Inspecting similarities... \n"
     ]
    }
   ],
   "source": [
    "dim_heuristic.evaluate()"
   ],
   "metadata": {
    "collapsed": false,
    "ExecuteTime": {
     "end_time": "2023-05-22T14:58:36.847620082Z",
     "start_time": "2023-05-22T14:58:19.769143014Z"
    }
   }
  },
  {
   "cell_type": "markdown",
   "source": [
    "Total running execution time:"
   ],
   "metadata": {
    "collapsed": false
   }
  },
  {
   "cell_type": "code",
   "execution_count": 88,
   "outputs": [
    {
     "data": {
      "text/plain": "15.582795600999816"
     },
     "execution_count": 88,
     "metadata": {},
     "output_type": "execute_result"
    }
   ],
   "source": [
    "dim_heuristic.execution_time"
   ],
   "metadata": {
    "collapsed": false,
    "ExecuteTime": {
     "end_time": "2023-05-22T14:58:41.422374463Z",
     "start_time": "2023-05-22T14:58:41.384254285Z"
    }
   }
  },
  {
   "cell_type": "markdown",
   "source": [
    "Pairs found:"
   ],
   "metadata": {
    "collapsed": false
   }
  },
  {
   "cell_type": "code",
   "execution_count": 89,
   "outputs": [
    {
     "data": {
      "text/plain": "121"
     },
     "execution_count": 89,
     "metadata": {},
     "output_type": "execute_result"
    }
   ],
   "source": [
    "len(dim_heuristic.pairs)"
   ],
   "metadata": {
    "collapsed": false,
    "ExecuteTime": {
     "end_time": "2023-05-22T14:58:44.145543200Z",
     "start_time": "2023-05-22T14:58:44.101118618Z"
    }
   }
  },
  {
   "cell_type": "markdown",
   "source": [
    "Score with respect of the exact solution:"
   ],
   "metadata": {
    "collapsed": false
   }
  },
  {
   "cell_type": "code",
   "execution_count": 90,
   "outputs": [
    {
     "data": {
      "text/plain": "0.96"
     },
     "execution_count": 90,
     "metadata": {},
     "output_type": "execute_result"
    }
   ],
   "source": [
    "dim_heuristic.score"
   ],
   "metadata": {
    "collapsed": false,
    "ExecuteTime": {
     "end_time": "2023-05-22T14:58:45.951109610Z",
     "start_time": "2023-05-22T14:58:45.919942288Z"
    }
   }
  },
  {
   "cell_type": "code",
   "execution_count": 91,
   "outputs": [
    {
     "name": "stdout",
     "output_type": "stream",
     "text": [
      "Saving evaluation results. \n"
     ]
    }
   ],
   "source": [
    "dim_heuristic.save()"
   ],
   "metadata": {
    "collapsed": false,
    "ExecuteTime": {
     "end_time": "2023-05-22T14:58:47.440885584Z",
     "start_time": "2023-05-22T14:58:47.407377769Z"
    }
   }
  },
  {
   "cell_type": "markdown",
   "source": [
    "### Doc-size heuristic"
   ],
   "metadata": {
    "collapsed": false
   }
  },
  {
   "cell_type": "markdown",
   "source": [
    "We perform an heuristic by skipping computation over documents with a too high length mismatch\n"
   ],
   "metadata": {
    "collapsed": false
   }
  },
  {
   "cell_type": "code",
   "execution_count": 92,
   "outputs": [],
   "source": [
    "K = 1.2"
   ],
   "metadata": {
    "collapsed": false,
    "ExecuteTime": {
     "end_time": "2023-05-22T14:58:54.515571233Z",
     "start_time": "2023-05-22T14:58:54.487038265Z"
    }
   }
  },
  {
   "cell_type": "code",
   "execution_count": 93,
   "outputs": [
    {
     "name": "stdout",
     "output_type": "stream",
     "text": [
      "Loading vectors... \n",
      "Loading mapping... \n",
      "Loading inverse mapping... \n"
     ]
    }
   ],
   "source": [
    "from assignment3.model.evaluation import DocSizeHeuristicEvaluation\n",
    "docsize_heuristic = DocSizeHeuristicEvaluation(data_name=DATA_NAME, threshold=SIMILARITY, k=K)"
   ],
   "metadata": {
    "collapsed": false,
    "ExecuteTime": {
     "end_time": "2023-05-22T14:58:55.096269833Z",
     "start_time": "2023-05-22T14:58:54.920917288Z"
    }
   }
  },
  {
   "cell_type": "code",
   "execution_count": 94,
   "outputs": [
    {
     "data": {
      "text/plain": "DocSizeHeuristicEvaluation - small (13641 docs, 0.9 similarity)  ['docs_size': 1.2 mult factor]"
     },
     "execution_count": 94,
     "metadata": {},
     "output_type": "execute_result"
    }
   ],
   "source": [
    "docsize_heuristic"
   ],
   "metadata": {
    "collapsed": false,
    "ExecuteTime": {
     "end_time": "2023-05-22T14:58:56.697704844Z",
     "start_time": "2023-05-22T14:58:56.667179673Z"
    }
   }
  },
  {
   "cell_type": "code",
   "execution_count": 95,
   "outputs": [
    {
     "name": "stdout",
     "output_type": "stream",
     "text": [
      "Evaluating... \n",
      "Computing cosine similarity... \n",
      "Inspecting similarities... \n"
     ]
    }
   ],
   "source": [
    "docsize_heuristic.evaluate()"
   ],
   "metadata": {
    "collapsed": false,
    "ExecuteTime": {
     "end_time": "2023-05-22T14:59:26.224267392Z",
     "start_time": "2023-05-22T14:58:57.619248404Z"
    }
   }
  },
  {
   "cell_type": "markdown",
   "source": [
    "Total running execution time:"
   ],
   "metadata": {
    "collapsed": false
   }
  },
  {
   "cell_type": "code",
   "execution_count": 96,
   "outputs": [
    {
     "data": {
      "text/plain": "28.479462123000303"
     },
     "execution_count": 96,
     "metadata": {},
     "output_type": "execute_result"
    }
   ],
   "source": [
    "docsize_heuristic.execution_time"
   ],
   "metadata": {
    "collapsed": false,
    "ExecuteTime": {
     "end_time": "2023-05-22T14:59:27.598862548Z",
     "start_time": "2023-05-22T14:59:27.539256628Z"
    }
   }
  },
  {
   "cell_type": "markdown",
   "source": [
    "Pairs found:"
   ],
   "metadata": {
    "collapsed": false
   }
  },
  {
   "cell_type": "code",
   "execution_count": 97,
   "outputs": [
    {
     "data": {
      "text/plain": "122"
     },
     "execution_count": 97,
     "metadata": {},
     "output_type": "execute_result"
    }
   ],
   "source": [
    "len(docsize_heuristic.pairs)"
   ],
   "metadata": {
    "collapsed": false,
    "ExecuteTime": {
     "end_time": "2023-05-22T14:59:29.106153491Z",
     "start_time": "2023-05-22T14:59:29.071081207Z"
    }
   }
  },
  {
   "cell_type": "markdown",
   "source": [
    "Score with respect of the exact solution:"
   ],
   "metadata": {
    "collapsed": false
   }
  },
  {
   "cell_type": "code",
   "execution_count": 98,
   "outputs": [
    {
     "data": {
      "text/plain": "0.9838709677419355"
     },
     "execution_count": 98,
     "metadata": {},
     "output_type": "execute_result"
    }
   ],
   "source": [
    "docsize_heuristic.score"
   ],
   "metadata": {
    "collapsed": false,
    "ExecuteTime": {
     "end_time": "2023-05-22T14:59:30.160527627Z",
     "start_time": "2023-05-22T14:59:30.108357153Z"
    }
   }
  },
  {
   "cell_type": "code",
   "execution_count": 99,
   "outputs": [
    {
     "name": "stdout",
     "output_type": "stream",
     "text": [
      "Saving evaluation results. \n"
     ]
    }
   ],
   "source": [
    "docsize_heuristic.save()"
   ],
   "metadata": {
    "collapsed": false,
    "ExecuteTime": {
     "end_time": "2023-05-22T14:59:32.037789105Z",
     "start_time": "2023-05-22T14:59:31.985428428Z"
    }
   }
  }
 ],
 "metadata": {
  "kernelspec": {
   "display_name": "Python 3",
   "language": "python",
   "name": "python3"
  },
  "language_info": {
   "codemirror_mode": {
    "name": "ipython",
    "version": 2
   },
   "file_extension": ".py",
   "mimetype": "text/x-python",
   "name": "python",
   "nbconvert_exporter": "python",
   "pygments_lexer": "ipython2",
   "version": "2.7.6"
  }
 },
 "nbformat": 4,
 "nbformat_minor": 0
}
