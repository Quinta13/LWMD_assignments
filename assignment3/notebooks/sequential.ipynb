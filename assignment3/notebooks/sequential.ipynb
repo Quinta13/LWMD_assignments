{
 "cells": [
  {
   "cell_type": "code",
   "execution_count": 1,
   "outputs": [],
   "source": [
    "import sys\n",
    "sys.path.append('/home/sebaq/Documents/GitHub/LWMD_assignments')"
   ],
   "metadata": {
    "collapsed": false,
    "ExecuteTime": {
     "end_time": "2023-05-25T17:55:07.402811569Z",
     "start_time": "2023-05-25T17:55:06.746436781Z"
    }
   }
  },
  {
   "cell_type": "markdown",
   "source": [
    "## Evaluation over small example"
   ],
   "metadata": {
    "collapsed": false
   }
  },
  {
   "cell_type": "markdown",
   "source": [
    "Following part computes the exact evaluation and some heuristics over the small example and compare the results."
   ],
   "metadata": {
    "collapsed": false
   }
  },
  {
   "cell_type": "code",
   "execution_count": 2,
   "outputs": [],
   "source": [
    "DATA_NAME = 'small'"
   ],
   "metadata": {
    "collapsed": false,
    "ExecuteTime": {
     "end_time": "2023-05-25T17:55:07.429401515Z",
     "start_time": "2023-05-25T17:55:06.773561736Z"
    }
   }
  },
  {
   "cell_type": "code",
   "execution_count": 3,
   "outputs": [],
   "source": [
    "SIMILARITY = 0.8"
   ],
   "metadata": {
    "collapsed": false,
    "ExecuteTime": {
     "end_time": "2023-05-25T17:55:07.468552849Z",
     "start_time": "2023-05-25T17:55:06.780706597Z"
    }
   }
  },
  {
   "cell_type": "markdown",
   "metadata": {
    "collapsed": false,
    "pycharm": {
     "name": "#%% md\n"
    }
   },
   "source": [
    "Loading document content:"
   ]
  },
  {
   "cell_type": "code",
   "execution_count": 4,
   "metadata": {
    "collapsed": false,
    "pycharm": {
     "name": "#%%\n"
    },
    "ExecuteTime": {
     "end_time": "2023-05-25T17:55:09.984915490Z",
     "start_time": "2023-05-25T17:55:06.790257663Z"
    }
   },
   "outputs": [
    {
     "name": "stdout",
     "output_type": "stream",
     "text": [
      "Parsing documents... \n"
     ]
    }
   ],
   "source": [
    "from assignment3.model.documents import DocumentsCollection\n",
    "\n",
    "docs = DocumentsCollection(data_name=DATA_NAME)"
   ]
  },
  {
   "cell_type": "code",
   "execution_count": 5,
   "outputs": [
    {
     "data": {
      "text/plain": "small Documents [5000]"
     },
     "execution_count": 5,
     "metadata": {},
     "output_type": "execute_result"
    }
   ],
   "source": [
    "docs"
   ],
   "metadata": {
    "collapsed": false,
    "ExecuteTime": {
     "end_time": "2023-05-25T17:55:09.989133781Z",
     "start_time": "2023-05-25T17:55:09.537652532Z"
    }
   }
  },
  {
   "cell_type": "markdown",
   "metadata": {
    "collapsed": false
   },
   "source": [
    "### Exact solution"
   ]
  },
  {
   "cell_type": "code",
   "execution_count": 6,
   "metadata": {
    "collapsed": false,
    "pycharm": {
     "name": "#%%\n"
    },
    "ExecuteTime": {
     "end_time": "2023-05-25T17:55:09.991384768Z",
     "start_time": "2023-05-25T17:55:09.556513619Z"
    }
   },
   "outputs": [
    {
     "name": "stdout",
     "output_type": "stream",
     "text": [
      "Loading vectors... \n",
      "Loading mapping... \n",
      "Loading inverse mapping... \n"
     ]
    }
   ],
   "source": [
    "from assignment3.model.evaluation import ExactSolutionEvaluation\n",
    "\n",
    "eval_ = ExactSolutionEvaluation(data_name=DATA_NAME, threshold=SIMILARITY)"
   ]
  },
  {
   "cell_type": "code",
   "execution_count": 7,
   "metadata": {
    "collapsed": false,
    "pycharm": {
     "name": "#%%\n"
    },
    "ExecuteTime": {
     "end_time": "2023-05-25T17:55:09.992141770Z",
     "start_time": "2023-05-25T17:55:09.649763090Z"
    }
   },
   "outputs": [
    {
     "data": {
      "text/plain": "ExactSolutionEvaluation - small (4735 docs, 0.8 similarity) "
     },
     "execution_count": 7,
     "metadata": {},
     "output_type": "execute_result"
    }
   ],
   "source": [
    "eval_"
   ]
  },
  {
   "cell_type": "code",
   "execution_count": 8,
   "metadata": {
    "collapsed": false,
    "pycharm": {
     "name": "#%%\n"
    },
    "ExecuteTime": {
     "end_time": "2023-05-25T17:55:12.914613504Z",
     "start_time": "2023-05-25T17:55:09.707579814Z"
    }
   },
   "outputs": [
    {
     "name": "stdout",
     "output_type": "stream",
     "text": [
      "Evaluating... \n",
      "Computing cosine similarity... \n",
      "Inspecting similarities... \n"
     ]
    }
   ],
   "source": [
    "eval_.evaluate()"
   ]
  },
  {
   "cell_type": "markdown",
   "source": [
    "Total running execution time:"
   ],
   "metadata": {
    "collapsed": false
   }
  },
  {
   "cell_type": "code",
   "execution_count": 9,
   "metadata": {
    "collapsed": false,
    "pycharm": {
     "name": "#%%\n"
    },
    "ExecuteTime": {
     "end_time": "2023-05-25T17:55:12.931366203Z",
     "start_time": "2023-05-25T17:55:12.922556439Z"
    }
   },
   "outputs": [
    {
     "data": {
      "text/plain": "3.2363934770000355"
     },
     "execution_count": 9,
     "metadata": {},
     "output_type": "execute_result"
    }
   ],
   "source": [
    "eval_.execution_time"
   ]
  },
  {
   "cell_type": "markdown",
   "source": [
    "Pairs found:"
   ],
   "metadata": {
    "collapsed": false
   }
  },
  {
   "cell_type": "code",
   "execution_count": 10,
   "metadata": {
    "collapsed": false,
    "pycharm": {
     "name": "#%%\n"
    },
    "ExecuteTime": {
     "end_time": "2023-05-25T17:55:13.055442777Z",
     "start_time": "2023-05-25T17:55:12.926583016Z"
    }
   },
   "outputs": [
    {
     "data": {
      "text/plain": "7"
     },
     "execution_count": 10,
     "metadata": {},
     "output_type": "execute_result"
    }
   ],
   "source": [
    "len(eval_.pairs)"
   ]
  },
  {
   "cell_type": "code",
   "execution_count": 11,
   "metadata": {
    "collapsed": false,
    "pycharm": {
     "name": "#%%\n"
    },
    "ExecuteTime": {
     "end_time": "2023-05-25T17:55:13.072670161Z",
     "start_time": "2023-05-25T17:55:12.950031900Z"
    }
   },
   "outputs": [
    {
     "name": "stdout",
     "output_type": "stream",
     "text": [
      "Saving evaluation results. \n"
     ]
    }
   ],
   "source": [
    "eval_.save()"
   ]
  },
  {
   "cell_type": "markdown",
   "source": [
    "Content comparison:"
   ],
   "metadata": {
    "collapsed": false
   }
  },
  {
   "cell_type": "code",
   "execution_count": 12,
   "outputs": [
    {
     "name": "stdout",
     "output_type": "stream",
     "text": [
      "Document 1czjl0hz: \n",
      "Torque teno sus virus 1 (TTSuV1) is a novel virus that has been found widely distributed in the swine population in recent years. Analysis of codon usage can reveal much about the molecular evolution of TTSuV1. In this study, synonymous codon usage patterns and the key determinants in the coding region of 29 available complete TTSuV1 genome sequences were examined. By calculating the nucleotide content and relative synonymous codon usage (RSCU) of TTSuV1 coding sequences, we found that the preferentially used codons were mostly those ending with A or C nucleotides; less-used codons were mostly codons ending with U or G nucleotides, and these were mainly affected by composition constraints. Although there was a variation in codon usage bias among different TTSuV1 genomes, the codon usage bias and GC content in the TTSuV1 coding region was lower, which was mainly determined by the base composition in the third codon position and the effective number of codons (ENC) value. Moreover, the results of correspondence analysis (COA) indicated that the codon usage patterns of TTSuV1 isolated from different countries varied greatly and had significant differences. In addition, Spearman’s rank correlation analysis and an ENC plot revealed that apart from mutation pressure, which was critical in determining the codon usage pattern, other factors were involved in shaping the evolution of codon usage bias in TTSuV1, such as natural selection. Those results suggested that synonymous codon usage patterns of TTSuV1 genomes were the result of interaction between mutation pressure and natural selection. The information from this study not only provides important insights into the synonymous codon usage pattern of TTSuV1, but also helps to identify the main factors affecting codon usage by this virus.\n",
      "\n",
      "Document 5vpzgzvz: \n",
      "Analysis of codon usage data has both practical and theoretical applications in understanding the basics of molecular biology. Differences in codon usage patterns among genes reflect variations in local base compositional biases and the intensity of natural selection. Recently, there have been several reports related to codon usage in fungi, but little is known about codon usage bias in Epichloë endophytes. The present study aimed to assess codon usage patterns and biases in 4870 sequences from Epichloë festucae, which may be helpful in revealing the constraint factors such as mutation or selection pressure and improving the bioreactor on the cloning, expression, and characterization of some special genes. The GC content with 56.41% is higher than the AT content (43.59%) in E. festucae. The results of neutrality and effective number of codons plot analyses showed that both mutational bias and natural selection play roles in shaping codon usage in this species. We found that gene length is strongly correlated with codon usage and may contribute to the codon usage patterns observed in genes. Nucleotide composition and gene expression levels also shape codon usage bias in E. festucae. E. festucae exhibits codon usage bias based on the relative synonymous codon usage (RSCU) values of 61 sense codons, with 25 codons showing an RSCU larger than 1. In addition, we identified 27 optimal codons that end in a G or C.\n",
      "\n"
     ]
    }
   ],
   "source": [
    "docs.content_comparison(ids=eval_.pairs[0])"
   ],
   "metadata": {
    "collapsed": false,
    "ExecuteTime": {
     "end_time": "2023-05-25T17:55:13.074810142Z",
     "start_time": "2023-05-25T17:55:12.989406442Z"
    }
   }
  },
  {
   "cell_type": "code",
   "execution_count": 13,
   "outputs": [
    {
     "name": "stdout",
     "output_type": "stream",
     "text": [
      "Document 1czjl0hz: \n",
      "Torque teno sus virus 1 (TTSuV1) is a novel virus that has been found widely distributed in the swine population in recent years. Analysis of codon usage can reveal much about the molecular evolution of TTSuV1. In this study, synonymous codon usage patterns and the key determinants in the coding region of 29 available complete TTSuV1 genome sequences were examined. By calculating the nucleotide content and relative synonymous codon usage (RSCU) of TTSuV1 coding sequences, we found that the preferentially used codons were mostly those ending with A or C nucleotides; less-used codons were mostly codons ending with U or G nucleotides, and these were mainly affected by composition constraints. Although there was a variation in codon usage bias among different TTSuV1 genomes, the codon usage bias and GC content in the TTSuV1 coding region was lower, which was mainly determined by the base composition in the third codon position and the effective number of codons (ENC) value. Moreover, the results of correspondence analysis (COA) indicated that the codon usage patterns of TTSuV1 isolated from different countries varied greatly and had significant differences. In addition, Spearman’s rank correlation analysis and an ENC plot revealed that apart from mutation pressure, which was critical in determining the codon usage pattern, other factors were involved in shaping the evolution of codon usage bias in TTSuV1, such as natural selection. Those results suggested that synonymous codon usage patterns of TTSuV1 genomes were the result of interaction between mutation pressure and natural selection. The information from this study not only provides important insights into the synonymous codon usage pattern of TTSuV1, but also helps to identify the main factors affecting codon usage by this virus.\n",
      "\n",
      "Document uqr00nzd: \n",
      "Two species of the DNA virus Torque teno sus virus (TTSuV), TTSuV1 and TTSuV2, have become widely distributed in pig-farming countries in recent years. In this study, we performed a comprehensive analysis of synonymous codon usage bias in 41 available TTSuV2 coding sequences (CDS), and compared the codon usage patterns of TTSuV2 and TTSuV1. TTSuV codon usage patterns were found to be phylogenetically conserved. Values for the effective number of codons (ENC) indicated that the overall extent of codon usage bias in both TTSuV2 and TTSuV1 was not significant, the most frequently occurring codons had an A or C at the third codon position. Correspondence analysis (COA) was performed and TTSuV2 and TTSuV1 sequences were located in different quadrants of the first two major axes. A plot of the ENC revealed that compositional constraint was the major factor determining the codon usage bias for TTSuV2. In addition, hierarchical cluster analysis of 41 TTSuV2 isolates based on relative synonymous codon usage (RSCU) values suggested that there was no association between geographic distribution and codon bias of TTSuV2 sequences. Finally, the comparison of RSCU for TTSuV2, TTSuV1 and the corresponding host sequence indicated that the codon usage pattern of TTSuV2 was similar to that of TTSuV1. However the similarity was low for each virus and its host. These conclusions provide important insight into the synonymous codon usage pattern of TTSuV2, as well as better understangding of the molecular evolution of TTSuV2 genomes.\n",
      "\n"
     ]
    }
   ],
   "source": [
    "docs.content_comparison(ids=eval_.pairs[1])"
   ],
   "metadata": {
    "collapsed": false,
    "ExecuteTime": {
     "end_time": "2023-05-25T17:55:13.091263110Z",
     "start_time": "2023-05-25T17:55:12.990077808Z"
    }
   }
  },
  {
   "cell_type": "code",
   "execution_count": 14,
   "outputs": [
    {
     "name": "stdout",
     "output_type": "stream",
     "text": [
      "Document 76uk9tj5: \n",
      "Pigeon circovirus (PiCV) is the most frequently diagnosed virus in pigeons and is thought to be one of the causative factors of a complex disease called the young pigeon disease syndrome (YPDS). The development of a vaccine against this virus could be a strategy for YPDS control. Since laboratory culture of PiCV is impossible, its recombinant capsid protein (rCP) can be considered as a potential antigen candidate in sub-unit vaccines. The aim of this basic research was to evaluate the immune response of pigeons to PiCV rCP. Sixty six-week-old carrier pigeons were divided into two groups (experimental immunized with PiCV rCP mixed with an adjuvant, and control immunized with an adjuvant only), and immunized twice in a 21-day interval. On the day of immunization and on two, 23, 39, and 46 days post first immunization (dpv), samples of blood, spleen, and bursa of Fabricius were collected from six birds from each group to examine anti-PiCV rCP IgY, anti-PiCV rCP IgY-secreting B cells (SBC), IFN-γ gene expression, and percentage of T CD3(+), CD4(+), CD8(+), and B IgM(+) lymphocytes. The results indicated a correct immune response to PiCV rCP both in humoral and cell-mediated immunity, which was manifested by seroconversion since 23 dpv, by a significantly higher anti-PiCV rCP IgY-SBC number on two and 23 dpv, and significantly higher IFN-γ gene expression since two dpv. There were no significant differences or trends noted between particular T and B lymphocyte subpopulations. To conclude, PiCV rCP may be deemed immunogenic and could be considered as an antigen candidate in sub-unit vaccines against PiCV infections in pigeons.\n",
      "\n",
      "Document qxo82jkv: \n",
      "Infections with immunosuppressive pigeon circovirus (PiCV) pose the most severe health problem to the global pigeon breeding. The vaccination with immunogenic PiCV recombinant capsid protein (PiCV rCP) is a potential tool for disease control. Because of the high prevalence of PiCV asymptomatic infections, the subclinically infected pigeons will be vaccinated in practice. The aim of this study was to answer a question if vaccination of asymptomatic, infected with PiCV pigeons induces a similar immune response to PiCV rCP as in uninfected birds. One hundred and twenty 6-week-old carrier pigeons were divided into 4 groups (2 groups of naturally infected and uninfected with PiCV individuals). Birds from groups V and V1 were vaccinated twice with PiCV rCP mixed with an adjuvant, whereas pigeons from groups C and C1 were immunized with an adjuvant only. The expression of genes encoding IFN-γ, CD4, and CD8 T lymphocyte receptors; the number of anti-PiCV rCP IgY-secreting B cells (SBC) and anti-PiCV rCP IgY were evaluated 2, 21, 39 and 46 days post vaccination (dpv). Study results showed that the expression of CD8 and IFN-γ genes was higher in both groups of infected pigeons than in the uninfected birds, irrespective of vaccination. In the uninfected birds, the expression of these genes was insignificantly higher in the vaccinated pigeons. The anti-PiCV rCP IgY-SBC were detected on 2 and 23 dpv and seroconversion was noted on 23 and 39 dpv in V and V1 groups, respectively. In the light of the results obtained, it could be concluded that pigeon circovirus recombinant capsid protein elicits the immune response in both naturally infected and uninfected pigeons, but its rate varies depending on PiCV infectious status. The infection with PiCV masks the potential cellular immune response to the vaccination with PiCV rCP and leads to the suppression of humoral immunity.\n",
      "\n"
     ]
    }
   ],
   "source": [
    "docs.content_comparison(ids=eval_.pairs[2])"
   ],
   "metadata": {
    "collapsed": false,
    "ExecuteTime": {
     "end_time": "2023-05-25T17:55:13.093814216Z",
     "start_time": "2023-05-25T17:55:12.990996336Z"
    }
   }
  },
  {
   "cell_type": "markdown",
   "metadata": {
    "collapsed": false,
    "pycharm": {
     "name": "#%% md\n"
    }
   },
   "source": [
    "### Dimensionality Heuristic"
   ]
  },
  {
   "cell_type": "markdown",
   "source": [
    "We perform an heuristic by reducing the dimensionality of the vectors with a given approximation error"
   ],
   "metadata": {
    "collapsed": false
   }
  },
  {
   "cell_type": "code",
   "execution_count": 15,
   "outputs": [],
   "source": [
    "ERROR = 0.3"
   ],
   "metadata": {
    "collapsed": false,
    "ExecuteTime": {
     "end_time": "2023-05-25T17:55:13.094459401Z",
     "start_time": "2023-05-25T17:55:13.037117744Z"
    }
   }
  },
  {
   "cell_type": "code",
   "execution_count": 16,
   "metadata": {
    "collapsed": false,
    "pycharm": {
     "name": "#%%\n"
    },
    "ExecuteTime": {
     "end_time": "2023-05-25T17:55:13.268019429Z",
     "start_time": "2023-05-25T17:55:13.037583504Z"
    }
   },
   "outputs": [
    {
     "name": "stdout",
     "output_type": "stream",
     "text": [
      "Loading vectors... \n",
      "Loading mapping... \n",
      "Loading inverse mapping... \n"
     ]
    }
   ],
   "source": [
    "from assignment3.model.evaluation import DimensionalityHeuristicEvaluation\n",
    "dim_heuristic = DimensionalityHeuristicEvaluation(data_name=DATA_NAME, threshold=SIMILARITY, eps=ERROR)"
   ]
  },
  {
   "cell_type": "code",
   "execution_count": 17,
   "metadata": {
    "collapsed": false,
    "pycharm": {
     "name": "#%%\n"
    },
    "ExecuteTime": {
     "end_time": "2023-05-25T17:55:13.269584029Z",
     "start_time": "2023-05-25T17:55:13.079711990Z"
    }
   },
   "outputs": [
    {
     "data": {
      "text/plain": "DimensionalityHeuristicEvaluation - small (4735 docs, 0.8 similarity)  ['dim_reduction':  0.3 approx error] "
     },
     "execution_count": 17,
     "metadata": {},
     "output_type": "execute_result"
    }
   ],
   "source": [
    "dim_heuristic"
   ]
  },
  {
   "cell_type": "code",
   "execution_count": 18,
   "metadata": {
    "collapsed": false,
    "pycharm": {
     "name": "#%%\n"
    },
    "ExecuteTime": {
     "end_time": "2023-05-25T17:55:16.058802998Z",
     "start_time": "2023-05-25T17:55:13.164471294Z"
    }
   },
   "outputs": [
    {
     "name": "stdout",
     "output_type": "stream",
     "text": [
      "Performing dimensionality reduction... \n",
      "Computing similarities... \n",
      "Inspecting similarities... \n"
     ]
    }
   ],
   "source": [
    "dim_heuristic.evaluate()"
   ]
  },
  {
   "cell_type": "markdown",
   "source": [
    "Total running execution time:"
   ],
   "metadata": {
    "collapsed": false
   }
  },
  {
   "cell_type": "code",
   "execution_count": 19,
   "metadata": {
    "collapsed": false,
    "pycharm": {
     "name": "#%%\n"
    },
    "ExecuteTime": {
     "end_time": "2023-05-25T17:55:16.075052414Z",
     "start_time": "2023-05-25T17:55:16.061430487Z"
    }
   },
   "outputs": [
    {
     "data": {
      "text/plain": "2.1368304040000226"
     },
     "execution_count": 19,
     "metadata": {},
     "output_type": "execute_result"
    }
   ],
   "source": [
    "dim_heuristic.execution_time"
   ]
  },
  {
   "cell_type": "markdown",
   "source": [
    "Pairs found:"
   ],
   "metadata": {
    "collapsed": false
   }
  },
  {
   "cell_type": "code",
   "execution_count": 20,
   "metadata": {
    "collapsed": false,
    "pycharm": {
     "name": "#%%\n"
    },
    "ExecuteTime": {
     "end_time": "2023-05-25T17:55:16.152239901Z",
     "start_time": "2023-05-25T17:55:16.071531104Z"
    }
   },
   "outputs": [
    {
     "data": {
      "text/plain": "10"
     },
     "execution_count": 20,
     "metadata": {},
     "output_type": "execute_result"
    }
   ],
   "source": [
    "len(dim_heuristic.pairs)"
   ]
  },
  {
   "cell_type": "markdown",
   "source": [
    "Score with respect of the exact solution:"
   ],
   "metadata": {
    "collapsed": false
   }
  },
  {
   "cell_type": "code",
   "execution_count": 21,
   "metadata": {
    "collapsed": false,
    "pycharm": {
     "name": "#%%\n"
    },
    "ExecuteTime": {
     "end_time": "2023-05-25T17:55:16.153492806Z",
     "start_time": "2023-05-25T17:55:16.128642246Z"
    }
   },
   "outputs": [
    {
     "data": {
      "text/plain": "0.4166666666666667"
     },
     "execution_count": 21,
     "metadata": {},
     "output_type": "execute_result"
    }
   ],
   "source": [
    "dim_heuristic.score"
   ]
  },
  {
   "cell_type": "code",
   "execution_count": 22,
   "metadata": {
    "collapsed": false,
    "pycharm": {
     "name": "#%%\n"
    },
    "ExecuteTime": {
     "end_time": "2023-05-25T17:55:16.154327233Z",
     "start_time": "2023-05-25T17:55:16.129173742Z"
    }
   },
   "outputs": [
    {
     "name": "stdout",
     "output_type": "stream",
     "text": [
      "Saving evaluation results. \n"
     ]
    }
   ],
   "source": [
    "dim_heuristic.save()"
   ]
  },
  {
   "cell_type": "markdown",
   "metadata": {
    "collapsed": false,
    "pycharm": {
     "name": "#%% md\n"
    }
   },
   "source": [
    "### Doc-terms heuristic"
   ]
  },
  {
   "cell_type": "markdown",
   "source": [
    "We perform an heuristic by skipping computation over documents with a too high length mismatch\n"
   ],
   "metadata": {
    "collapsed": false
   }
  },
  {
   "cell_type": "code",
   "execution_count": 23,
   "outputs": [],
   "source": [
    "K = 1.2"
   ],
   "metadata": {
    "collapsed": false,
    "ExecuteTime": {
     "end_time": "2023-05-25T17:55:16.304664347Z",
     "start_time": "2023-05-25T17:55:16.133009850Z"
    }
   }
  },
  {
   "cell_type": "code",
   "execution_count": 24,
   "metadata": {
    "collapsed": false,
    "pycharm": {
     "name": "#%%\n"
    },
    "ExecuteTime": {
     "end_time": "2023-05-25T17:55:16.336898389Z",
     "start_time": "2023-05-25T17:55:16.172659813Z"
    }
   },
   "outputs": [
    {
     "name": "stdout",
     "output_type": "stream",
     "text": [
      "Loading vectors... \n",
      "Loading mapping... \n",
      "Loading inverse mapping... \n"
     ]
    }
   ],
   "source": [
    "from assignment3.model.evaluation import DocTermsHeuristicEvaluation\n",
    "docsize_heuristic = DocTermsHeuristicEvaluation(data_name=DATA_NAME, threshold=SIMILARITY, k=K)"
   ]
  },
  {
   "cell_type": "code",
   "execution_count": 25,
   "metadata": {
    "collapsed": false,
    "pycharm": {
     "name": "#%%\n"
    },
    "ExecuteTime": {
     "end_time": "2023-05-25T17:55:16.339044416Z",
     "start_time": "2023-05-25T17:55:16.224400598Z"
    }
   },
   "outputs": [
    {
     "data": {
      "text/plain": "DocSizeHeuristicEvaluation - small (4735 docs, 0.8 similarity)  ['docs_size': 1.2 mult factor]"
     },
     "execution_count": 25,
     "metadata": {},
     "output_type": "execute_result"
    }
   ],
   "source": [
    "docsize_heuristic"
   ]
  },
  {
   "cell_type": "code",
   "execution_count": 26,
   "metadata": {
    "collapsed": false,
    "pycharm": {
     "name": "#%%\n"
    },
    "ExecuteTime": {
     "end_time": "2023-05-25T17:55:20.053333855Z",
     "start_time": "2023-05-25T17:55:16.228739930Z"
    }
   },
   "outputs": [
    {
     "name": "stdout",
     "output_type": "stream",
     "text": [
      "Evaluating... \n",
      "Computing cosine similarity... \n",
      "Inspecting similarities... \n"
     ]
    }
   ],
   "source": [
    "docsize_heuristic.evaluate()"
   ]
  },
  {
   "cell_type": "markdown",
   "source": [
    "Total running execution time:"
   ],
   "metadata": {
    "collapsed": false
   }
  },
  {
   "cell_type": "code",
   "execution_count": 27,
   "metadata": {
    "collapsed": false,
    "pycharm": {
     "name": "#%%\n"
    },
    "ExecuteTime": {
     "end_time": "2023-05-25T17:55:20.074786656Z",
     "start_time": "2023-05-25T17:55:20.058179383Z"
    }
   },
   "outputs": [
    {
     "data": {
      "text/plain": "3.8070514349999485"
     },
     "execution_count": 27,
     "metadata": {},
     "output_type": "execute_result"
    }
   ],
   "source": [
    "docsize_heuristic.execution_time"
   ]
  },
  {
   "cell_type": "markdown",
   "source": [
    "Pairs found:"
   ],
   "metadata": {
    "collapsed": false
   }
  },
  {
   "cell_type": "code",
   "execution_count": 28,
   "metadata": {
    "collapsed": false,
    "pycharm": {
     "name": "#%%\n"
    },
    "ExecuteTime": {
     "end_time": "2023-05-25T17:55:20.181361910Z",
     "start_time": "2023-05-25T17:55:20.070442027Z"
    }
   },
   "outputs": [
    {
     "data": {
      "text/plain": "5"
     },
     "execution_count": 28,
     "metadata": {},
     "output_type": "execute_result"
    }
   ],
   "source": [
    "len(docsize_heuristic.pairs)"
   ]
  },
  {
   "cell_type": "markdown",
   "source": [
    "Score with respect of the exact solution:"
   ],
   "metadata": {
    "collapsed": false
   }
  },
  {
   "cell_type": "code",
   "execution_count": 29,
   "metadata": {
    "collapsed": false,
    "pycharm": {
     "name": "#%%\n"
    },
    "ExecuteTime": {
     "end_time": "2023-05-25T17:55:20.182543050Z",
     "start_time": "2023-05-25T17:55:20.084540736Z"
    }
   },
   "outputs": [
    {
     "data": {
      "text/plain": "0.7142857142857143"
     },
     "execution_count": 29,
     "metadata": {},
     "output_type": "execute_result"
    }
   ],
   "source": [
    "docsize_heuristic.score"
   ]
  },
  {
   "cell_type": "code",
   "execution_count": 30,
   "metadata": {
    "collapsed": false,
    "pycharm": {
     "name": "#%%\n"
    },
    "ExecuteTime": {
     "end_time": "2023-05-25T17:55:20.184125438Z",
     "start_time": "2023-05-25T17:55:20.098416334Z"
    }
   },
   "outputs": [
    {
     "name": "stdout",
     "output_type": "stream",
     "text": [
      "Saving evaluation results. \n"
     ]
    }
   ],
   "source": [
    "docsize_heuristic.save()"
   ]
  },
  {
   "cell_type": "markdown",
   "source": [
    "## Evaluation over medium sample"
   ],
   "metadata": {
    "collapsed": false
   }
  },
  {
   "cell_type": "markdown",
   "source": [
    "Following part computes the exact evaluation and some heuristics over the medium sample and compare the results."
   ],
   "metadata": {
    "collapsed": false
   }
  },
  {
   "cell_type": "code",
   "execution_count": 31,
   "outputs": [],
   "source": [
    "DATA_NAME = 'medium'"
   ],
   "metadata": {
    "collapsed": false,
    "ExecuteTime": {
     "end_time": "2023-05-25T17:55:20.185078589Z",
     "start_time": "2023-05-25T17:55:20.140586157Z"
    }
   }
  },
  {
   "cell_type": "code",
   "execution_count": 32,
   "outputs": [],
   "source": [
    "SIMILARITY = 0.85"
   ],
   "metadata": {
    "collapsed": false,
    "ExecuteTime": {
     "end_time": "2023-05-25T17:55:20.202345696Z",
     "start_time": "2023-05-25T17:55:20.141003866Z"
    }
   }
  },
  {
   "cell_type": "markdown",
   "source": [
    "Loading document content:"
   ],
   "metadata": {
    "collapsed": false
   }
  },
  {
   "cell_type": "code",
   "execution_count": 33,
   "outputs": [
    {
     "name": "stdout",
     "output_type": "stream",
     "text": [
      "Parsing documents... \n"
     ]
    }
   ],
   "source": [
    "from assignment3.model.documents import DocumentsCollection\n",
    "\n",
    "docs = DocumentsCollection(data_name=DATA_NAME)"
   ],
   "metadata": {
    "collapsed": false,
    "ExecuteTime": {
     "end_time": "2023-05-25T17:55:21.391745733Z",
     "start_time": "2023-05-25T17:55:20.141322842Z"
    }
   }
  },
  {
   "cell_type": "code",
   "execution_count": 34,
   "outputs": [
    {
     "data": {
      "text/plain": "medium Documents [12000]"
     },
     "execution_count": 34,
     "metadata": {},
     "output_type": "execute_result"
    }
   ],
   "source": [
    "docs"
   ],
   "metadata": {
    "collapsed": false,
    "ExecuteTime": {
     "end_time": "2023-05-25T17:55:21.410839618Z",
     "start_time": "2023-05-25T17:55:21.387526338Z"
    }
   }
  },
  {
   "cell_type": "markdown",
   "source": [
    "### Exact solution"
   ],
   "metadata": {
    "collapsed": false
   }
  },
  {
   "cell_type": "code",
   "execution_count": 35,
   "outputs": [
    {
     "name": "stdout",
     "output_type": "stream",
     "text": [
      "Loading vectors... \n",
      "Loading mapping... \n",
      "Loading inverse mapping... \n"
     ]
    }
   ],
   "source": [
    "from assignment3.model.evaluation import ExactSolutionEvaluation\n",
    "\n",
    "eval_ = ExactSolutionEvaluation(data_name=DATA_NAME, threshold=SIMILARITY)"
   ],
   "metadata": {
    "collapsed": false,
    "ExecuteTime": {
     "end_time": "2023-05-25T17:55:21.541273583Z",
     "start_time": "2023-05-25T17:55:21.395505957Z"
    }
   }
  },
  {
   "cell_type": "code",
   "execution_count": 36,
   "outputs": [
    {
     "data": {
      "text/plain": "ExactSolutionEvaluation - medium (9374 docs, 0.85 similarity) "
     },
     "execution_count": 36,
     "metadata": {},
     "output_type": "execute_result"
    }
   ],
   "source": [
    "eval_"
   ],
   "metadata": {
    "collapsed": false,
    "ExecuteTime": {
     "end_time": "2023-05-25T17:55:21.626933296Z",
     "start_time": "2023-05-25T17:55:21.538072601Z"
    }
   }
  },
  {
   "cell_type": "code",
   "execution_count": 37,
   "outputs": [
    {
     "name": "stdout",
     "output_type": "stream",
     "text": [
      "Evaluating... \n",
      "Computing cosine similarity... \n",
      "Inspecting similarities... \n"
     ]
    }
   ],
   "source": [
    "eval_.evaluate()"
   ],
   "metadata": {
    "collapsed": false,
    "ExecuteTime": {
     "end_time": "2023-05-25T17:55:33.539376151Z",
     "start_time": "2023-05-25T17:55:21.581185126Z"
    }
   }
  },
  {
   "cell_type": "markdown",
   "source": [
    "Total running execution time:"
   ],
   "metadata": {
    "collapsed": false
   }
  },
  {
   "cell_type": "code",
   "execution_count": 38,
   "outputs": [
    {
     "data": {
      "text/plain": "11.931189151000012"
     },
     "execution_count": 38,
     "metadata": {},
     "output_type": "execute_result"
    }
   ],
   "source": [
    "eval_.execution_time"
   ],
   "metadata": {
    "collapsed": false,
    "ExecuteTime": {
     "end_time": "2023-05-25T17:55:33.560648982Z",
     "start_time": "2023-05-25T17:55:33.550878294Z"
    }
   }
  },
  {
   "cell_type": "markdown",
   "source": [
    "Pairs found:"
   ],
   "metadata": {
    "collapsed": false
   }
  },
  {
   "cell_type": "code",
   "execution_count": 39,
   "outputs": [
    {
     "data": {
      "text/plain": "59"
     },
     "execution_count": 39,
     "metadata": {},
     "output_type": "execute_result"
    }
   ],
   "source": [
    "len(eval_.pairs)"
   ],
   "metadata": {
    "collapsed": false,
    "ExecuteTime": {
     "end_time": "2023-05-25T17:55:33.659733088Z",
     "start_time": "2023-05-25T17:55:33.559425977Z"
    }
   }
  },
  {
   "cell_type": "code",
   "execution_count": 40,
   "outputs": [
    {
     "name": "stdout",
     "output_type": "stream",
     "text": [
      "Saving evaluation results. \n"
     ]
    }
   ],
   "source": [
    "eval_.save()"
   ],
   "metadata": {
    "collapsed": false,
    "ExecuteTime": {
     "end_time": "2023-05-25T17:55:33.661022699Z",
     "start_time": "2023-05-25T17:55:33.612556378Z"
    }
   }
  },
  {
   "cell_type": "markdown",
   "source": [
    "Content comparison:"
   ],
   "metadata": {
    "collapsed": false
   }
  },
  {
   "cell_type": "code",
   "execution_count": 41,
   "outputs": [
    {
     "name": "stdout",
     "output_type": "stream",
     "text": [
      "Document cd5yoh0l: \n",
      "The expected cost explosion in transfusion medicine (increasing imbalance between donors and potential recipients, treatment of transfusion-associated complications) increases the socio-economic significance of specific institutional transfusion programs. In this context the estimated use of the patient’s physiologic tolerance to anemia enables 1) the tolerance of larger blood losses (loss of “diluted blood”), 2) the onset of transfusion to the time after surgical control of bleeding to be delayed and 3) the perioperative collection of autologous red blood cells. The present review article summarizes the mechanisms, influencing factors and limits of this natural tolerance to anemia and deduces the indication for perioperative red blood cell transfusion. Under strictly controlled conditions (anesthesia, normovolemia, complete muscular relaxation, hyperoxemia, mild hypothermia) extremely low hemoglobin concentrations [Hb <3 g/dl (<1.86 mmol/l)] are tolerated without transfusion by individuals with no cardiopulmonary disease. In the clinical routine these situations are limited to borderline situations e.g. unexpected massive blood losses in Jehovah’s Witnesses or unexpected shortcomings in blood supply. The current recommendations coincide to the effect that perioperative red blood cell transfusion 1) is unnecessary up to a Hb concentration of 10 g/dl (6.21 mmol/l) even in older patients with cardiopulmonary comorbidity and 2) is only recommended in cases of Hb <6 g/dl (<3.72 mmol/l) in otherwise healthy subjects including pregnant women and children. Critically ill patients with multiple trauma and sepsis do not seem to benefit from transfusions up to Hb concentrations >9 g/dl (>5.59 mmol/l). In cases of massive hemorrhaging and diffuse bleeding disorders the maintenance of a Hb concentration of 10 g/dl (6.21 mmol/l) seems to contribute to stabilization of coagulation.\n",
      "\n",
      "Document r8xcl0iu: \n",
      "The expected cost explosion in transfusion medicine increases the socio-economic significance of specific institutional transfusion programs. In this context the estimated use of the patient’s physiologic tolerance represents an integral part of any blood conservation concept. The present article summarizes the mechanisms, influencing factors and limits of this natural tolerance to anemia and deduces the indication for perioperative red blood cell transfusion. The current recommendations coincide to the effect that perioperative transfusion is unnecessary up to a Hb concentration of 10 g/dl (6.21 mmol/l) even in older patients with cardiopulmonary comorbidity and is only recommended in cases of Hb <6 g/dl (<3.72 mmol/l) in otherwise healthy subjects including pregnant women and children. Critically ill patients with multiple trauma and sepsis do not seem to benefit from transfusions up to Hb concentrations >9 g/dl (>5.59 mmol/l). In cases of massive hemorrhaging and diffuse bleeding disorders the maintenance of a Hb concentration of 10 g/dl (6.21 mmol/l) seems to contribute to stabilization of coagulation.\n",
      "\n"
     ]
    }
   ],
   "source": [
    "docs.content_comparison(ids=eval_.pairs[0])"
   ],
   "metadata": {
    "collapsed": false,
    "ExecuteTime": {
     "end_time": "2023-05-25T17:55:33.662009729Z",
     "start_time": "2023-05-25T17:55:33.613045509Z"
    }
   }
  },
  {
   "cell_type": "code",
   "execution_count": 42,
   "outputs": [
    {
     "name": "stdout",
     "output_type": "stream",
     "text": [
      "Document 1czjl0hz: \n",
      "Torque teno sus virus 1 (TTSuV1) is a novel virus that has been found widely distributed in the swine population in recent years. Analysis of codon usage can reveal much about the molecular evolution of TTSuV1. In this study, synonymous codon usage patterns and the key determinants in the coding region of 29 available complete TTSuV1 genome sequences were examined. By calculating the nucleotide content and relative synonymous codon usage (RSCU) of TTSuV1 coding sequences, we found that the preferentially used codons were mostly those ending with A or C nucleotides; less-used codons were mostly codons ending with U or G nucleotides, and these were mainly affected by composition constraints. Although there was a variation in codon usage bias among different TTSuV1 genomes, the codon usage bias and GC content in the TTSuV1 coding region was lower, which was mainly determined by the base composition in the third codon position and the effective number of codons (ENC) value. Moreover, the results of correspondence analysis (COA) indicated that the codon usage patterns of TTSuV1 isolated from different countries varied greatly and had significant differences. In addition, Spearman’s rank correlation analysis and an ENC plot revealed that apart from mutation pressure, which was critical in determining the codon usage pattern, other factors were involved in shaping the evolution of codon usage bias in TTSuV1, such as natural selection. Those results suggested that synonymous codon usage patterns of TTSuV1 genomes were the result of interaction between mutation pressure and natural selection. The information from this study not only provides important insights into the synonymous codon usage pattern of TTSuV1, but also helps to identify the main factors affecting codon usage by this virus.\n",
      "\n",
      "Document uqr00nzd: \n",
      "Two species of the DNA virus Torque teno sus virus (TTSuV), TTSuV1 and TTSuV2, have become widely distributed in pig-farming countries in recent years. In this study, we performed a comprehensive analysis of synonymous codon usage bias in 41 available TTSuV2 coding sequences (CDS), and compared the codon usage patterns of TTSuV2 and TTSuV1. TTSuV codon usage patterns were found to be phylogenetically conserved. Values for the effective number of codons (ENC) indicated that the overall extent of codon usage bias in both TTSuV2 and TTSuV1 was not significant, the most frequently occurring codons had an A or C at the third codon position. Correspondence analysis (COA) was performed and TTSuV2 and TTSuV1 sequences were located in different quadrants of the first two major axes. A plot of the ENC revealed that compositional constraint was the major factor determining the codon usage bias for TTSuV2. In addition, hierarchical cluster analysis of 41 TTSuV2 isolates based on relative synonymous codon usage (RSCU) values suggested that there was no association between geographic distribution and codon bias of TTSuV2 sequences. Finally, the comparison of RSCU for TTSuV2, TTSuV1 and the corresponding host sequence indicated that the codon usage pattern of TTSuV2 was similar to that of TTSuV1. However the similarity was low for each virus and its host. These conclusions provide important insight into the synonymous codon usage pattern of TTSuV2, as well as better understangding of the molecular evolution of TTSuV2 genomes.\n",
      "\n"
     ]
    }
   ],
   "source": [
    "docs.content_comparison(ids=eval_.pairs[1])"
   ],
   "metadata": {
    "collapsed": false,
    "ExecuteTime": {
     "end_time": "2023-05-25T17:55:33.664968769Z",
     "start_time": "2023-05-25T17:55:33.613444850Z"
    }
   }
  },
  {
   "cell_type": "code",
   "execution_count": 43,
   "outputs": [
    {
     "name": "stdout",
     "output_type": "stream",
     "text": [
      "Document 76uk9tj5: \n",
      "Pigeon circovirus (PiCV) is the most frequently diagnosed virus in pigeons and is thought to be one of the causative factors of a complex disease called the young pigeon disease syndrome (YPDS). The development of a vaccine against this virus could be a strategy for YPDS control. Since laboratory culture of PiCV is impossible, its recombinant capsid protein (rCP) can be considered as a potential antigen candidate in sub-unit vaccines. The aim of this basic research was to evaluate the immune response of pigeons to PiCV rCP. Sixty six-week-old carrier pigeons were divided into two groups (experimental immunized with PiCV rCP mixed with an adjuvant, and control immunized with an adjuvant only), and immunized twice in a 21-day interval. On the day of immunization and on two, 23, 39, and 46 days post first immunization (dpv), samples of blood, spleen, and bursa of Fabricius were collected from six birds from each group to examine anti-PiCV rCP IgY, anti-PiCV rCP IgY-secreting B cells (SBC), IFN-γ gene expression, and percentage of T CD3(+), CD4(+), CD8(+), and B IgM(+) lymphocytes. The results indicated a correct immune response to PiCV rCP both in humoral and cell-mediated immunity, which was manifested by seroconversion since 23 dpv, by a significantly higher anti-PiCV rCP IgY-SBC number on two and 23 dpv, and significantly higher IFN-γ gene expression since two dpv. There were no significant differences or trends noted between particular T and B lymphocyte subpopulations. To conclude, PiCV rCP may be deemed immunogenic and could be considered as an antigen candidate in sub-unit vaccines against PiCV infections in pigeons.\n",
      "\n",
      "Document qxo82jkv: \n",
      "Infections with immunosuppressive pigeon circovirus (PiCV) pose the most severe health problem to the global pigeon breeding. The vaccination with immunogenic PiCV recombinant capsid protein (PiCV rCP) is a potential tool for disease control. Because of the high prevalence of PiCV asymptomatic infections, the subclinically infected pigeons will be vaccinated in practice. The aim of this study was to answer a question if vaccination of asymptomatic, infected with PiCV pigeons induces a similar immune response to PiCV rCP as in uninfected birds. One hundred and twenty 6-week-old carrier pigeons were divided into 4 groups (2 groups of naturally infected and uninfected with PiCV individuals). Birds from groups V and V1 were vaccinated twice with PiCV rCP mixed with an adjuvant, whereas pigeons from groups C and C1 were immunized with an adjuvant only. The expression of genes encoding IFN-γ, CD4, and CD8 T lymphocyte receptors; the number of anti-PiCV rCP IgY-secreting B cells (SBC) and anti-PiCV rCP IgY were evaluated 2, 21, 39 and 46 days post vaccination (dpv). Study results showed that the expression of CD8 and IFN-γ genes was higher in both groups of infected pigeons than in the uninfected birds, irrespective of vaccination. In the uninfected birds, the expression of these genes was insignificantly higher in the vaccinated pigeons. The anti-PiCV rCP IgY-SBC were detected on 2 and 23 dpv and seroconversion was noted on 23 and 39 dpv in V and V1 groups, respectively. In the light of the results obtained, it could be concluded that pigeon circovirus recombinant capsid protein elicits the immune response in both naturally infected and uninfected pigeons, but its rate varies depending on PiCV infectious status. The infection with PiCV masks the potential cellular immune response to the vaccination with PiCV rCP and leads to the suppression of humoral immunity.\n",
      "\n"
     ]
    }
   ],
   "source": [
    "docs.content_comparison(ids=eval_.pairs[2])"
   ],
   "metadata": {
    "collapsed": false,
    "ExecuteTime": {
     "end_time": "2023-05-25T17:55:33.680014257Z",
     "start_time": "2023-05-25T17:55:33.656715762Z"
    }
   }
  },
  {
   "cell_type": "markdown",
   "source": [
    "### Dimensionality Heuristic"
   ],
   "metadata": {
    "collapsed": false
   }
  },
  {
   "cell_type": "markdown",
   "source": [
    "We perform an heuristic by reducing the dimensionality of the vectors with a given approximation error"
   ],
   "metadata": {
    "collapsed": false
   }
  },
  {
   "cell_type": "code",
   "execution_count": 44,
   "outputs": [],
   "source": [
    "ERROR = 0.3"
   ],
   "metadata": {
    "collapsed": false,
    "ExecuteTime": {
     "end_time": "2023-05-25T17:55:33.680432604Z",
     "start_time": "2023-05-25T17:55:33.657163829Z"
    }
   }
  },
  {
   "cell_type": "code",
   "execution_count": 45,
   "outputs": [
    {
     "name": "stdout",
     "output_type": "stream",
     "text": [
      "Loading vectors... \n",
      "Loading mapping... \n",
      "Loading inverse mapping... \n"
     ]
    }
   ],
   "source": [
    "from assignment3.model.evaluation import DimensionalityHeuristicEvaluation\n",
    "dim_heuristic = DimensionalityHeuristicEvaluation(data_name=DATA_NAME, threshold=SIMILARITY, eps=ERROR)"
   ],
   "metadata": {
    "collapsed": false,
    "ExecuteTime": {
     "end_time": "2023-05-25T17:55:33.897796409Z",
     "start_time": "2023-05-25T17:55:33.657581209Z"
    }
   }
  },
  {
   "cell_type": "code",
   "execution_count": 46,
   "outputs": [
    {
     "data": {
      "text/plain": "DimensionalityHeuristicEvaluation - medium (9374 docs, 0.85 similarity)  ['dim_reduction':  0.3 approx error] "
     },
     "execution_count": 46,
     "metadata": {},
     "output_type": "execute_result"
    }
   ],
   "source": [
    "dim_heuristic"
   ],
   "metadata": {
    "collapsed": false,
    "ExecuteTime": {
     "end_time": "2023-05-25T17:55:33.918261999Z",
     "start_time": "2023-05-25T17:55:33.773761945Z"
    }
   }
  },
  {
   "cell_type": "code",
   "execution_count": 47,
   "outputs": [
    {
     "name": "stdout",
     "output_type": "stream",
     "text": [
      "Performing dimensionality reduction... \n",
      "Computing similarities... \n",
      "Inspecting similarities... \n"
     ]
    }
   ],
   "source": [
    "dim_heuristic.evaluate()"
   ],
   "metadata": {
    "collapsed": false,
    "ExecuteTime": {
     "end_time": "2023-05-25T17:55:42.027188322Z",
     "start_time": "2023-05-25T17:55:33.777658937Z"
    }
   }
  },
  {
   "cell_type": "markdown",
   "source": [
    "Total running execution time:"
   ],
   "metadata": {
    "collapsed": false
   }
  },
  {
   "cell_type": "code",
   "execution_count": 48,
   "outputs": [
    {
     "data": {
      "text/plain": "7.194824562000008"
     },
     "execution_count": 48,
     "metadata": {},
     "output_type": "execute_result"
    }
   ],
   "source": [
    "dim_heuristic.execution_time"
   ],
   "metadata": {
    "collapsed": false,
    "ExecuteTime": {
     "end_time": "2023-05-25T17:55:42.074633527Z",
     "start_time": "2023-05-25T17:55:42.030782495Z"
    }
   }
  },
  {
   "cell_type": "markdown",
   "source": [
    "Pairs found:"
   ],
   "metadata": {
    "collapsed": false
   }
  },
  {
   "cell_type": "code",
   "execution_count": 49,
   "outputs": [
    {
     "data": {
      "text/plain": "56"
     },
     "execution_count": 49,
     "metadata": {},
     "output_type": "execute_result"
    }
   ],
   "source": [
    "len(dim_heuristic.pairs)"
   ],
   "metadata": {
    "collapsed": false,
    "ExecuteTime": {
     "end_time": "2023-05-25T17:55:42.075978990Z",
     "start_time": "2023-05-25T17:55:42.072827802Z"
    }
   }
  },
  {
   "cell_type": "markdown",
   "source": [
    "Score with respect of the exact solution:"
   ],
   "metadata": {
    "collapsed": false
   }
  },
  {
   "cell_type": "code",
   "execution_count": 50,
   "outputs": [
    {
     "data": {
      "text/plain": "0.9491525423728814"
     },
     "execution_count": 50,
     "metadata": {},
     "output_type": "execute_result"
    }
   ],
   "source": [
    "dim_heuristic.score"
   ],
   "metadata": {
    "collapsed": false,
    "ExecuteTime": {
     "end_time": "2023-05-25T17:55:42.099503116Z",
     "start_time": "2023-05-25T17:55:42.076590213Z"
    }
   }
  },
  {
   "cell_type": "code",
   "execution_count": 51,
   "outputs": [
    {
     "name": "stdout",
     "output_type": "stream",
     "text": [
      "Saving evaluation results. \n"
     ]
    }
   ],
   "source": [
    "dim_heuristic.save()"
   ],
   "metadata": {
    "collapsed": false,
    "ExecuteTime": {
     "end_time": "2023-05-25T17:55:42.246435249Z",
     "start_time": "2023-05-25T17:55:42.077507404Z"
    }
   }
  },
  {
   "cell_type": "markdown",
   "source": [
    "### Doc-terms heuristic"
   ],
   "metadata": {
    "collapsed": false
   }
  },
  {
   "cell_type": "markdown",
   "source": [
    "We perform an heuristic by skipping computation over documents with a too high length mismatch\n"
   ],
   "metadata": {
    "collapsed": false
   }
  },
  {
   "cell_type": "code",
   "execution_count": 52,
   "outputs": [],
   "source": [
    "K = 1.2"
   ],
   "metadata": {
    "collapsed": false,
    "ExecuteTime": {
     "end_time": "2023-05-25T17:55:42.247502837Z",
     "start_time": "2023-05-25T17:55:42.117274323Z"
    }
   }
  },
  {
   "cell_type": "code",
   "execution_count": 53,
   "outputs": [
    {
     "name": "stdout",
     "output_type": "stream",
     "text": [
      "Loading vectors... \n",
      "Loading mapping... \n",
      "Loading inverse mapping... \n"
     ]
    }
   ],
   "source": [
    "from assignment3.model.evaluation import DocTermsHeuristicEvaluation\n",
    "docsize_heuristic = DocTermsHeuristicEvaluation(data_name=DATA_NAME, threshold=SIMILARITY, k=K)"
   ],
   "metadata": {
    "collapsed": false,
    "ExecuteTime": {
     "end_time": "2023-05-25T17:55:42.251408609Z",
     "start_time": "2023-05-25T17:55:42.118713069Z"
    }
   }
  },
  {
   "cell_type": "code",
   "execution_count": 54,
   "outputs": [
    {
     "data": {
      "text/plain": "DocSizeHeuristicEvaluation - medium (9374 docs, 0.85 similarity)  ['docs_size': 1.2 mult factor]"
     },
     "execution_count": 54,
     "metadata": {},
     "output_type": "execute_result"
    }
   ],
   "source": [
    "docsize_heuristic"
   ],
   "metadata": {
    "collapsed": false,
    "ExecuteTime": {
     "end_time": "2023-05-25T17:55:42.379035266Z",
     "start_time": "2023-05-25T17:55:42.231178910Z"
    }
   }
  },
  {
   "cell_type": "code",
   "execution_count": 55,
   "outputs": [
    {
     "name": "stdout",
     "output_type": "stream",
     "text": [
      "Evaluating... \n",
      "Computing cosine similarity... \n",
      "Inspecting similarities... \n"
     ]
    }
   ],
   "source": [
    "docsize_heuristic.evaluate()"
   ],
   "metadata": {
    "collapsed": false,
    "ExecuteTime": {
     "end_time": "2023-05-25T17:55:55.311636418Z",
     "start_time": "2023-05-25T17:55:42.276811904Z"
    }
   }
  },
  {
   "cell_type": "markdown",
   "source": [
    "Total running execution time:"
   ],
   "metadata": {
    "collapsed": false
   }
  },
  {
   "cell_type": "code",
   "execution_count": 56,
   "outputs": [
    {
     "data": {
      "text/plain": "13.014131188000022"
     },
     "execution_count": 56,
     "metadata": {},
     "output_type": "execute_result"
    }
   ],
   "source": [
    "docsize_heuristic.execution_time"
   ],
   "metadata": {
    "collapsed": false,
    "ExecuteTime": {
     "end_time": "2023-05-25T17:55:55.326810443Z",
     "start_time": "2023-05-25T17:55:55.317195929Z"
    }
   }
  },
  {
   "cell_type": "markdown",
   "source": [
    "Pairs found:"
   ],
   "metadata": {
    "collapsed": false
   }
  },
  {
   "cell_type": "code",
   "execution_count": 57,
   "outputs": [
    {
     "data": {
      "text/plain": "57"
     },
     "execution_count": 57,
     "metadata": {},
     "output_type": "execute_result"
    }
   ],
   "source": [
    "len(docsize_heuristic.pairs)"
   ],
   "metadata": {
    "collapsed": false,
    "ExecuteTime": {
     "end_time": "2023-05-25T17:55:55.456115668Z",
     "start_time": "2023-05-25T17:55:55.323523006Z"
    }
   }
  },
  {
   "cell_type": "markdown",
   "source": [
    "Score with respect of the exact solution:"
   ],
   "metadata": {
    "collapsed": false
   }
  },
  {
   "cell_type": "code",
   "execution_count": 58,
   "outputs": [
    {
     "data": {
      "text/plain": "0.9661016949152542"
     },
     "execution_count": 58,
     "metadata": {},
     "output_type": "execute_result"
    }
   ],
   "source": [
    "docsize_heuristic.score"
   ],
   "metadata": {
    "collapsed": false,
    "ExecuteTime": {
     "end_time": "2023-05-25T17:55:55.478290512Z",
     "start_time": "2023-05-25T17:55:55.369910299Z"
    }
   }
  },
  {
   "cell_type": "code",
   "execution_count": 59,
   "outputs": [
    {
     "name": "stdout",
     "output_type": "stream",
     "text": [
      "Saving evaluation results. \n"
     ]
    }
   ],
   "source": [
    "docsize_heuristic.save()"
   ],
   "metadata": {
    "collapsed": false,
    "ExecuteTime": {
     "end_time": "2023-05-25T17:55:55.491084434Z",
     "start_time": "2023-05-25T17:55:55.370877352Z"
    }
   }
  },
  {
   "cell_type": "markdown",
   "source": [
    "## Evaluation over large example"
   ],
   "metadata": {
    "collapsed": false
   }
  },
  {
   "cell_type": "markdown",
   "source": [
    "Following part computes the exact evaluation and some heuristics over the large example and compare the results."
   ],
   "metadata": {
    "collapsed": false
   }
  },
  {
   "cell_type": "code",
   "execution_count": 60,
   "outputs": [],
   "source": [
    "DATA_NAME = 'large'"
   ],
   "metadata": {
    "collapsed": false,
    "ExecuteTime": {
     "end_time": "2023-05-25T17:55:55.502043627Z",
     "start_time": "2023-05-25T17:55:55.413897336Z"
    }
   }
  },
  {
   "cell_type": "code",
   "execution_count": 61,
   "outputs": [],
   "source": [
    "SIMILARITY = 0.9"
   ],
   "metadata": {
    "collapsed": false,
    "ExecuteTime": {
     "end_time": "2023-05-25T17:55:55.514045535Z",
     "start_time": "2023-05-25T17:55:55.414863409Z"
    }
   }
  },
  {
   "cell_type": "markdown",
   "source": [
    "Loading document content:"
   ],
   "metadata": {
    "collapsed": false
   }
  },
  {
   "cell_type": "code",
   "execution_count": 62,
   "outputs": [
    {
     "name": "stdout",
     "output_type": "stream",
     "text": [
      "Parsing documents... \n"
     ]
    }
   ],
   "source": [
    "from assignment3.model.documents import DocumentsCollection\n",
    "\n",
    "docs = DocumentsCollection(data_name=DATA_NAME)"
   ],
   "metadata": {
    "collapsed": false,
    "ExecuteTime": {
     "end_time": "2023-05-25T17:55:57.148308219Z",
     "start_time": "2023-05-25T17:55:55.415743670Z"
    }
   }
  },
  {
   "cell_type": "code",
   "execution_count": 63,
   "outputs": [
    {
     "data": {
      "text/plain": "large Documents [20000]"
     },
     "execution_count": 63,
     "metadata": {},
     "output_type": "execute_result"
    }
   ],
   "source": [
    "docs"
   ],
   "metadata": {
    "collapsed": false,
    "ExecuteTime": {
     "end_time": "2023-05-25T17:55:57.215107060Z",
     "start_time": "2023-05-25T17:55:57.155249675Z"
    }
   }
  },
  {
   "cell_type": "markdown",
   "source": [
    "### Exact solution"
   ],
   "metadata": {
    "collapsed": false
   }
  },
  {
   "cell_type": "code",
   "execution_count": 64,
   "outputs": [
    {
     "name": "stdout",
     "output_type": "stream",
     "text": [
      "Loading vectors... \n",
      "Loading mapping... \n",
      "Loading inverse mapping... \n"
     ]
    }
   ],
   "source": [
    "from assignment3.model.evaluation import ExactSolutionEvaluation\n",
    "\n",
    "eval_ = ExactSolutionEvaluation(data_name=DATA_NAME, threshold=SIMILARITY)"
   ],
   "metadata": {
    "collapsed": false,
    "ExecuteTime": {
     "end_time": "2023-05-25T17:55:57.344694842Z",
     "start_time": "2023-05-25T17:55:57.201264185Z"
    }
   }
  },
  {
   "cell_type": "code",
   "execution_count": 65,
   "outputs": [
    {
     "data": {
      "text/plain": "ExactSolutionEvaluation - large (13641 docs, 0.9 similarity) "
     },
     "execution_count": 65,
     "metadata": {},
     "output_type": "execute_result"
    }
   ],
   "source": [
    "eval_"
   ],
   "metadata": {
    "collapsed": false,
    "ExecuteTime": {
     "end_time": "2023-05-25T17:55:57.351504905Z",
     "start_time": "2023-05-25T17:55:57.345363826Z"
    }
   }
  },
  {
   "cell_type": "code",
   "execution_count": 66,
   "outputs": [
    {
     "name": "stdout",
     "output_type": "stream",
     "text": [
      "Evaluating... \n",
      "Computing cosine similarity... \n",
      "Inspecting similarities... \n"
     ]
    }
   ],
   "source": [
    "eval_.evaluate()"
   ],
   "metadata": {
    "collapsed": false,
    "ExecuteTime": {
     "end_time": "2023-05-25T17:56:22.746163300Z",
     "start_time": "2023-05-25T17:55:57.352684391Z"
    }
   }
  },
  {
   "cell_type": "markdown",
   "source": [
    "Total running execution time:"
   ],
   "metadata": {
    "collapsed": false
   }
  },
  {
   "cell_type": "code",
   "execution_count": 67,
   "outputs": [
    {
     "data": {
      "text/plain": "25.179616829999986"
     },
     "execution_count": 67,
     "metadata": {},
     "output_type": "execute_result"
    }
   ],
   "source": [
    "eval_.execution_time"
   ],
   "metadata": {
    "collapsed": false,
    "ExecuteTime": {
     "end_time": "2023-05-25T17:56:22.918111105Z",
     "start_time": "2023-05-25T17:56:22.792784345Z"
    }
   }
  },
  {
   "cell_type": "markdown",
   "source": [
    "Pairs found:"
   ],
   "metadata": {
    "collapsed": false
   }
  },
  {
   "cell_type": "code",
   "execution_count": 68,
   "outputs": [
    {
     "data": {
      "text/plain": "124"
     },
     "execution_count": 68,
     "metadata": {},
     "output_type": "execute_result"
    }
   ],
   "source": [
    "len(eval_.pairs)"
   ],
   "metadata": {
    "collapsed": false,
    "ExecuteTime": {
     "end_time": "2023-05-25T17:56:22.919165790Z",
     "start_time": "2023-05-25T17:56:22.897355364Z"
    }
   }
  },
  {
   "cell_type": "code",
   "execution_count": 69,
   "outputs": [
    {
     "name": "stdout",
     "output_type": "stream",
     "text": [
      "Saving evaluation results. \n"
     ]
    }
   ],
   "source": [
    "eval_.save()"
   ],
   "metadata": {
    "collapsed": false,
    "ExecuteTime": {
     "end_time": "2023-05-25T17:56:23.089531834Z",
     "start_time": "2023-05-25T17:56:22.907129506Z"
    }
   }
  },
  {
   "cell_type": "markdown",
   "source": [
    "Content comparison:"
   ],
   "metadata": {
    "collapsed": false
   }
  },
  {
   "cell_type": "code",
   "execution_count": 70,
   "outputs": [
    {
     "name": "stdout",
     "output_type": "stream",
     "text": [
      "Document xu3gfwpu: \n",
      "Proteases are ubiquitous in biosystems where they have diverse roles in the biochemical, physiological, and regulatory aspects of cells and organisms. Proteases represent the largest segment of the industrial enzyme market where they are used in detergents, in food processing, in leather and fabric upgrading, as catalysts in organic synthesis, and as therapeutics. Microbial protease overproducing strains have been developed by conventional screening, mutation/selection strategies and genetic engineering, and wholly new enzymes, with altered specificity or stability, have been designed through techniques such as site-directed mutagenesis and directed evolution. Complete sequencing of the genomes of key Bacillus and Aspergillus workhorse extracellular enzyme producers and other species of interest has contributed to enhanced production yields of indigenous proteases as well as to production of heterologous proteases. With annual protease sales of about $1.5–1.8 billion, proteases account for 60% of the total enzyme market. Detergent proteases, with an annual market of about $1 billion account for the largest protease application segment. Subtilisin Carlsberg and related subtilisin serine proteases represent the first generation of detergent proteases with pH optima of 9–10. The second generation, having higher pH optima (10–11) and greater temperature stability, is produced from alkalophilic strains including Bacillusclausii and B. halodurans. The third generation consists of detergent proteases whose active sites and/or stability have been modified by protein engineering. The principal applications of proteases in food processing are in brewing, cereal mashing, and beer haze clarification, in the coagulation step in cheese making, in altering the viscoelastic properties of dough in baking and in production of protein hydrolysates. In organic synthesis, proteases have application in synthesis and/or hydrolysis of peptide, ester, and amide bonds involving carboxylic acids and are effective tools for resolution of pairs of enantiomers. Proteases have applications in nutrition as digestive aids and in therapy in thrombosis and cancer treatment. Hyperproteolytic endogenous activity may play significant roles in abnormal physiological functioning as well as in microbial and viral pathophysiological conditions and this has created substantial momentum for development of protease inhibitors as therapeutic agents against disease-causing proteases.\n",
      "\n",
      "Document nbh9qw5h: \n",
      "Proteases are ubiquitous in biosystems where they have diverse roles in the biochemical, physiological, and regulatory aspects of cells and organisms. Proteases represent the largest segment of the industrial enzyme market where they are used in detergents, in food processing, in leather and fabric upgrading, as catalysts in organic synthesis, and as therapeutics. Microbial protease overproducing strains have been developed by conventional screening, mutation/selection strategies and genetic engineering, and wholly new enzymes, with altered specificity or stability have been designed through techniques such as site-directed mutagenesis and directed evolution. Complete sequencing of the genomes of key Bacillus and Aspergillus workhorse extracellular enzyme producers and other species of interest has contributed to enhanced production yields of indigenous proteases as well as to production of heterologous proteases. With annual protease sales of about $1.5–1.8 billion, proteases account for 60% of the total enzyme market. Detergent proteases, with an annual market of about $1 billion account for the largest protease application segment. Subtilisin Carlsberg and related subtilisin serine proteases represent the first generation of detergent proteases with pH optima of 9–10. The second generation, having higher pH optima (10–11) and greater temperature stability, is produced from alkalophilic strains including Bacillus clausii and B. halodurans. The third generation consists of detergent proteases whose active sites and/or stability have been modified by protein engineering. The principal applications of proteases in food processing are in brewing, cereal mashing, and beer haze clarification, in the coagulation step in cheese making, in altering the viscoelastic properties of dough in baking and in production of protein hydrolysates. In organic synthesis, proteases have application in synthesis and/or hydrolysis of peptide, ester, and amide bonds involving carboxylic acids and are effective tools for resolution of pairs of enantiomers. Proteases have applications in nutrition as digestive aids and in therapy in thrombosis and cancer treatment. Hyperproteolytic endogenous activity may play significant roles in abnormal physiological functioning as well as in microbial and viral pathophysiological conditions and this has created substantial momentum for development of protease inhibitors as therapeutic agents against disease-causing proteases.\n",
      "\n"
     ]
    }
   ],
   "source": [
    "docs.content_comparison(ids=eval_.pairs[0])"
   ],
   "metadata": {
    "collapsed": false,
    "ExecuteTime": {
     "end_time": "2023-05-25T17:56:23.118288187Z",
     "start_time": "2023-05-25T17:56:22.986604665Z"
    }
   }
  },
  {
   "cell_type": "code",
   "execution_count": 71,
   "outputs": [
    {
     "name": "stdout",
     "output_type": "stream",
     "text": [
      "Document hha2sctb: \n",
      "Koorts wordt bij niet-immuungecompromitteerde volwassenen in de eerste lijn zonder recent verblijf in het buitenland meestal veroorzaakt door een luchtweginfectie. Bij ouderen vormen urineweginfecties een relatief frequente oorzaak van koorts. Bij ontbreken van richtinggevende voorgeschiedenis, klachten of verschijnselen volstaat men in eerste instantie met lichamelijk onderzoek van KNO-gebied en longen. Bij negatieve bevindingen volgt urineonderzoek. Wanneer geen afwijkingen gevonden worden, gaat men uit van een onschuldige virale oorzaak. Bij een ernstig zieke indruk of verminderd bewustzijn is het lichamelijk onderzoek allereerst gericht op eventuele stoornissen in de vitale functies, omdat deze onmiddellijke therapeutische implicaties hebben. Als de koorts een week aanhoudt of eerder bij verandering van het beeld, dient een uitgebreide anamnese en algemeen lichamelijk onderzoek plaats te vinden om diagnostische aanknopingspunten op te sporen. Ook kan de arts dan aanvullend onderzoek laten verrichten: in eerste instantie bloed-, urine- en fecesonderzoek en een X-thorax, eventueel gevolgd door X-sinussen en een mantoux-reactie. Medicatie wordt zo veel mogelijk gestaakt om een allergie aan te tonen of uit te sluiten. Na enkele dagen herhaalt men anamnese en lichamelijk onderzoek. Twee weken onbegrepen koorts is reden voor verdere (poli)klinische evaluatie. Concrete aanwijzingen op grond van steeds herhaalde anamnese en lichamelijk onderzoek zijn richtinggevend voor de inzet van complex aanvullend onderzoek. Dit bestaat onder meer uit bloedkweken, uitgebreider bloedonderzoek, leverbiopsie, beenmergpunctie en CT-scan buik en thorax. Bij patiënten ouder dan 55 jaar met koorts en een verhoogde bezinking is een biopsie van de arteria temporalis zinvol. ELEKTRONISCH AANVULLEND MATERIAAL: De online versie van dit hoofdstuk (doi:10.1007/978-90-368-1274-0_5) bevat aanvullend materiaal, dat beschikbaar is voor geautoriseerde gebruikers.\n",
      "\n",
      "Document 3i7wgrck: \n",
      "Koorts wordt bij niet-immuungecompromitteerde volwassenen in de eerste lijn zonder recent verblijf in het buitenland meestal veroorzaakt door een luchtweginfectie. Bij ouderen vormen urineweginfecties een relatief frequente oorzaak van koorts. Bij ontbreken van richtinggevende voorgeschiedenis, klachten of verschijnselen volstaat men in eerste instantie met lichamelijk onderzoek van KNO-gebied en longen. Bij negatieve bevindingen volgt urineonderzoek. Wanneer geen afwijkingen gevonden worden, gaat men uit van een onschuldige virale oorzaak. Bij een ernstig zieke indruk of verminderd bewustzijn is het lichamelijk onderzoek allereerst gericht op eventuele stoornissen in de vitale functies, omdat deze onmiddellijke therapeutische implicaties hebben. Als de koorts een week aanhoudt of eerder bij verandering van het beeld, dient een uitgebreide anamnese en algemeen lichamelijk onderzoek plaats te vinden om diagnostische aanknopingspunten op te sporen. Ook kan de arts dan aanvullend onderzoek laten verrichten: in eerste instantie bloed-, urine- en fecesonderzoek en een X-thorax, eventueel gevolgd door X-sinussen en een mantouxreactie. Medicatie wordt zoveel mogelijk gestaakt om een allergie aan te tonen of uit te sluiten. Na enkele dagen herhaalt men anamnese en lichamelijk onderzoek. Twee weken onbegrepen koorts is reden voor verdere (poli)klinische evaluatie. Concrete aanwijzingen op grond van steeds herhaalde anamnese en lichamelijk onderzoek zijn richtinggevend voor de inzet van complex aanvullend onderzoek. Dit bestaat onder meer uit bloedkweken, uitgebreider bloedonderzoek, leverbiopsie, beenmergpunctie en CT-scan buik en thorax. Bij patiënten ouder dan 55 jaar met koorts en een verhoogde bezinking is een biopsie van de arteria temporalis zinvol.\n",
      "\n"
     ]
    }
   ],
   "source": [
    "docs.content_comparison(ids=eval_.pairs[1])"
   ],
   "metadata": {
    "collapsed": false,
    "ExecuteTime": {
     "end_time": "2023-05-25T17:56:23.119550662Z",
     "start_time": "2023-05-25T17:56:22.988076755Z"
    }
   }
  },
  {
   "cell_type": "code",
   "execution_count": 72,
   "outputs": [
    {
     "name": "stdout",
     "output_type": "stream",
     "text": [
      "Document ntbuwf8i: \n",
      "BACKGROUND: Acute respiratory illnesses are the leading cause of death from infectious diseases around the world, and occasional outbreaks of particularly virulent strains are can be public health disasters. Recently, a large outbreak of fatal Middle East respiratory syndrome-coronavirus (MERS-CoV) occurred following a single patient exposure in the emergency department (ED) of the Samsung Medical Center, a tertiary-care hospital in South Korea, which resulted in significant public health and economic burden. After this outbreak, a febrile respiratory infectious disease unit (FRIDU) with a negative pressure ventilation system was constructed outside the emergency department (ED) in 2015, to screen for patients with contagious diseases requiring isolation. METHODS: This is a retrospective cohort study of patients who visited the ED with febrile illness between August 2015 and July 2016. Ultimately, 1562 patients who were hospitalized after FRIDU screening were analyzed. The level of isolation recommended during their screening at the FRIDU was compared with the level deemed appropriate given their final diagnosis. RESULTS: Of the 1562 patients screened at the FRIDU, 198 (13%) were isolated, 194 (12%) were reverse isolated, and 1170 (75%) were not isolated. While hospitalized, 97 patients (6%) were confirmed to have a contagious disease requiring isolation, such as tuberculosis; 207 patients (13%) were confirmed to be immunocompromised and to require reverse isolation, mainly due to neutropenia; and the remaining 1258 patients (81%) did not require isolation. The correlation coefficient for isolation consistency was 0.565 (P < 0.001). No serious nosocomial outbreaks of contagious diseases occurred. During FRIDU screening, 114 patients were admitted to the resuscitation zone due to clinical instability, and three of these patients died. CONCLUSION: The initial isolation levels resulting from FRIDU screening were moderately well correlated with the isolation levels required by the final diagnosis, demonstrating the utility of pre-hospitalization screening units. However, the risks of deterioration during the screening process remain challenges. DISCLOSURES: All authors: No reported disclosures.\n",
      "\n",
      "Document 0q2ky9gd: \n",
      "A febrile respiratory infectious disease unit (FRIDU) with a negative pressure ventilation system was constructed outside the emergency department (ED) of the Samsung Medical Center in 2015, to screen for patients with contagious diseases requiring isolation. We evaluated the utility of the FRIDU during 1 year of operation. We analyzed 1,562 patients who were hospitalized after FRIDU screening between August 2015 and July 2016. The level of isolation recommended during their screening at the FRIDU was compared with the level deemed appropriate given their final diagnosis. Of the 1,562 patients screened at the FRIDU, 198 (13%) were isolated, 194 (12%) were reverse isolated, and 1,170 (75%) were not isolated. While hospitalized, 97 patients (6%) were confirmed to have a contagious disease requiring isolation, such as tuberculosis; 207 patients (13%) were confirmed to be immunocompromised and to require reverse isolation, mainly due to neutropenia; and the remaining 1,258 patients (81%) did not require isolation. The correlation coefficient for isolation consistency was 0.565 (P < 0.001). The sensitivity and negative predictive value of FRIDU screening for diagnosing contagious disease requiring isolation are 76% and 98%, respectively. No serious nosocomial outbreaks of contagious diseases occurred. During FRIDU screening, 114 patients were admitted to the resuscitation zone due to clinical instability, and three of these patients died. The initial isolation levels resulting from FRIDU screening were moderately well correlated with the isolation levels required by the final diagnosis, demonstrating the utility of pre-hospitalization screening units. However, the risks of deterioration during the screening process remain challenges.\n",
      "\n"
     ]
    }
   ],
   "source": [
    "docs.content_comparison(ids=eval_.pairs[2])"
   ],
   "metadata": {
    "collapsed": false,
    "ExecuteTime": {
     "end_time": "2023-05-25T17:56:23.121579565Z",
     "start_time": "2023-05-25T17:56:22.989803249Z"
    }
   }
  },
  {
   "cell_type": "markdown",
   "source": [
    "### Dimensionality Heuristic"
   ],
   "metadata": {
    "collapsed": false
   }
  },
  {
   "cell_type": "markdown",
   "source": [
    "We perform an heuristic by reducing the dimensionality of the vectors with a given approximation error"
   ],
   "metadata": {
    "collapsed": false
   }
  },
  {
   "cell_type": "code",
   "execution_count": 73,
   "outputs": [],
   "source": [
    "ERROR = 0.3"
   ],
   "metadata": {
    "collapsed": false,
    "ExecuteTime": {
     "end_time": "2023-05-25T17:56:23.121992654Z",
     "start_time": "2023-05-25T17:56:23.029719842Z"
    }
   }
  },
  {
   "cell_type": "code",
   "execution_count": 74,
   "outputs": [
    {
     "name": "stdout",
     "output_type": "stream",
     "text": [
      "Loading vectors... \n",
      "Loading mapping... \n",
      "Loading inverse mapping... \n"
     ]
    }
   ],
   "source": [
    "from assignment3.model.evaluation import DimensionalityHeuristicEvaluation\n",
    "dim_heuristic = DimensionalityHeuristicEvaluation(data_name=DATA_NAME, threshold=SIMILARITY, eps=ERROR)"
   ],
   "metadata": {
    "collapsed": false,
    "ExecuteTime": {
     "end_time": "2023-05-25T17:56:23.368758514Z",
     "start_time": "2023-05-25T17:56:23.031211376Z"
    }
   }
  },
  {
   "cell_type": "code",
   "execution_count": 75,
   "outputs": [
    {
     "data": {
      "text/plain": "DimensionalityHeuristicEvaluation - large (13641 docs, 0.9 similarity)  ['dim_reduction':  0.3 approx error] "
     },
     "execution_count": 75,
     "metadata": {},
     "output_type": "execute_result"
    }
   ],
   "source": [
    "dim_heuristic"
   ],
   "metadata": {
    "collapsed": false,
    "ExecuteTime": {
     "end_time": "2023-05-25T17:56:23.397197849Z",
     "start_time": "2023-05-25T17:56:23.285502990Z"
    }
   }
  },
  {
   "cell_type": "code",
   "execution_count": 76,
   "outputs": [
    {
     "name": "stdout",
     "output_type": "stream",
     "text": [
      "Performing dimensionality reduction... \n",
      "Computing similarities... \n",
      "Inspecting similarities... \n"
     ]
    }
   ],
   "source": [
    "dim_heuristic.evaluate()"
   ],
   "metadata": {
    "collapsed": false,
    "ExecuteTime": {
     "end_time": "2023-05-25T17:56:39.618047545Z",
     "start_time": "2023-05-25T17:56:23.287545891Z"
    }
   }
  },
  {
   "cell_type": "markdown",
   "source": [
    "Total running execution time:"
   ],
   "metadata": {
    "collapsed": false
   }
  },
  {
   "cell_type": "code",
   "execution_count": 77,
   "outputs": [
    {
     "data": {
      "text/plain": "15.10281809899999"
     },
     "execution_count": 77,
     "metadata": {},
     "output_type": "execute_result"
    }
   ],
   "source": [
    "dim_heuristic.execution_time"
   ],
   "metadata": {
    "collapsed": false,
    "ExecuteTime": {
     "end_time": "2023-05-25T17:56:39.686115015Z",
     "start_time": "2023-05-25T17:56:39.661096620Z"
    }
   }
  },
  {
   "cell_type": "markdown",
   "source": [
    "Pairs found:"
   ],
   "metadata": {
    "collapsed": false
   }
  },
  {
   "cell_type": "code",
   "execution_count": 78,
   "outputs": [
    {
     "data": {
      "text/plain": "123"
     },
     "execution_count": 78,
     "metadata": {},
     "output_type": "execute_result"
    }
   ],
   "source": [
    "len(dim_heuristic.pairs)"
   ],
   "metadata": {
    "collapsed": false,
    "ExecuteTime": {
     "end_time": "2023-05-25T17:56:39.687166709Z",
     "start_time": "2023-05-25T17:56:39.664831195Z"
    }
   }
  },
  {
   "cell_type": "markdown",
   "source": [
    "Score with respect of the exact solution:"
   ],
   "metadata": {
    "collapsed": false
   }
  },
  {
   "cell_type": "code",
   "execution_count": 79,
   "outputs": [
    {
     "data": {
      "text/plain": "0.9603174603174603"
     },
     "execution_count": 79,
     "metadata": {},
     "output_type": "execute_result"
    }
   ],
   "source": [
    "dim_heuristic.score"
   ],
   "metadata": {
    "collapsed": false,
    "ExecuteTime": {
     "end_time": "2023-05-25T17:56:39.688090228Z",
     "start_time": "2023-05-25T17:56:39.666107241Z"
    }
   }
  },
  {
   "cell_type": "code",
   "execution_count": 80,
   "outputs": [
    {
     "name": "stdout",
     "output_type": "stream",
     "text": [
      "Saving evaluation results. \n"
     ]
    }
   ],
   "source": [
    "dim_heuristic.save()"
   ],
   "metadata": {
    "collapsed": false,
    "ExecuteTime": {
     "end_time": "2023-05-25T17:56:39.689246982Z",
     "start_time": "2023-05-25T17:56:39.667641304Z"
    }
   }
  },
  {
   "cell_type": "markdown",
   "source": [
    "### Doc-terms heuristic"
   ],
   "metadata": {
    "collapsed": false
   }
  },
  {
   "cell_type": "markdown",
   "source": [
    "We perform an heuristic by skipping computation over documents with a too high length mismatch\n"
   ],
   "metadata": {
    "collapsed": false
   }
  },
  {
   "cell_type": "code",
   "execution_count": 81,
   "outputs": [],
   "source": [
    "K = 1.1"
   ],
   "metadata": {
    "collapsed": false,
    "ExecuteTime": {
     "end_time": "2023-05-25T17:56:39.819915470Z",
     "start_time": "2023-05-25T17:56:39.677786009Z"
    }
   }
  },
  {
   "cell_type": "code",
   "execution_count": 82,
   "outputs": [
    {
     "name": "stdout",
     "output_type": "stream",
     "text": [
      "Loading vectors... \n",
      "Loading mapping... \n",
      "Loading inverse mapping... \n"
     ]
    }
   ],
   "source": [
    "from assignment3.model.evaluation import DocTermsHeuristicEvaluation\n",
    "docsize_heuristic = DocTermsHeuristicEvaluation(data_name=DATA_NAME, threshold=SIMILARITY, k=K)"
   ],
   "metadata": {
    "collapsed": false,
    "ExecuteTime": {
     "end_time": "2023-05-25T17:56:40.401585214Z",
     "start_time": "2023-05-25T17:56:39.721061531Z"
    }
   }
  },
  {
   "cell_type": "code",
   "execution_count": 83,
   "outputs": [
    {
     "data": {
      "text/plain": "DocSizeHeuristicEvaluation - large (13641 docs, 0.9 similarity)  ['docs_size': 1.1 mult factor]"
     },
     "execution_count": 83,
     "metadata": {},
     "output_type": "execute_result"
    }
   ],
   "source": [
    "docsize_heuristic"
   ],
   "metadata": {
    "collapsed": false,
    "ExecuteTime": {
     "end_time": "2023-05-25T17:56:40.525688550Z",
     "start_time": "2023-05-25T17:56:40.402783263Z"
    }
   }
  },
  {
   "cell_type": "code",
   "execution_count": 84,
   "outputs": [
    {
     "name": "stdout",
     "output_type": "stream",
     "text": [
      "Evaluating... \n",
      "Computing cosine similarity... \n",
      "Inspecting similarities... \n"
     ]
    }
   ],
   "source": [
    "docsize_heuristic.evaluate()"
   ],
   "metadata": {
    "collapsed": false,
    "ExecuteTime": {
     "end_time": "2023-05-25T17:56:58.862993235Z",
     "start_time": "2023-05-25T17:56:40.412377419Z"
    }
   }
  },
  {
   "cell_type": "markdown",
   "source": [
    "Total running execution time:"
   ],
   "metadata": {
    "collapsed": false
   }
  },
  {
   "cell_type": "code",
   "execution_count": 85,
   "outputs": [
    {
     "data": {
      "text/plain": "18.337137688999974"
     },
     "execution_count": 85,
     "metadata": {},
     "output_type": "execute_result"
    }
   ],
   "source": [
    "docsize_heuristic.execution_time"
   ],
   "metadata": {
    "collapsed": false,
    "ExecuteTime": {
     "end_time": "2023-05-25T17:56:58.875275150Z",
     "start_time": "2023-05-25T17:56:58.867512716Z"
    }
   }
  },
  {
   "cell_type": "markdown",
   "source": [
    "Pairs found:"
   ],
   "metadata": {
    "collapsed": false
   }
  },
  {
   "cell_type": "code",
   "execution_count": 86,
   "outputs": [
    {
     "data": {
      "text/plain": "120"
     },
     "execution_count": 86,
     "metadata": {},
     "output_type": "execute_result"
    }
   ],
   "source": [
    "len(docsize_heuristic.pairs)"
   ],
   "metadata": {
    "collapsed": false,
    "ExecuteTime": {
     "end_time": "2023-05-25T17:56:58.978218738Z",
     "start_time": "2023-05-25T17:56:58.876350285Z"
    }
   }
  },
  {
   "cell_type": "markdown",
   "source": [
    "Score with respect of the exact solution:"
   ],
   "metadata": {
    "collapsed": false
   }
  },
  {
   "cell_type": "code",
   "execution_count": 87,
   "outputs": [
    {
     "data": {
      "text/plain": "0.967741935483871"
     },
     "execution_count": 87,
     "metadata": {},
     "output_type": "execute_result"
    }
   ],
   "source": [
    "docsize_heuristic.score"
   ],
   "metadata": {
    "collapsed": false,
    "ExecuteTime": {
     "end_time": "2023-05-25T17:56:58.978811937Z",
     "start_time": "2023-05-25T17:56:58.895669840Z"
    }
   }
  },
  {
   "cell_type": "code",
   "execution_count": 88,
   "outputs": [
    {
     "name": "stdout",
     "output_type": "stream",
     "text": [
      "Saving evaluation results. \n"
     ]
    }
   ],
   "source": [
    "docsize_heuristic.save()"
   ],
   "metadata": {
    "collapsed": false,
    "ExecuteTime": {
     "end_time": "2023-05-25T17:56:59.000337895Z",
     "start_time": "2023-05-25T17:56:58.912934644Z"
    }
   }
  }
 ],
 "metadata": {
  "kernelspec": {
   "display_name": "Python 3",
   "language": "python",
   "name": "python3"
  },
  "language_info": {
   "codemirror_mode": {
    "name": "ipython",
    "version": 2
   },
   "file_extension": ".py",
   "mimetype": "text/x-python",
   "name": "python",
   "nbconvert_exporter": "python",
   "pygments_lexer": "ipython2",
   "version": "2.7.6"
  }
 },
 "nbformat": 4,
 "nbformat_minor": 0
}
