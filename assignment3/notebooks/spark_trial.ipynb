{
 "cells": [
  {
   "cell_type": "markdown",
   "source": [
    "## Adding system paths"
   ],
   "metadata": {
    "collapsed": false
   }
  },
  {
   "cell_type": "code",
   "execution_count": 1,
   "outputs": [],
   "source": [
    "import sys\n",
    "sys.path.append('/home/sebaq/Documents/GitHub/LWMD_assignments')"
   ],
   "metadata": {
    "collapsed": false,
    "ExecuteTime": {
     "end_time": "2023-05-15T20:06:10.165056378Z",
     "start_time": "2023-05-15T20:06:10.164032432Z"
    }
   }
  },
  {
   "cell_type": "markdown",
   "source": [
    "## Loading document info"
   ],
   "metadata": {
    "collapsed": false
   }
  },
  {
   "cell_type": "code",
   "execution_count": 2,
   "outputs": [],
   "source": [
    "from assignment3.model.documents import DocumentVectors"
   ],
   "metadata": {
    "collapsed": false,
    "ExecuteTime": {
     "end_time": "2023-05-15T20:06:12.188515563Z",
     "start_time": "2023-05-15T20:06:10.958642181Z"
    }
   }
  },
  {
   "cell_type": "code",
   "execution_count": 3,
   "outputs": [
    {
     "name": "stdout",
     "output_type": "stream",
     "text": [
      "Loading vectors. \n",
      "Loading mapping. \n",
      "Loading inverse mapping. \n"
     ]
    }
   ],
   "source": [
    "docs_vet = DocumentVectors(data_name='trec-covid-small')"
   ],
   "metadata": {
    "collapsed": false,
    "ExecuteTime": {
     "end_time": "2023-05-15T20:06:12.226850269Z",
     "start_time": "2023-05-15T20:06:12.191210370Z"
    }
   }
  },
  {
   "cell_type": "code",
   "execution_count": 4,
   "outputs": [
    {
     "data": {
      "text/plain": "trec-covid-small Vector Documents [1438]"
     },
     "execution_count": 4,
     "metadata": {},
     "output_type": "execute_result"
    }
   ],
   "source": [
    "docs_vet"
   ],
   "metadata": {
    "collapsed": false,
    "ExecuteTime": {
     "end_time": "2023-05-15T20:06:12.340198975Z",
     "start_time": "2023-05-15T20:06:12.297901362Z"
    }
   }
  },
  {
   "cell_type": "code",
   "execution_count": 5,
   "outputs": [],
   "source": [
    "docs_info = docs_vet.documents_info"
   ],
   "metadata": {
    "collapsed": false,
    "ExecuteTime": {
     "end_time": "2023-05-15T20:06:13.826968227Z",
     "start_time": "2023-05-15T20:06:12.946701852Z"
    }
   }
  },
  {
   "cell_type": "markdown",
   "source": [
    "## Spark"
   ],
   "metadata": {
    "collapsed": false
   }
  },
  {
   "cell_type": "code",
   "execution_count": 6,
   "outputs": [],
   "source": [
    "rdd = sc.parallelize(docs_info)"
   ],
   "metadata": {
    "collapsed": false,
    "ExecuteTime": {
     "end_time": "2023-05-15T20:06:17.677916590Z",
     "start_time": "2023-05-15T20:06:17.185584869Z"
    }
   }
  },
  {
   "cell_type": "code",
   "execution_count": 8,
   "outputs": [],
   "source": [
    "def document_map(doc_info: tuple[str, list[tuple[int, float]]]) -> list[tuple[int, tuple[str, list[tuple[int, float]]]]]:\n",
    "    \"\"\"\n",
    "    Mapping function\n",
    "    :param doc_info: document information as a pair (doc-id ; list(term-id, value)),\n",
    "        where the second value of the pair represent entries of a csr vector\n",
    "    :return: list of key-value pair (term-id : (doc-id ; list(term-id, value))) for each term appearing in the document\n",
    "    \"\"\"\n",
    "\n",
    "    doc_id, sparse_entries = doc_info\n",
    "\n",
    "    return [\n",
    "        (term_id, (doc_id, sparse_entries))\n",
    "        for term_id, value in sparse_entries\n",
    "    ]"
   ],
   "metadata": {
    "collapsed": false,
    "ExecuteTime": {
     "end_time": "2023-05-15T20:06:21.364062255Z",
     "start_time": "2023-05-15T20:06:21.357895715Z"
    }
   }
  },
  {
   "cell_type": "code",
   "execution_count": 12,
   "outputs": [],
   "source": [
    "mapper = rdd.map(document_map)"
   ],
   "metadata": {
    "collapsed": false,
    "ExecuteTime": {
     "end_time": "2023-05-15T20:06:43.855359553Z",
     "start_time": "2023-05-15T20:06:43.801732006Z"
    }
   }
  },
  {
   "cell_type": "code",
   "execution_count": 13,
   "outputs": [
    {
     "name": "stderr",
     "output_type": "stream",
     "text": [
      "                                                                                \r"
     ]
    }
   ],
   "source": [
    "%%time\n",
    "mapper.collect()"
   ],
   "metadata": {
    "collapsed": false,
    "ExecuteTime": {
     "end_time": "2023-05-15T20:12:01.637113386Z",
     "start_time": "2023-05-15T20:06:45.194946913Z"
    }
   }
  }
 ],
 "metadata": {
  "kernelspec": {
   "display_name": "Python 3",
   "language": "python",
   "name": "python3"
  },
  "language_info": {
   "codemirror_mode": {
    "name": "ipython",
    "version": 2
   },
   "file_extension": ".py",
   "mimetype": "text/x-python",
   "name": "python",
   "nbconvert_exporter": "python",
   "pygments_lexer": "ipython2",
   "version": "2.7.6"
  }
 },
 "nbformat": 4,
 "nbformat_minor": 0
}
