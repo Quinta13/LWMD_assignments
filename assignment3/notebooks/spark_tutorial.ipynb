{
 "cells": [
  {
   "cell_type": "markdown",
   "metadata": {},
   "source": [
    "## Spark context"
   ]
  },
  {
   "cell_type": "code",
   "execution_count": 1,
   "metadata": {},
   "outputs": [
    {
     "data": {
      "text/html": [
       "\n",
       "        <div>\n",
       "            <p><b>SparkContext</b></p>\n",
       "\n",
       "            <p><a href=\"http://sebaq-PC.homenet.telecomitalia.it:4040\">Spark UI</a></p>\n",
       "\n",
       "            <dl>\n",
       "              <dt>Version</dt>\n",
       "                <dd><code>v3.4.0</code></dd>\n",
       "              <dt>Master</dt>\n",
       "                <dd><code>local[*]</code></dd>\n",
       "              <dt>AppName</dt>\n",
       "                <dd><code>PySparkShell</code></dd>\n",
       "            </dl>\n",
       "        </div>\n",
       "        "
      ],
      "text/plain": [
       "<SparkContext master=local[*] appName=PySparkShell>"
      ]
     },
     "execution_count": 1,
     "metadata": {},
     "output_type": "execute_result"
    }
   ],
   "source": [
    "sc"
   ]
  },
  {
   "cell_type": "markdown",
   "metadata": {},
   "source": [
    "## Init"
   ]
  },
  {
   "cell_type": "code",
   "execution_count": 2,
   "metadata": {},
   "outputs": [
    {
     "data": {
      "text/plain": [
       "ParallelCollectionRDD[0] at readRDDFromFile at PythonRDD.scala:287"
      ]
     },
     "execution_count": 2,
     "metadata": {},
     "output_type": "execute_result"
    }
   ],
   "source": [
    "data = list(range(20))\n",
    "myrdd = sc.parallelize(data)\n",
    "myrdd"
   ]
  },
  {
   "cell_type": "markdown",
   "metadata": {},
   "source": [
    "## Transformations"
   ]
  },
  {
   "cell_type": "code",
   "execution_count": 3,
   "metadata": {},
   "outputs": [],
   "source": [
    "sq = lambda x: x**2"
   ]
  },
  {
   "cell_type": "code",
   "execution_count": 4,
   "metadata": {},
   "outputs": [
    {
     "data": {
      "text/plain": [
       "4"
      ]
     },
     "execution_count": 4,
     "metadata": {},
     "output_type": "execute_result"
    }
   ],
   "source": [
    "sq(2)"
   ]
  },
  {
   "cell_type": "code",
   "execution_count": 5,
   "metadata": {},
   "outputs": [
    {
     "data": {
      "text/plain": [
       "PythonRDD[1] at RDD at PythonRDD.scala:53"
      ]
     },
     "execution_count": 5,
     "metadata": {},
     "output_type": "execute_result"
    }
   ],
   "source": [
    "squared = myrdd.map(sq)\n",
    "squared"
   ]
  },
  {
   "cell_type": "code",
   "execution_count": 7,
   "metadata": {},
   "outputs": [
    {
     "data": {
      "text/plain": [
       "[0,\n",
       " 1,\n",
       " 4,\n",
       " 9,\n",
       " 16,\n",
       " 25,\n",
       " 36,\n",
       " 49,\n",
       " 64,\n",
       " 81,\n",
       " 100,\n",
       " 121,\n",
       " 144,\n",
       " 169,\n",
       " 196,\n",
       " 225,\n",
       " 256,\n",
       " 289,\n",
       " 324,\n",
       " 361]"
      ]
     },
     "execution_count": 7,
     "metadata": {},
     "output_type": "execute_result"
    }
   ],
   "source": [
    "squared.collect()"
   ]
  },
  {
   "cell_type": "markdown",
   "metadata": {},
   "source": [
    "## FlatMap"
   ]
  },
  {
   "cell_type": "code",
   "execution_count": 8,
   "metadata": {},
   "outputs": [
    {
     "data": {
      "text/plain": [
       "[(0, 0),\n",
       " (1, 1),\n",
       " (4, 8),\n",
       " (9, 27),\n",
       " (16, 64),\n",
       " (25, 125),\n",
       " (36, 216),\n",
       " (49, 343),\n",
       " (64, 512),\n",
       " (81, 729),\n",
       " (100, 1000),\n",
       " (121, 1331),\n",
       " (144, 1728),\n",
       " (169, 2197),\n",
       " (196, 2744),\n",
       " (225, 3375),\n",
       " (256, 4096),\n",
       " (289, 4913),\n",
       " (324, 5832),\n",
       " (361, 6859)]"
      ]
     },
     "execution_count": 8,
     "metadata": {},
     "output_type": "execute_result"
    }
   ],
   "source": [
    "withmap = myrdd.map(lambda x: (x * x, x * x * x))\n",
    "withmap.collect()"
   ]
  },
  {
   "cell_type": "code",
   "execution_count": 9,
   "metadata": {},
   "outputs": [
    {
     "data": {
      "text/plain": [
       "[0,\n",
       " 0,\n",
       " 1,\n",
       " 1,\n",
       " 4,\n",
       " 8,\n",
       " 9,\n",
       " 27,\n",
       " 16,\n",
       " 64,\n",
       " 25,\n",
       " 125,\n",
       " 36,\n",
       " 216,\n",
       " 49,\n",
       " 343,\n",
       " 64,\n",
       " 512,\n",
       " 81,\n",
       " 729,\n",
       " 100,\n",
       " 1000,\n",
       " 121,\n",
       " 1331,\n",
       " 144,\n",
       " 1728,\n",
       " 169,\n",
       " 2197,\n",
       " 196,\n",
       " 2744,\n",
       " 225,\n",
       " 3375,\n",
       " 256,\n",
       " 4096,\n",
       " 289,\n",
       " 4913,\n",
       " 324,\n",
       " 5832,\n",
       " 361,\n",
       " 6859]"
      ]
     },
     "execution_count": 9,
     "metadata": {},
     "output_type": "execute_result"
    }
   ],
   "source": [
    "withflatmap = myrdd.flatMap(lambda x: (x * x, x * x * x))\n",
    "withflatmap.collect()"
   ]
  },
  {
   "cell_type": "code",
   "execution_count": 10,
   "metadata": {},
   "outputs": [
    {
     "data": {
      "text/plain": [
       "['Nel',\n",
       " 'mezzo',\n",
       " 'del',\n",
       " 'cammin',\n",
       " 'di',\n",
       " 'nostra',\n",
       " 'vita',\n",
       " 'mi',\n",
       " 'ritrovai',\n",
       " 'per',\n",
       " 'una',\n",
       " 'selva',\n",
       " 'oscura',\n",
       " 'ché',\n",
       " 'la',\n",
       " 'diritta',\n",
       " 'via',\n",
       " 'era',\n",
       " 'smarrita.']"
      ]
     },
     "execution_count": 10,
     "metadata": {},
     "output_type": "execute_result"
    }
   ],
   "source": [
    "divina = [\n",
    "    \"Nel mezzo del cammin di nostra vita\",\n",
    "    \"mi ritrovai per una selva oscura\",\n",
    "    \"ché la diritta via era smarrita.\"\n",
    "]\n",
    "divinardd = sc.parallelize(divina)\n",
    "words = divinardd.flatMap(lambda x:x.split())\n",
    "words.collect()"
   ]
  },
  {
   "cell_type": "markdown",
   "metadata": {},
   "source": [
    "## Filter"
   ]
  },
  {
   "cell_type": "code",
   "execution_count": 11,
   "metadata": {},
   "outputs": [
    {
     "data": {
      "text/plain": [
       "[0, 2, 4, 6, 8, 10, 12, 14, 16, 18]"
      ]
     },
     "execution_count": 11,
     "metadata": {},
     "output_type": "execute_result"
    }
   ],
   "source": [
    "even = myrdd.filter(lambda x: x % 2 == 0)\n",
    "even.collect()"
   ]
  },
  {
   "cell_type": "markdown",
   "metadata": {},
   "source": [
    "## Sample"
   ]
  },
  {
   "cell_type": "code",
   "execution_count": 22,
   "metadata": {},
   "outputs": [
    {
     "data": {
      "text/plain": [
       "[6, 7, 8, 14, 19]"
      ]
     },
     "execution_count": 22,
     "metadata": {},
     "output_type": "execute_result"
    }
   ],
   "source": [
    "sample = myrdd.sample(False, 0.20)\n",
    "sample.collect()"
   ]
  },
  {
   "cell_type": "markdown",
   "metadata": {},
   "source": [
    "## Distinct"
   ]
  },
  {
   "cell_type": "code",
   "execution_count": 26,
   "metadata": {},
   "outputs": [
    {
     "data": {
      "text/plain": [
       "[4, 1, 2, 3]"
      ]
     },
     "execution_count": 26,
     "metadata": {},
     "output_type": "execute_result"
    }
   ],
   "source": [
    "distinct = sc.parallelize([1, 2, 2, 3, 3, 3, 4, 4, 4, 4]).distinct()\n",
    "distinct.collect()"
   ]
  },
  {
   "cell_type": "markdown",
   "metadata": {},
   "source": [
    "## Set operations"
   ]
  },
  {
   "cell_type": "code",
   "execution_count": 27,
   "metadata": {},
   "outputs": [
    {
     "name": "stderr",
     "output_type": "stream",
     "text": [
      "\r",
      "[Stage 25:====================================>                     (5 + 3) / 8]\r",
      "\r",
      "                                                                                \r"
     ]
    },
    {
     "data": {
      "text/plain": [
       "[0,\n",
       " 1,\n",
       " 2,\n",
       " 3,\n",
       " 4,\n",
       " 5,\n",
       " 6,\n",
       " 7,\n",
       " 8,\n",
       " 9,\n",
       " 10,\n",
       " 11,\n",
       " 12,\n",
       " 13,\n",
       " 14,\n",
       " 15,\n",
       " 16,\n",
       " 17,\n",
       " 18,\n",
       " 19,\n",
       " 10,\n",
       " 11,\n",
       " 12,\n",
       " 13,\n",
       " 14,\n",
       " 15,\n",
       " 16,\n",
       " 17,\n",
       " 18,\n",
       " 19,\n",
       " 20,\n",
       " 21,\n",
       " 22,\n",
       " 23,\n",
       " 24,\n",
       " 25,\n",
       " 26,\n",
       " 27,\n",
       " 28,\n",
       " 29]"
      ]
     },
     "execution_count": 27,
     "metadata": {},
     "output_type": "execute_result"
    }
   ],
   "source": [
    "myrdd2 = sc.parallelize(range(10, 30))\n",
    "union = myrdd.union(myrdd2)\n",
    "union.collect()"
   ]
  },
  {
   "cell_type": "code",
   "execution_count": 29,
   "metadata": {},
   "outputs": [
    {
     "name": "stderr",
     "output_type": "stream",
     "text": [
      "                                                                                \r"
     ]
    },
    {
     "data": {
      "text/plain": [
       "[16, 17, 10, 18, 11, 19, 12, 13, 14, 15]"
      ]
     },
     "execution_count": 29,
     "metadata": {},
     "output_type": "execute_result"
    }
   ],
   "source": [
    "intersection = myrdd.intersection(myrdd2)\n",
    "intersection.collect()"
   ]
  },
  {
   "cell_type": "code",
   "execution_count": 30,
   "metadata": {},
   "outputs": [
    {
     "name": "stderr",
     "output_type": "stream",
     "text": [
      "                                                                                \r"
     ]
    },
    {
     "data": {
      "text/plain": [
       "[0, 8, 1, 9, 2, 3, 4, 5, 6, 7]"
      ]
     },
     "execution_count": 30,
     "metadata": {},
     "output_type": "execute_result"
    }
   ],
   "source": [
    "subtract = myrdd.subtract(myrdd2)\n",
    "subtract.collect()"
   ]
  },
  {
   "cell_type": "code",
   "execution_count": 33,
   "metadata": {},
   "outputs": [
    {
     "name": "stderr",
     "output_type": "stream",
     "text": [
      "                                                                                \r"
     ]
    },
    {
     "data": {
      "text/plain": [
       "[(0, 10),\n",
       " (1, 10),\n",
       " (2, 10),\n",
       " (3, 10),\n",
       " (4, 10),\n",
       " (0, 11),\n",
       " (0, 12),\n",
       " (1, 11),\n",
       " (1, 12),\n",
       " (2, 11),\n",
       " (2, 12),\n",
       " (3, 11),\n",
       " (3, 12),\n",
       " (4, 11),\n",
       " (4, 12),\n",
       " (0, 13),\n",
       " (0, 14),\n",
       " (1, 13),\n",
       " (1, 14),\n",
       " (2, 13),\n",
       " (2, 14),\n",
       " (3, 13),\n",
       " (3, 14),\n",
       " (4, 13),\n",
       " (4, 14),\n",
       " (0, 15),\n",
       " (1, 15),\n",
       " (2, 15),\n",
       " (3, 15),\n",
       " (4, 15),\n",
       " (0, 16),\n",
       " (0, 17),\n",
       " (1, 16),\n",
       " (1, 17),\n",
       " (2, 16),\n",
       " (2, 17),\n",
       " (3, 16),\n",
       " (3, 17),\n",
       " (4, 16),\n",
       " (4, 17),\n",
       " (0, 18),\n",
       " (0, 19),\n",
       " (1, 18),\n",
       " (1, 19),\n",
       " (2, 18),\n",
       " (2, 19),\n",
       " (3, 18),\n",
       " (3, 19),\n",
       " (4, 18),\n",
       " (4, 19),\n",
       " (0, 20),\n",
       " (1, 20),\n",
       " (2, 20),\n",
       " (3, 20),\n",
       " (4, 20),\n",
       " (0, 21),\n",
       " (0, 22),\n",
       " (1, 21),\n",
       " (1, 22),\n",
       " (2, 21),\n",
       " (2, 22),\n",
       " (3, 21),\n",
       " (3, 22),\n",
       " (4, 21),\n",
       " (4, 22),\n",
       " (0, 23),\n",
       " (0, 24),\n",
       " (1, 23),\n",
       " (1, 24),\n",
       " (2, 23),\n",
       " (2, 24),\n",
       " (3, 23),\n",
       " (3, 24),\n",
       " (4, 23),\n",
       " (4, 24),\n",
       " (0, 25),\n",
       " (1, 25),\n",
       " (2, 25),\n",
       " (3, 25),\n",
       " (4, 25),\n",
       " (0, 26),\n",
       " (0, 27),\n",
       " (1, 26),\n",
       " (1, 27),\n",
       " (2, 26),\n",
       " (2, 27),\n",
       " (3, 26),\n",
       " (3, 27),\n",
       " (4, 26),\n",
       " (4, 27),\n",
       " (0, 28),\n",
       " (0, 29),\n",
       " (1, 28),\n",
       " (1, 29),\n",
       " (2, 28),\n",
       " (2, 29),\n",
       " (3, 28),\n",
       " (3, 29),\n",
       " (4, 28),\n",
       " (4, 29),\n",
       " (5, 10),\n",
       " (6, 10),\n",
       " (7, 10),\n",
       " (8, 10),\n",
       " (9, 10),\n",
       " (5, 11),\n",
       " (5, 12),\n",
       " (6, 11),\n",
       " (6, 12),\n",
       " (7, 11),\n",
       " (7, 12),\n",
       " (8, 11),\n",
       " (8, 12),\n",
       " (9, 11),\n",
       " (9, 12),\n",
       " (5, 13),\n",
       " (5, 14),\n",
       " (6, 13),\n",
       " (6, 14),\n",
       " (7, 13),\n",
       " (7, 14),\n",
       " (8, 13),\n",
       " (8, 14),\n",
       " (9, 13),\n",
       " (9, 14),\n",
       " (5, 15),\n",
       " (6, 15),\n",
       " (7, 15),\n",
       " (8, 15),\n",
       " (9, 15),\n",
       " (5, 16),\n",
       " (5, 17),\n",
       " (6, 16),\n",
       " (6, 17),\n",
       " (7, 16),\n",
       " (7, 17),\n",
       " (8, 16),\n",
       " (8, 17),\n",
       " (9, 16),\n",
       " (9, 17),\n",
       " (5, 18),\n",
       " (5, 19),\n",
       " (6, 18),\n",
       " (6, 19),\n",
       " (7, 18),\n",
       " (7, 19),\n",
       " (8, 18),\n",
       " (8, 19),\n",
       " (9, 18),\n",
       " (9, 19),\n",
       " (5, 20),\n",
       " (6, 20),\n",
       " (7, 20),\n",
       " (8, 20),\n",
       " (9, 20),\n",
       " (5, 21),\n",
       " (5, 22),\n",
       " (6, 21),\n",
       " (6, 22),\n",
       " (7, 21),\n",
       " (7, 22),\n",
       " (8, 21),\n",
       " (8, 22),\n",
       " (9, 21),\n",
       " (9, 22),\n",
       " (5, 23),\n",
       " (5, 24),\n",
       " (6, 23),\n",
       " (6, 24),\n",
       " (7, 23),\n",
       " (7, 24),\n",
       " (8, 23),\n",
       " (8, 24),\n",
       " (9, 23),\n",
       " (9, 24),\n",
       " (5, 25),\n",
       " (6, 25),\n",
       " (7, 25),\n",
       " (8, 25),\n",
       " (9, 25),\n",
       " (5, 26),\n",
       " (5, 27),\n",
       " (6, 26),\n",
       " (6, 27),\n",
       " (7, 26),\n",
       " (7, 27),\n",
       " (8, 26),\n",
       " (8, 27),\n",
       " (9, 26),\n",
       " (9, 27),\n",
       " (5, 28),\n",
       " (5, 29),\n",
       " (6, 28),\n",
       " (6, 29),\n",
       " (7, 28),\n",
       " (7, 29),\n",
       " (8, 28),\n",
       " (8, 29),\n",
       " (9, 28),\n",
       " (9, 29),\n",
       " (10, 10),\n",
       " (11, 10),\n",
       " (12, 10),\n",
       " (13, 10),\n",
       " (14, 10),\n",
       " (10, 11),\n",
       " (10, 12),\n",
       " (11, 11),\n",
       " (11, 12),\n",
       " (12, 11),\n",
       " (12, 12),\n",
       " (13, 11),\n",
       " (13, 12),\n",
       " (14, 11),\n",
       " (14, 12),\n",
       " (10, 13),\n",
       " (10, 14),\n",
       " (11, 13),\n",
       " (11, 14),\n",
       " (12, 13),\n",
       " (12, 14),\n",
       " (13, 13),\n",
       " (13, 14),\n",
       " (14, 13),\n",
       " (14, 14),\n",
       " (10, 15),\n",
       " (11, 15),\n",
       " (12, 15),\n",
       " (13, 15),\n",
       " (14, 15),\n",
       " (10, 16),\n",
       " (10, 17),\n",
       " (11, 16),\n",
       " (11, 17),\n",
       " (12, 16),\n",
       " (12, 17),\n",
       " (13, 16),\n",
       " (13, 17),\n",
       " (14, 16),\n",
       " (14, 17),\n",
       " (10, 18),\n",
       " (10, 19),\n",
       " (11, 18),\n",
       " (11, 19),\n",
       " (12, 18),\n",
       " (12, 19),\n",
       " (13, 18),\n",
       " (13, 19),\n",
       " (14, 18),\n",
       " (14, 19),\n",
       " (10, 20),\n",
       " (11, 20),\n",
       " (12, 20),\n",
       " (13, 20),\n",
       " (14, 20),\n",
       " (10, 21),\n",
       " (10, 22),\n",
       " (11, 21),\n",
       " (11, 22),\n",
       " (12, 21),\n",
       " (12, 22),\n",
       " (13, 21),\n",
       " (13, 22),\n",
       " (14, 21),\n",
       " (14, 22),\n",
       " (10, 23),\n",
       " (10, 24),\n",
       " (11, 23),\n",
       " (11, 24),\n",
       " (12, 23),\n",
       " (12, 24),\n",
       " (13, 23),\n",
       " (13, 24),\n",
       " (14, 23),\n",
       " (14, 24),\n",
       " (10, 25),\n",
       " (11, 25),\n",
       " (12, 25),\n",
       " (13, 25),\n",
       " (14, 25),\n",
       " (10, 26),\n",
       " (10, 27),\n",
       " (11, 26),\n",
       " (11, 27),\n",
       " (12, 26),\n",
       " (12, 27),\n",
       " (13, 26),\n",
       " (13, 27),\n",
       " (14, 26),\n",
       " (14, 27),\n",
       " (10, 28),\n",
       " (10, 29),\n",
       " (11, 28),\n",
       " (11, 29),\n",
       " (12, 28),\n",
       " (12, 29),\n",
       " (13, 28),\n",
       " (13, 29),\n",
       " (14, 28),\n",
       " (14, 29),\n",
       " (15, 10),\n",
       " (16, 10),\n",
       " (17, 10),\n",
       " (18, 10),\n",
       " (19, 10),\n",
       " (15, 11),\n",
       " (15, 12),\n",
       " (16, 11),\n",
       " (16, 12),\n",
       " (17, 11),\n",
       " (17, 12),\n",
       " (18, 11),\n",
       " (18, 12),\n",
       " (19, 11),\n",
       " (19, 12),\n",
       " (15, 13),\n",
       " (15, 14),\n",
       " (16, 13),\n",
       " (16, 14),\n",
       " (17, 13),\n",
       " (17, 14),\n",
       " (18, 13),\n",
       " (18, 14),\n",
       " (19, 13),\n",
       " (19, 14),\n",
       " (15, 15),\n",
       " (16, 15),\n",
       " (17, 15),\n",
       " (18, 15),\n",
       " (19, 15),\n",
       " (15, 16),\n",
       " (15, 17),\n",
       " (16, 16),\n",
       " (16, 17),\n",
       " (17, 16),\n",
       " (17, 17),\n",
       " (18, 16),\n",
       " (18, 17),\n",
       " (19, 16),\n",
       " (19, 17),\n",
       " (15, 18),\n",
       " (15, 19),\n",
       " (16, 18),\n",
       " (16, 19),\n",
       " (17, 18),\n",
       " (17, 19),\n",
       " (18, 18),\n",
       " (18, 19),\n",
       " (19, 18),\n",
       " (19, 19),\n",
       " (15, 20),\n",
       " (16, 20),\n",
       " (17, 20),\n",
       " (18, 20),\n",
       " (19, 20),\n",
       " (15, 21),\n",
       " (15, 22),\n",
       " (16, 21),\n",
       " (16, 22),\n",
       " (17, 21),\n",
       " (17, 22),\n",
       " (18, 21),\n",
       " (18, 22),\n",
       " (19, 21),\n",
       " (19, 22),\n",
       " (15, 23),\n",
       " (15, 24),\n",
       " (16, 23),\n",
       " (16, 24),\n",
       " (17, 23),\n",
       " (17, 24),\n",
       " (18, 23),\n",
       " (18, 24),\n",
       " (19, 23),\n",
       " (19, 24),\n",
       " (15, 25),\n",
       " (16, 25),\n",
       " (17, 25),\n",
       " (18, 25),\n",
       " (19, 25),\n",
       " (15, 26),\n",
       " (15, 27),\n",
       " (16, 26),\n",
       " (16, 27),\n",
       " (17, 26),\n",
       " (17, 27),\n",
       " (18, 26),\n",
       " (18, 27),\n",
       " (19, 26),\n",
       " (19, 27),\n",
       " (15, 28),\n",
       " (15, 29),\n",
       " (16, 28),\n",
       " (16, 29),\n",
       " (17, 28),\n",
       " (17, 29),\n",
       " (18, 28),\n",
       " (18, 29),\n",
       " (19, 28),\n",
       " (19, 29)]"
      ]
     },
     "execution_count": 33,
     "metadata": {},
     "output_type": "execute_result"
    }
   ],
   "source": [
    "cartesian = myrdd.cartesian(myrdd2)\n",
    "cartesian.collect()"
   ]
  },
  {
   "cell_type": "markdown",
   "metadata": {},
   "source": [
    "## Actions"
   ]
  },
  {
   "cell_type": "code",
   "execution_count": 37,
   "metadata": {},
   "outputs": [
    {
     "name": "stderr",
     "output_type": "stream",
     "text": [
      "                                                                                \r"
     ]
    },
    {
     "data": {
      "text/plain": [
       "400"
      ]
     },
     "execution_count": 37,
     "metadata": {},
     "output_type": "execute_result"
    }
   ],
   "source": [
    "myrdd.cartesian(myrdd2).count()"
   ]
  },
  {
   "cell_type": "code",
   "execution_count": 38,
   "metadata": {},
   "outputs": [
    {
     "data": {
      "text/plain": [
       "defaultdict(int,\n",
       "            {0: 2,\n",
       "             1: 2,\n",
       "             4: 1,\n",
       "             8: 1,\n",
       "             9: 1,\n",
       "             27: 1,\n",
       "             16: 1,\n",
       "             64: 2,\n",
       "             25: 1,\n",
       "             125: 1,\n",
       "             36: 1,\n",
       "             216: 1,\n",
       "             49: 1,\n",
       "             343: 1,\n",
       "             512: 1,\n",
       "             81: 1,\n",
       "             729: 1,\n",
       "             100: 1,\n",
       "             1000: 1,\n",
       "             121: 1,\n",
       "             1331: 1,\n",
       "             144: 1,\n",
       "             1728: 1,\n",
       "             169: 1,\n",
       "             2197: 1,\n",
       "             196: 1,\n",
       "             2744: 1,\n",
       "             225: 1,\n",
       "             3375: 1,\n",
       "             256: 1,\n",
       "             4096: 1,\n",
       "             289: 1,\n",
       "             4913: 1,\n",
       "             324: 1,\n",
       "             5832: 1,\n",
       "             361: 1,\n",
       "             6859: 1})"
      ]
     },
     "execution_count": 38,
     "metadata": {},
     "output_type": "execute_result"
    }
   ],
   "source": [
    "withflatmap.countByValue()"
   ]
  },
  {
   "cell_type": "code",
   "execution_count": 40,
   "metadata": {},
   "outputs": [
    {
     "data": {
      "text/plain": [
       "[0, 1, 2]"
      ]
     },
     "execution_count": 40,
     "metadata": {},
     "output_type": "execute_result"
    }
   ],
   "source": [
    "myrdd.take(3)"
   ]
  },
  {
   "cell_type": "code",
   "execution_count": 41,
   "metadata": {},
   "outputs": [
    {
     "data": {
      "text/plain": [
       "[19, 18, 17]"
      ]
     },
     "execution_count": 41,
     "metadata": {},
     "output_type": "execute_result"
    }
   ],
   "source": [
    "myrdd.top(3)"
   ]
  }
 ],
 "metadata": {
  "kernelspec": {
   "display_name": "Python 3 (ipykernel)",
   "language": "python",
   "name": "python3"
  },
  "language_info": {
   "codemirror_mode": {
    "name": "ipython",
    "version": 3
   },
   "file_extension": ".py",
   "mimetype": "text/x-python",
   "name": "python",
   "nbconvert_exporter": "python",
   "pygments_lexer": "ipython3",
   "version": "3.10.9"
  }
 },
 "nbformat": 4,
 "nbformat_minor": 1
}
